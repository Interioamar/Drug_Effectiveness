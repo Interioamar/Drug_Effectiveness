{
 "cells": [
  {
   "cell_type": "markdown",
   "metadata": {
    "id": "o9fciGc7s5Vu"
   },
   "source": [
    "#### 1. Business Problem "
   ]
  },
  {
   "cell_type": "markdown",
   "metadata": {
    "id": "LRzmxjKxs5Vw"
   },
   "source": [
    "##### 1.1 Description "
   ]
  },
  {
   "cell_type": "markdown",
   "metadata": {
    "id": "1nlaIYe9s5Vx"
   },
   "source": [
    "*  the startup is required to tabulate all drugs that they have sold and account\n",
    "for each drug's effectiveness. \n",
    "* features as the input. Also, use the input to predict the base score of a certain drug in a provided\n",
    "case.\n",
    "\n"
   ]
  },
  {
   "cell_type": "markdown",
   "metadata": {
    "id": "VIam5Aaks5V9"
   },
   "source": [
    "#### 2. Machine Learning Probelm"
   ]
  },
  {
   "cell_type": "markdown",
   "metadata": {
    "id": "JfBn0LYPs5WI"
   },
   "source": [
    "##### 2.1 Type of Machine Leaning Problem \n",
    "* Regression problem to predict the base score"
   ]
  },
  {
   "cell_type": "markdown",
   "metadata": {
    "id": "keZOL1las5WL"
   },
   "source": [
    "##### 2.2 Performance Metric \n",
    "* <b>RMSE</b>\n",
    "* MSE\n",
    "\n",
    "\n",
    "##### References:\n",
    "* https://machinelearningmastery.com/regression-metrics-for-machine-learning/\n",
    "*https://akhilendra.com/evaluation-metrics-regression-mae-mse-rmse-rmsle/#:~:text=MSE%20is%20highly%20biased%20for,lower%20residual%20values%20are%20preferred.\n",
    "*https://www.statology.org/mse-vs-rmse/#:~:text=RMSE%20vs.,units%20of%20the%20response%20variable.\n",
    "\n"
   ]
  },
  {
   "cell_type": "markdown",
   "metadata": {
    "id": "Zgp0e-GHzo5i"
   },
   "source": [
    "#### 3. Loading Data"
   ]
  },
  {
   "cell_type": "code",
   "execution_count": 1,
   "metadata": {
    "colab": {
     "base_uri": "https://localhost:8080/"
    },
    "id": "oONWz99ey0Q9",
    "outputId": "563e72b6-264b-42d4-c8d1-7f5cf5c05e45"
   },
   "outputs": [
    {
     "name": "stdout",
     "output_type": "stream",
     "text": [
      "Mounted at /content/drive\n"
     ]
    }
   ],
   "source": [
    "from google.colab import drive\n",
    "drive.mount('/content/drive')"
   ]
  },
  {
   "cell_type": "code",
   "execution_count": 2,
   "metadata": {
    "colab": {
     "base_uri": "https://localhost:8080/"
    },
    "id": "QTaeXy-ly0WD",
    "outputId": "3d304a9a-d9a6-4777-a494-e90c7cb1266c"
   },
   "outputs": [
    {
     "name": "stdout",
     "output_type": "stream",
     "text": [
      "Archive:  /content/drive/My Drive/916e0d48-7-dataset.zip\n",
      "   creating: dataset/\n",
      "  inflating: dataset/test.csv        \n",
      "  inflating: dataset/train.csv       \n"
     ]
    }
   ],
   "source": [
    "!unzip \"/content/drive/My Drive/916e0d48-7-dataset.zip\""
   ]
  },
  {
   "cell_type": "code",
   "execution_count": 3,
   "metadata": {
    "colab": {
     "base_uri": "https://localhost:8080/",
     "height": 580
    },
    "id": "X1qgPs0Iy0Ye",
    "outputId": "09608bc6-ec04-408b-98f3-7996a982ac11"
   },
   "outputs": [
    {
     "data": {
      "text/html": [
       "\n",
       "  <div id=\"df-26d66f38-fbe4-4359-a3d7-a6efb3516daa\">\n",
       "    <div class=\"colab-df-container\">\n",
       "      <div>\n",
       "<style scoped>\n",
       "    .dataframe tbody tr th:only-of-type {\n",
       "        vertical-align: middle;\n",
       "    }\n",
       "\n",
       "    .dataframe tbody tr th {\n",
       "        vertical-align: top;\n",
       "    }\n",
       "\n",
       "    .dataframe thead th {\n",
       "        text-align: right;\n",
       "    }\n",
       "</style>\n",
       "<table border=\"1\" class=\"dataframe\">\n",
       "  <thead>\n",
       "    <tr style=\"text-align: right;\">\n",
       "      <th></th>\n",
       "      <th>patient_id</th>\n",
       "      <th>name_of_drug</th>\n",
       "      <th>use_case_for_drug</th>\n",
       "      <th>review_by_patient</th>\n",
       "      <th>effectiveness_rating</th>\n",
       "      <th>drug_approved_by_UIC</th>\n",
       "      <th>number_of_times_prescribed</th>\n",
       "      <th>base_score</th>\n",
       "    </tr>\n",
       "  </thead>\n",
       "  <tbody>\n",
       "    <tr>\n",
       "      <th>0</th>\n",
       "      <td>206461</td>\n",
       "      <td>Valsartan</td>\n",
       "      <td>Left Ventricular Dysfunction</td>\n",
       "      <td>\"It has no side effect, I take it in combinati...</td>\n",
       "      <td>9</td>\n",
       "      <td>20-May-12</td>\n",
       "      <td>27</td>\n",
       "      <td>8.022969</td>\n",
       "    </tr>\n",
       "    <tr>\n",
       "      <th>1</th>\n",
       "      <td>95260</td>\n",
       "      <td>Guanfacine</td>\n",
       "      <td>ADHD</td>\n",
       "      <td>\"My son is halfway through his fourth week of ...</td>\n",
       "      <td>8</td>\n",
       "      <td>27-Apr-10</td>\n",
       "      <td>192</td>\n",
       "      <td>7.858458</td>\n",
       "    </tr>\n",
       "    <tr>\n",
       "      <th>2</th>\n",
       "      <td>92703</td>\n",
       "      <td>Lybrel</td>\n",
       "      <td>Birth Control</td>\n",
       "      <td>\"I used to take another oral contraceptive, wh...</td>\n",
       "      <td>5</td>\n",
       "      <td>14-Dec-09</td>\n",
       "      <td>17</td>\n",
       "      <td>6.341969</td>\n",
       "    </tr>\n",
       "    <tr>\n",
       "      <th>3</th>\n",
       "      <td>35696</td>\n",
       "      <td>Buprenorphine / naloxone</td>\n",
       "      <td>Opiate Dependence</td>\n",
       "      <td>\"Suboxone has completely turned my life around...</td>\n",
       "      <td>9</td>\n",
       "      <td>27-Nov-16</td>\n",
       "      <td>37</td>\n",
       "      <td>6.590176</td>\n",
       "    </tr>\n",
       "    <tr>\n",
       "      <th>4</th>\n",
       "      <td>155963</td>\n",
       "      <td>Cialis</td>\n",
       "      <td>Benign Prostatic Hyperplasia</td>\n",
       "      <td>\"2nd day on 5mg started to work with rock hard...</td>\n",
       "      <td>2</td>\n",
       "      <td>28-Nov-15</td>\n",
       "      <td>43</td>\n",
       "      <td>6.144782</td>\n",
       "    </tr>\n",
       "    <tr>\n",
       "      <th>5</th>\n",
       "      <td>48928</td>\n",
       "      <td>Ethinyl estradiol / levonorgestrel</td>\n",
       "      <td>Birth Control</td>\n",
       "      <td>\"I had been on the pill for many years. When m...</td>\n",
       "      <td>8</td>\n",
       "      <td>8-Dec-16</td>\n",
       "      <td>1</td>\n",
       "      <td>5.691792</td>\n",
       "    </tr>\n",
       "    <tr>\n",
       "      <th>6</th>\n",
       "      <td>75612</td>\n",
       "      <td>L-methylfolate</td>\n",
       "      <td>Depression</td>\n",
       "      <td>\"I have taken anti-depressants for years, with...</td>\n",
       "      <td>10</td>\n",
       "      <td>9-Mar-17</td>\n",
       "      <td>54</td>\n",
       "      <td>8.563274</td>\n",
       "    </tr>\n",
       "    <tr>\n",
       "      <th>7</th>\n",
       "      <td>219869</td>\n",
       "      <td>Amitriptyline</td>\n",
       "      <td>ibromyalgia</td>\n",
       "      <td>\"I&amp;#039;ve been taking amitriptyline since Jan...</td>\n",
       "      <td>9</td>\n",
       "      <td>15-Mar-17</td>\n",
       "      <td>39</td>\n",
       "      <td>7.301039</td>\n",
       "    </tr>\n",
       "    <tr>\n",
       "      <th>8</th>\n",
       "      <td>212077</td>\n",
       "      <td>Lamotrigine</td>\n",
       "      <td>Bipolar Disorde</td>\n",
       "      <td>\"I&amp;#039;ve been on every medicine under the su...</td>\n",
       "      <td>10</td>\n",
       "      <td>9-Nov-14</td>\n",
       "      <td>18</td>\n",
       "      <td>6.633970</td>\n",
       "    </tr>\n",
       "    <tr>\n",
       "      <th>9</th>\n",
       "      <td>12372</td>\n",
       "      <td>Atripla</td>\n",
       "      <td>HIV Infection</td>\n",
       "      <td>\"Spring of 2008 I was hospitalized with pnuemo...</td>\n",
       "      <td>8</td>\n",
       "      <td>9-Jul-10</td>\n",
       "      <td>11</td>\n",
       "      <td>6.562116</td>\n",
       "    </tr>\n",
       "  </tbody>\n",
       "</table>\n",
       "</div>\n",
       "      <button class=\"colab-df-convert\" onclick=\"convertToInteractive('df-26d66f38-fbe4-4359-a3d7-a6efb3516daa')\"\n",
       "              title=\"Convert this dataframe to an interactive table.\"\n",
       "              style=\"display:none;\">\n",
       "        \n",
       "  <svg xmlns=\"http://www.w3.org/2000/svg\" height=\"24px\"viewBox=\"0 0 24 24\"\n",
       "       width=\"24px\">\n",
       "    <path d=\"M0 0h24v24H0V0z\" fill=\"none\"/>\n",
       "    <path d=\"M18.56 5.44l.94 2.06.94-2.06 2.06-.94-2.06-.94-.94-2.06-.94 2.06-2.06.94zm-11 1L8.5 8.5l.94-2.06 2.06-.94-2.06-.94L8.5 2.5l-.94 2.06-2.06.94zm10 10l.94 2.06.94-2.06 2.06-.94-2.06-.94-.94-2.06-.94 2.06-2.06.94z\"/><path d=\"M17.41 7.96l-1.37-1.37c-.4-.4-.92-.59-1.43-.59-.52 0-1.04.2-1.43.59L10.3 9.45l-7.72 7.72c-.78.78-.78 2.05 0 2.83L4 21.41c.39.39.9.59 1.41.59.51 0 1.02-.2 1.41-.59l7.78-7.78 2.81-2.81c.8-.78.8-2.07 0-2.86zM5.41 20L4 18.59l7.72-7.72 1.47 1.35L5.41 20z\"/>\n",
       "  </svg>\n",
       "      </button>\n",
       "      \n",
       "  <style>\n",
       "    .colab-df-container {\n",
       "      display:flex;\n",
       "      flex-wrap:wrap;\n",
       "      gap: 12px;\n",
       "    }\n",
       "\n",
       "    .colab-df-convert {\n",
       "      background-color: #E8F0FE;\n",
       "      border: none;\n",
       "      border-radius: 50%;\n",
       "      cursor: pointer;\n",
       "      display: none;\n",
       "      fill: #1967D2;\n",
       "      height: 32px;\n",
       "      padding: 0 0 0 0;\n",
       "      width: 32px;\n",
       "    }\n",
       "\n",
       "    .colab-df-convert:hover {\n",
       "      background-color: #E2EBFA;\n",
       "      box-shadow: 0px 1px 2px rgba(60, 64, 67, 0.3), 0px 1px 3px 1px rgba(60, 64, 67, 0.15);\n",
       "      fill: #174EA6;\n",
       "    }\n",
       "\n",
       "    [theme=dark] .colab-df-convert {\n",
       "      background-color: #3B4455;\n",
       "      fill: #D2E3FC;\n",
       "    }\n",
       "\n",
       "    [theme=dark] .colab-df-convert:hover {\n",
       "      background-color: #434B5C;\n",
       "      box-shadow: 0px 1px 3px 1px rgba(0, 0, 0, 0.15);\n",
       "      filter: drop-shadow(0px 1px 2px rgba(0, 0, 0, 0.3));\n",
       "      fill: #FFFFFF;\n",
       "    }\n",
       "  </style>\n",
       "\n",
       "      <script>\n",
       "        const buttonEl =\n",
       "          document.querySelector('#df-26d66f38-fbe4-4359-a3d7-a6efb3516daa button.colab-df-convert');\n",
       "        buttonEl.style.display =\n",
       "          google.colab.kernel.accessAllowed ? 'block' : 'none';\n",
       "\n",
       "        async function convertToInteractive(key) {\n",
       "          const element = document.querySelector('#df-26d66f38-fbe4-4359-a3d7-a6efb3516daa');\n",
       "          const dataTable =\n",
       "            await google.colab.kernel.invokeFunction('convertToInteractive',\n",
       "                                                     [key], {});\n",
       "          if (!dataTable) return;\n",
       "\n",
       "          const docLinkHtml = 'Like what you see? Visit the ' +\n",
       "            '<a target=\"_blank\" href=https://colab.research.google.com/notebooks/data_table.ipynb>data table notebook</a>'\n",
       "            + ' to learn more about interactive tables.';\n",
       "          element.innerHTML = '';\n",
       "          dataTable['output_type'] = 'display_data';\n",
       "          await google.colab.output.renderOutput(dataTable, element);\n",
       "          const docLink = document.createElement('div');\n",
       "          docLink.innerHTML = docLinkHtml;\n",
       "          element.appendChild(docLink);\n",
       "        }\n",
       "      </script>\n",
       "    </div>\n",
       "  </div>\n",
       "  "
      ],
      "text/plain": [
       "   patient_id                        name_of_drug  \\\n",
       "0      206461                           Valsartan   \n",
       "1       95260                          Guanfacine   \n",
       "2       92703                              Lybrel   \n",
       "3       35696            Buprenorphine / naloxone   \n",
       "4      155963                              Cialis   \n",
       "5       48928  Ethinyl estradiol / levonorgestrel   \n",
       "6       75612                      L-methylfolate   \n",
       "7      219869                       Amitriptyline   \n",
       "8      212077                         Lamotrigine   \n",
       "9       12372                             Atripla   \n",
       "\n",
       "              use_case_for_drug  \\\n",
       "0  Left Ventricular Dysfunction   \n",
       "1                          ADHD   \n",
       "2                 Birth Control   \n",
       "3             Opiate Dependence   \n",
       "4  Benign Prostatic Hyperplasia   \n",
       "5                 Birth Control   \n",
       "6                    Depression   \n",
       "7                   ibromyalgia   \n",
       "8               Bipolar Disorde   \n",
       "9                 HIV Infection   \n",
       "\n",
       "                                   review_by_patient  effectiveness_rating  \\\n",
       "0  \"It has no side effect, I take it in combinati...                     9   \n",
       "1  \"My son is halfway through his fourth week of ...                     8   \n",
       "2  \"I used to take another oral contraceptive, wh...                     5   \n",
       "3  \"Suboxone has completely turned my life around...                     9   \n",
       "4  \"2nd day on 5mg started to work with rock hard...                     2   \n",
       "5  \"I had been on the pill for many years. When m...                     8   \n",
       "6  \"I have taken anti-depressants for years, with...                    10   \n",
       "7  \"I&#039;ve been taking amitriptyline since Jan...                     9   \n",
       "8  \"I&#039;ve been on every medicine under the su...                    10   \n",
       "9  \"Spring of 2008 I was hospitalized with pnuemo...                     8   \n",
       "\n",
       "  drug_approved_by_UIC  number_of_times_prescribed  base_score  \n",
       "0            20-May-12                          27    8.022969  \n",
       "1            27-Apr-10                         192    7.858458  \n",
       "2            14-Dec-09                          17    6.341969  \n",
       "3            27-Nov-16                          37    6.590176  \n",
       "4            28-Nov-15                          43    6.144782  \n",
       "5             8-Dec-16                           1    5.691792  \n",
       "6             9-Mar-17                          54    8.563274  \n",
       "7            15-Mar-17                          39    7.301039  \n",
       "8             9-Nov-14                          18    6.633970  \n",
       "9             9-Jul-10                          11    6.562116  "
      ]
     },
     "execution_count": 3,
     "metadata": {},
     "output_type": "execute_result"
    }
   ],
   "source": [
    "import pandas as pd\n",
    "\n",
    "df_train =pd.read_csv(\"dataset/train.csv\")\n",
    "df_test=pd.read_csv(\"dataset/test.csv\")\n",
    "df_train.head(10)"
   ]
  },
  {
   "cell_type": "markdown",
   "metadata": {
    "id": "3KKTKKBl4fGO"
   },
   "source": [
    "##### Observations:\n",
    "\n",
    "##### Input features:\n",
    "* Numeric columns : 2 (patient_id,number_of_times_prescribed)\n",
    "* Categorical/text columns: 3 (name_of_drug,review_by_patient,use_case_for_drug)\n",
    "* Date column: 1 (drug_approved_by_UIC)\n",
    "\n",
    "##### Target Column : effectiveness_rating\n"
   ]
  },
  {
   "cell_type": "markdown",
   "metadata": {
    "id": "g0QxknRPXl3W"
   },
   "source": [
    "#### 4. EDA"
   ]
  },
  {
   "cell_type": "markdown",
   "metadata": {
    "id": "T3gpQTLyJZNh"
   },
   "source": [
    "##### Checking the distribution of Target column by using binnig method"
   ]
  },
  {
   "cell_type": "code",
   "execution_count": 4,
   "metadata": {
    "colab": {
     "base_uri": "https://localhost:8080/"
    },
    "id": "QNpMnmddJkqu",
    "outputId": "1335d29b-e0cf-482b-aef0-662e7adb9d7a"
   },
   "outputs": [
    {
     "name": "stdout",
     "output_type": "stream",
     "text": [
      "Unique values count of target column is :  1383\n",
      "minimum and maximum base_score of train data are :  0.899075571349414 8.992453031347313\n",
      "train data shape is : (32165, 8)\n"
     ]
    }
   ],
   "source": [
    "#checking whether all the data points have unique value of target value or not? and checking if there is any overlap/pattern\n",
    "print(\"Unique values count of target column is : \",df_train.base_score.unique().shape[0])\n",
    "print(\"minimum and maximum base_score of train data are : \",df_train['base_score'].min(),df_train['base_score'].max())\n",
    "print(\"train data shape is :\",df_train.shape)"
   ]
  },
  {
   "cell_type": "code",
   "execution_count": 5,
   "metadata": {
    "colab": {
     "base_uri": "https://localhost:8080/",
     "height": 300
    },
    "id": "CTFxOLv8cQZb",
    "outputId": "c3179c0e-7b05-428c-cc44-014ea5ba0401"
   },
   "outputs": [
    {
     "data": {
      "text/html": [
       "\n",
       "  <div id=\"df-ea1bba08-851c-4b3f-85df-ad689699afd1\">\n",
       "    <div class=\"colab-df-container\">\n",
       "      <div>\n",
       "<style scoped>\n",
       "    .dataframe tbody tr th:only-of-type {\n",
       "        vertical-align: middle;\n",
       "    }\n",
       "\n",
       "    .dataframe tbody tr th {\n",
       "        vertical-align: top;\n",
       "    }\n",
       "\n",
       "    .dataframe thead th {\n",
       "        text-align: right;\n",
       "    }\n",
       "</style>\n",
       "<table border=\"1\" class=\"dataframe\">\n",
       "  <thead>\n",
       "    <tr style=\"text-align: right;\">\n",
       "      <th></th>\n",
       "      <th>patient_id</th>\n",
       "      <th>effectiveness_rating</th>\n",
       "      <th>number_of_times_prescribed</th>\n",
       "      <th>base_score</th>\n",
       "    </tr>\n",
       "  </thead>\n",
       "  <tbody>\n",
       "    <tr>\n",
       "      <th>count</th>\n",
       "      <td>32165.000000</td>\n",
       "      <td>32165.000000</td>\n",
       "      <td>32165.000000</td>\n",
       "      <td>32165.000000</td>\n",
       "    </tr>\n",
       "    <tr>\n",
       "      <th>mean</th>\n",
       "      <td>115487.511052</td>\n",
       "      <td>6.998912</td>\n",
       "      <td>27.893207</td>\n",
       "      <td>6.664261</td>\n",
       "    </tr>\n",
       "    <tr>\n",
       "      <th>std</th>\n",
       "      <td>67146.156602</td>\n",
       "      <td>3.274781</td>\n",
       "      <td>35.819035</td>\n",
       "      <td>1.588699</td>\n",
       "    </tr>\n",
       "    <tr>\n",
       "      <th>min</th>\n",
       "      <td>9.000000</td>\n",
       "      <td>1.000000</td>\n",
       "      <td>0.000000</td>\n",
       "      <td>0.899076</td>\n",
       "    </tr>\n",
       "    <tr>\n",
       "      <th>25%</th>\n",
       "      <td>56922.000000</td>\n",
       "      <td>5.000000</td>\n",
       "      <td>6.000000</td>\n",
       "      <td>6.109307</td>\n",
       "    </tr>\n",
       "    <tr>\n",
       "      <th>50%</th>\n",
       "      <td>115776.000000</td>\n",
       "      <td>8.000000</td>\n",
       "      <td>16.000000</td>\n",
       "      <td>6.788245</td>\n",
       "    </tr>\n",
       "    <tr>\n",
       "      <th>75%</th>\n",
       "      <td>173562.000000</td>\n",
       "      <td>10.000000</td>\n",
       "      <td>36.000000</td>\n",
       "      <td>7.900790</td>\n",
       "    </tr>\n",
       "    <tr>\n",
       "      <th>max</th>\n",
       "      <td>232289.000000</td>\n",
       "      <td>10.000000</td>\n",
       "      <td>771.000000</td>\n",
       "      <td>8.992453</td>\n",
       "    </tr>\n",
       "  </tbody>\n",
       "</table>\n",
       "</div>\n",
       "      <button class=\"colab-df-convert\" onclick=\"convertToInteractive('df-ea1bba08-851c-4b3f-85df-ad689699afd1')\"\n",
       "              title=\"Convert this dataframe to an interactive table.\"\n",
       "              style=\"display:none;\">\n",
       "        \n",
       "  <svg xmlns=\"http://www.w3.org/2000/svg\" height=\"24px\"viewBox=\"0 0 24 24\"\n",
       "       width=\"24px\">\n",
       "    <path d=\"M0 0h24v24H0V0z\" fill=\"none\"/>\n",
       "    <path d=\"M18.56 5.44l.94 2.06.94-2.06 2.06-.94-2.06-.94-.94-2.06-.94 2.06-2.06.94zm-11 1L8.5 8.5l.94-2.06 2.06-.94-2.06-.94L8.5 2.5l-.94 2.06-2.06.94zm10 10l.94 2.06.94-2.06 2.06-.94-2.06-.94-.94-2.06-.94 2.06-2.06.94z\"/><path d=\"M17.41 7.96l-1.37-1.37c-.4-.4-.92-.59-1.43-.59-.52 0-1.04.2-1.43.59L10.3 9.45l-7.72 7.72c-.78.78-.78 2.05 0 2.83L4 21.41c.39.39.9.59 1.41.59.51 0 1.02-.2 1.41-.59l7.78-7.78 2.81-2.81c.8-.78.8-2.07 0-2.86zM5.41 20L4 18.59l7.72-7.72 1.47 1.35L5.41 20z\"/>\n",
       "  </svg>\n",
       "      </button>\n",
       "      \n",
       "  <style>\n",
       "    .colab-df-container {\n",
       "      display:flex;\n",
       "      flex-wrap:wrap;\n",
       "      gap: 12px;\n",
       "    }\n",
       "\n",
       "    .colab-df-convert {\n",
       "      background-color: #E8F0FE;\n",
       "      border: none;\n",
       "      border-radius: 50%;\n",
       "      cursor: pointer;\n",
       "      display: none;\n",
       "      fill: #1967D2;\n",
       "      height: 32px;\n",
       "      padding: 0 0 0 0;\n",
       "      width: 32px;\n",
       "    }\n",
       "\n",
       "    .colab-df-convert:hover {\n",
       "      background-color: #E2EBFA;\n",
       "      box-shadow: 0px 1px 2px rgba(60, 64, 67, 0.3), 0px 1px 3px 1px rgba(60, 64, 67, 0.15);\n",
       "      fill: #174EA6;\n",
       "    }\n",
       "\n",
       "    [theme=dark] .colab-df-convert {\n",
       "      background-color: #3B4455;\n",
       "      fill: #D2E3FC;\n",
       "    }\n",
       "\n",
       "    [theme=dark] .colab-df-convert:hover {\n",
       "      background-color: #434B5C;\n",
       "      box-shadow: 0px 1px 3px 1px rgba(0, 0, 0, 0.15);\n",
       "      filter: drop-shadow(0px 1px 2px rgba(0, 0, 0, 0.3));\n",
       "      fill: #FFFFFF;\n",
       "    }\n",
       "  </style>\n",
       "\n",
       "      <script>\n",
       "        const buttonEl =\n",
       "          document.querySelector('#df-ea1bba08-851c-4b3f-85df-ad689699afd1 button.colab-df-convert');\n",
       "        buttonEl.style.display =\n",
       "          google.colab.kernel.accessAllowed ? 'block' : 'none';\n",
       "\n",
       "        async function convertToInteractive(key) {\n",
       "          const element = document.querySelector('#df-ea1bba08-851c-4b3f-85df-ad689699afd1');\n",
       "          const dataTable =\n",
       "            await google.colab.kernel.invokeFunction('convertToInteractive',\n",
       "                                                     [key], {});\n",
       "          if (!dataTable) return;\n",
       "\n",
       "          const docLinkHtml = 'Like what you see? Visit the ' +\n",
       "            '<a target=\"_blank\" href=https://colab.research.google.com/notebooks/data_table.ipynb>data table notebook</a>'\n",
       "            + ' to learn more about interactive tables.';\n",
       "          element.innerHTML = '';\n",
       "          dataTable['output_type'] = 'display_data';\n",
       "          await google.colab.output.renderOutput(dataTable, element);\n",
       "          const docLink = document.createElement('div');\n",
       "          docLink.innerHTML = docLinkHtml;\n",
       "          element.appendChild(docLink);\n",
       "        }\n",
       "      </script>\n",
       "    </div>\n",
       "  </div>\n",
       "  "
      ],
      "text/plain": [
       "          patient_id  effectiveness_rating  number_of_times_prescribed  \\\n",
       "count   32165.000000          32165.000000                32165.000000   \n",
       "mean   115487.511052              6.998912                   27.893207   \n",
       "std     67146.156602              3.274781                   35.819035   \n",
       "min         9.000000              1.000000                    0.000000   \n",
       "25%     56922.000000              5.000000                    6.000000   \n",
       "50%    115776.000000              8.000000                   16.000000   \n",
       "75%    173562.000000             10.000000                   36.000000   \n",
       "max    232289.000000             10.000000                  771.000000   \n",
       "\n",
       "         base_score  \n",
       "count  32165.000000  \n",
       "mean       6.664261  \n",
       "std        1.588699  \n",
       "min        0.899076  \n",
       "25%        6.109307  \n",
       "50%        6.788245  \n",
       "75%        7.900790  \n",
       "max        8.992453  "
      ]
     },
     "execution_count": 5,
     "metadata": {},
     "output_type": "execute_result"
    }
   ],
   "source": [
    "df_train.describe()"
   ]
  },
  {
   "cell_type": "code",
   "execution_count": 6,
   "metadata": {
    "colab": {
     "base_uri": "https://localhost:8080/",
     "height": 351
    },
    "id": "BcpmsNJq5KNN",
    "outputId": "7644e59e-ff79-4f2d-dfad-8c6a6191b358"
   },
   "outputs": [
    {
     "data": {
      "image/png": "[encoded data removed]",
      "text/plain": [
       "<Figure size 360x360 with 1 Axes>"
      ]
     },
     "metadata": {
      "needs_background": "light"
     },
     "output_type": "display_data"
    }
   ],
   "source": [
    "#https://matplotlib.org/stable/api/_as_gen/matplotlib.pyplot.hist.html  ->> histogram \n",
    "import matplotlib.pyplot as plt\n",
    "import numpy as np\n",
    "plt.figure(figsize=(5,5))\n",
    "plt.hist(df_train['base_score'],bins=10) #bin size is choosed based on min and max value\n",
    "plt.xlabel(\"binned base_score\")\n",
    "plt.ylabel(\"Count\")\n",
    "plt.title(\"train base_score distribution\")\n",
    "plt.show()"
   ]
  },
  {
   "cell_type": "code",
   "execution_count": 7,
   "metadata": {
    "colab": {
     "base_uri": "https://localhost:8080/"
    },
    "id": "B5oLBgLjYpdd",
    "outputId": "d6f8b1c6-f8e6-4266-a996-0526cdc6e919"
   },
   "outputs": [
    {
     "name": "stdout",
     "output_type": "stream",
     "text": [
      "total distinct use_case of drug in train are:  636\n",
      "total distinct drugs used in train are:  2220\n",
      "==================================================\n",
      "total distinct use_case of drug in test data  are:  461\n",
      "total distinct drugs used in test data are:  1478\n"
     ]
    }
   ],
   "source": [
    "print(\"total distinct use_case of drug in train are: \",df_train[\"use_case_for_drug\"].unique().shape[0])\n",
    "print(\"total distinct drugs used in train are: \",df_train[\"name_of_drug\"].unique().shape[0])\n",
    "print(\"=\"*50)\n",
    "print(\"total distinct use_case of drug in test data  are: \",df_test[\"use_case_for_drug\"].unique().shape[0])\n",
    "print(\"total distinct drugs used in test data are: \",df_test[\"name_of_drug\"].unique().shape[0])\n",
    "\n",
    "#check point:\n",
    "# distinct values in test data for \"use_case_for_drug\" & \"name_of_drug\" are less than equals to train data"
   ]
  },
  {
   "cell_type": "code",
   "execution_count": 8,
   "metadata": {
    "colab": {
     "base_uri": "https://localhost:8080/"
    },
    "id": "N5olR4rCa-9U",
    "outputId": "e1f62a7b-fc20-41db-d7da-8c33016bd1a5"
   },
   "outputs": [
    {
     "name": "stdout",
     "output_type": "stream",
     "text": [
      "Finding the null fields if any present in train data:   Index([], dtype='object')\n",
      "Finding the null fields if any present in test data:   Index([], dtype='object')\n"
     ]
    }
   ],
   "source": [
    "#checking the null column in train/test data\n",
    "print(\"Finding the null fields if any present in train data:  \",df_train.columns[df_train.isnull().any()])\n",
    "print(\"Finding the null fields if any present in test data:  \",df_test.columns[df_test.isnull().any()])\n",
    "\n",
    "#Observations:\n",
    "# no null fields are present for any of the columns in train/test"
   ]
  },
  {
   "cell_type": "code",
   "execution_count": 9,
   "metadata": {
    "colab": {
     "base_uri": "https://localhost:8080/"
    },
    "id": "s7Jxfkql5Kea",
    "outputId": "0e28c28d-6f06-485f-91f9-3c58cecf4885"
   },
   "outputs": [
    {
     "name": "stdout",
     "output_type": "stream",
     "text": [
      "distinct records based on patient_id columns is : 32165\n",
      "Duplicate record count is : 0\n"
     ]
    }
   ],
   "source": [
    "#duplicate record check in the data based on primary_key columns\n",
    "#https://stackoverflow.com/questions/35584085/how-to-count-duplicate-rows-in-pandas-dataframe  -->> using group by expression\n",
    "print(\"distinct records based on patient_id columns is :\",df_train.groupby(by=\"patient_id\").size().count())\n",
    "print(\"Duplicate record count is :\",df_train.groupby(by=\"patient_id\").size().count()-df_train.shape[0])"
   ]
  },
  {
   "cell_type": "markdown",
   "metadata": {
    "id": "HIdD9IXpiF0W"
   },
   "source": [
    "#### 5. Data Preprocessing"
   ]
  },
  {
   "cell_type": "code",
   "execution_count": 10,
   "metadata": {
    "id": "B49ue9ixrLyZ"
   },
   "outputs": [],
   "source": [
    "#https://www.w3schools.com/python/python_regex.asp --> regex function check\n",
    "#name_of_drug can have more than one drug specified so / is kept also text is lower cased and removed extra space and joined with _\n",
    "import regex as re\n",
    "df_train[\"name_of_drug\"]=df_train[\"name_of_drug\"].apply(lambda x: re.sub('[^A-Za-z0-9\\/]+', ' ',x)) #returns match excluding text and number ^ method\n",
    "df_train[\"name_of_drug\"]=df_train[\"name_of_drug\"].apply(lambda x: x.lower().replace(\" / \",\"/\").replace(\" \",\"_\"))\n",
    "\n",
    "\n",
    "#test data\n",
    "df_test[\"name_of_drug\"]=df_test[\"name_of_drug\"].apply(lambda x: re.sub('[^A-Za-z0-9\\/]+', ' ',x)) #returns match excluding text and number ^ method\n",
    "df_test[\"name_of_drug\"]=df_test[\"name_of_drug\"].apply(lambda x: x.lower().replace(\" / \",\"/\").replace(\" \",\"_\"))\n"
   ]
  },
  {
   "cell_type": "code",
   "execution_count": 11,
   "metadata": {
    "colab": {
     "base_uri": "https://localhost:8080/",
     "height": 354
    },
    "id": "ohYqUUbHy6Jz",
    "outputId": "33fe532c-ce83-4356-e056-7d1d87d403c2"
   },
   "outputs": [
    {
     "name": "stdout",
     "output_type": "stream",
     "text": [
      "No of records having <span> informations for use_case_for_drug are :  179\n"
     ]
    },
    {
     "data": {
      "text/html": [
       "\n",
       "  <div id=\"df-39f0382c-9179-4af3-9f76-1225a949d4f0\">\n",
       "    <div class=\"colab-df-container\">\n",
       "      <div>\n",
       "<style scoped>\n",
       "    .dataframe tbody tr th:only-of-type {\n",
       "        vertical-align: middle;\n",
       "    }\n",
       "\n",
       "    .dataframe tbody tr th {\n",
       "        vertical-align: top;\n",
       "    }\n",
       "\n",
       "    .dataframe thead th {\n",
       "        text-align: right;\n",
       "    }\n",
       "</style>\n",
       "<table border=\"1\" class=\"dataframe\">\n",
       "  <thead>\n",
       "    <tr style=\"text-align: right;\">\n",
       "      <th></th>\n",
       "      <th>patient_id</th>\n",
       "      <th>name_of_drug</th>\n",
       "      <th>use_case_for_drug</th>\n",
       "      <th>review_by_patient</th>\n",
       "      <th>effectiveness_rating</th>\n",
       "      <th>drug_approved_by_UIC</th>\n",
       "      <th>number_of_times_prescribed</th>\n",
       "      <th>base_score</th>\n",
       "    </tr>\n",
       "  </thead>\n",
       "  <tbody>\n",
       "    <tr>\n",
       "      <th>51</th>\n",
       "      <td>67383</td>\n",
       "      <td>provera</td>\n",
       "      <td>4&lt;/span&gt; users found this comment helpful.</td>\n",
       "      <td>\"I&amp;#039;m 24 years old and have always had a p...</td>\n",
       "      <td>1</td>\n",
       "      <td>27-Mar-16</td>\n",
       "      <td>4</td>\n",
       "      <td>6.548256</td>\n",
       "    </tr>\n",
       "    <tr>\n",
       "      <th>300</th>\n",
       "      <td>168137</td>\n",
       "      <td>jolessa</td>\n",
       "      <td>2&lt;/span&gt; users found this comment helpful.</td>\n",
       "      <td>\"I started Jolessa 6 months ago. The first pac...</td>\n",
       "      <td>3</td>\n",
       "      <td>9-Nov-10</td>\n",
       "      <td>2</td>\n",
       "      <td>8.309529</td>\n",
       "    </tr>\n",
       "    <tr>\n",
       "      <th>357</th>\n",
       "      <td>157314</td>\n",
       "      <td>latisse</td>\n",
       "      <td>8&lt;/span&gt; users found this comment helpful.</td>\n",
       "      <td>\"Lashes are much longer and fuller. No side ef...</td>\n",
       "      <td>10</td>\n",
       "      <td>15-Jan-12</td>\n",
       "      <td>8</td>\n",
       "      <td>7.737593</td>\n",
       "    </tr>\n",
       "    <tr>\n",
       "      <th>495</th>\n",
       "      <td>182965</td>\n",
       "      <td>cymbalta</td>\n",
       "      <td>4&lt;/span&gt; users found this comment helpful.</td>\n",
       "      <td>\"I suffer from PTSD and the associated issues ...</td>\n",
       "      <td>8</td>\n",
       "      <td>3-Nov-15</td>\n",
       "      <td>4</td>\n",
       "      <td>7.493870</td>\n",
       "    </tr>\n",
       "    <tr>\n",
       "      <th>665</th>\n",
       "      <td>80623</td>\n",
       "      <td>mobic</td>\n",
       "      <td>94&lt;/span&gt; users found this comment helpful.</td>\n",
       "      <td>\"I have been having severe hip pain for over 9...</td>\n",
       "      <td>8</td>\n",
       "      <td>18-May-08</td>\n",
       "      <td>94</td>\n",
       "      <td>4.884212</td>\n",
       "    </tr>\n",
       "  </tbody>\n",
       "</table>\n",
       "</div>\n",
       "      <button class=\"colab-df-convert\" onclick=\"convertToInteractive('df-39f0382c-9179-4af3-9f76-1225a949d4f0')\"\n",
       "              title=\"Convert this dataframe to an interactive table.\"\n",
       "              style=\"display:none;\">\n",
       "        \n",
       "  <svg xmlns=\"http://www.w3.org/2000/svg\" height=\"24px\"viewBox=\"0 0 24 24\"\n",
       "       width=\"24px\">\n",
       "    <path d=\"M0 0h24v24H0V0z\" fill=\"none\"/>\n",
       "    <path d=\"M18.56 5.44l.94 2.06.94-2.06 2.06-.94-2.06-.94-.94-2.06-.94 2.06-2.06.94zm-11 1L8.5 8.5l.94-2.06 2.06-.94-2.06-.94L8.5 2.5l-.94 2.06-2.06.94zm10 10l.94 2.06.94-2.06 2.06-.94-2.06-.94-.94-2.06-.94 2.06-2.06.94z\"/><path d=\"M17.41 7.96l-1.37-1.37c-.4-.4-.92-.59-1.43-.59-.52 0-1.04.2-1.43.59L10.3 9.45l-7.72 7.72c-.78.78-.78 2.05 0 2.83L4 21.41c.39.39.9.59 1.41.59.51 0 1.02-.2 1.41-.59l7.78-7.78 2.81-2.81c.8-.78.8-2.07 0-2.86zM5.41 20L4 18.59l7.72-7.72 1.47 1.35L5.41 20z\"/>\n",
       "  </svg>\n",
       "      </button>\n",
       "      \n",
       "  <style>\n",
       "    .colab-df-container {\n",
       "      display:flex;\n",
       "      flex-wrap:wrap;\n",
       "      gap: 12px;\n",
       "    }\n",
       "\n",
       "    .colab-df-convert {\n",
       "      background-color: #E8F0FE;\n",
       "      border: none;\n",
       "      border-radius: 50%;\n",
       "      cursor: pointer;\n",
       "      display: none;\n",
       "      fill: #1967D2;\n",
       "      height: 32px;\n",
       "      padding: 0 0 0 0;\n",
       "      width: 32px;\n",
       "    }\n",
       "\n",
       "    .colab-df-convert:hover {\n",
       "      background-color: #E2EBFA;\n",
       "      box-shadow: 0px 1px 2px rgba(60, 64, 67, 0.3), 0px 1px 3px 1px rgba(60, 64, 67, 0.15);\n",
       "      fill: #174EA6;\n",
       "    }\n",
       "\n",
       "    [theme=dark] .colab-df-convert {\n",
       "      background-color: #3B4455;\n",
       "      fill: #D2E3FC;\n",
       "    }\n",
       "\n",
       "    [theme=dark] .colab-df-convert:hover {\n",
       "      background-color: #434B5C;\n",
       "      box-shadow: 0px 1px 3px 1px rgba(0, 0, 0, 0.15);\n",
       "      filter: drop-shadow(0px 1px 2px rgba(0, 0, 0, 0.3));\n",
       "      fill: #FFFFFF;\n",
       "    }\n",
       "  </style>\n",
       "\n",
       "      <script>\n",
       "        const buttonEl =\n",
       "          document.querySelector('#df-39f0382c-9179-4af3-9f76-1225a949d4f0 button.colab-df-convert');\n",
       "        buttonEl.style.display =\n",
       "          google.colab.kernel.accessAllowed ? 'block' : 'none';\n",
       "\n",
       "        async function convertToInteractive(key) {\n",
       "          const element = document.querySelector('#df-39f0382c-9179-4af3-9f76-1225a949d4f0');\n",
       "          const dataTable =\n",
       "            await google.colab.kernel.invokeFunction('convertToInteractive',\n",
       "                                                     [key], {});\n",
       "          if (!dataTable) return;\n",
       "\n",
       "          const docLinkHtml = 'Like what you see? Visit the ' +\n",
       "            '<a target=\"_blank\" href=https://colab.research.google.com/notebooks/data_table.ipynb>data table notebook</a>'\n",
       "            + ' to learn more about interactive tables.';\n",
       "          element.innerHTML = '';\n",
       "          dataTable['output_type'] = 'display_data';\n",
       "          await google.colab.output.renderOutput(dataTable, element);\n",
       "          const docLink = document.createElement('div');\n",
       "          docLink.innerHTML = docLinkHtml;\n",
       "          element.appendChild(docLink);\n",
       "        }\n",
       "      </script>\n",
       "    </div>\n",
       "  </div>\n",
       "  "
      ],
      "text/plain": [
       "     patient_id name_of_drug                            use_case_for_drug  \\\n",
       "51        67383      provera   4</span> users found this comment helpful.   \n",
       "300      168137      jolessa   2</span> users found this comment helpful.   \n",
       "357      157314      latisse   8</span> users found this comment helpful.   \n",
       "495      182965     cymbalta   4</span> users found this comment helpful.   \n",
       "665       80623        mobic  94</span> users found this comment helpful.   \n",
       "\n",
       "                                     review_by_patient  effectiveness_rating  \\\n",
       "51   \"I&#039;m 24 years old and have always had a p...                     1   \n",
       "300  \"I started Jolessa 6 months ago. The first pac...                     3   \n",
       "357  \"Lashes are much longer and fuller. No side ef...                    10   \n",
       "495  \"I suffer from PTSD and the associated issues ...                     8   \n",
       "665  \"I have been having severe hip pain for over 9...                     8   \n",
       "\n",
       "    drug_approved_by_UIC  number_of_times_prescribed  base_score  \n",
       "51             27-Mar-16                           4    6.548256  \n",
       "300             9-Nov-10                           2    8.309529  \n",
       "357            15-Jan-12                           8    7.737593  \n",
       "495             3-Nov-15                           4    7.493870  \n",
       "665            18-May-08                          94    4.884212  "
      ]
     },
     "execution_count": 11,
     "metadata": {},
     "output_type": "execute_result"
    }
   ],
   "source": [
    "# list(filter(lambda x: '</span>' in x ,df_train[\"use_case_for_drug\"]))\n",
    "a=list(map(lambda x: True if '</span>' in x else False ,df_train[\"use_case_for_drug\"]))\n",
    "print(\"No of records having <span> informations for use_case_for_drug are : \",len(df_train[a]))\n",
    "df_train[a][:5]\n",
    "\n",
    "#Observations:\n",
    "# It seems no redundant data exist with </span> key word with other columns so records can be retained however use case of this type is not much expainatory"
   ]
  },
  {
   "cell_type": "code",
   "execution_count": 12,
   "metadata": {
    "id": "ox5tkC3fiWO_"
   },
   "outputs": [],
   "source": [
    "#https://www.w3schools.com/python/python_regex.asp\n",
    "# x=\"28</span> users found this comment helpful. Diabetes, Type 2.)\"\n",
    "# print(re.sub('(</span>)|[\\),.&#]','',x))\n",
    "\n",
    "df_train[\"use_case_for_drug\"]=df_train[\"use_case_for_drug\"].apply(lambda x: re.sub('(</span>)|[\\),.\\'\\(]','',x))\n",
    "df_train[\"use_case_for_drug\"]=df_train[\"use_case_for_drug\"].apply(lambda x: x.lower().replace(\" / \",\"/\").replace(\" \",\"_\"))\n",
    "\n",
    "#test data\n",
    "df_test[\"use_case_for_drug\"]=df_test[\"use_case_for_drug\"].apply(lambda x: re.sub('(</span>)|[\\),.\\'\\(]','',x))\n",
    "df_test[\"use_case_for_drug\"]=df_test[\"use_case_for_drug\"].apply(lambda x: x.lower().replace(\" / \",\"/\").replace(\" \",\"_\"))\n"
   ]
  },
  {
   "cell_type": "markdown",
   "metadata": {
    "id": "x9uP_HfaezoK"
   },
   "source": [
    "##### Preprocessing of review_by_patient"
   ]
  },
  {
   "cell_type": "code",
   "execution_count": 13,
   "metadata": {
    "id": "67SbfFUX-OmL"
   },
   "outputs": [],
   "source": [
    "# from the review_by_patient data\n",
    "# Below are the observations from the data lookup\n",
    "# &#039; -->> can be completely removed and replace it with '(apostrophe)"
   ]
  },
  {
   "cell_type": "code",
   "execution_count": 14,
   "metadata": {
    "colab": {
     "base_uri": "https://localhost:8080/"
    },
    "id": "ce5eVJAl-Oo5",
    "outputId": "857501b8-400d-47cd-b616-852a44a370c9"
   },
   "outputs": [
    {
     "name": "stdout",
     "output_type": "stream",
     "text": [
      "I've been taking amitriptyline since January 2013 after being diagnosed with fibromyalgia. I tried cymbalta for a week and my Dr decided that since it kept me awake 24/7 that it wasn't a good fit for me even though it relieved my pain. I started with 25 mg. After 2 weeks I had some breakthrough pain, so my Dr increased my dosage to 50mg and I'm still on that dosage today. For the first full year I was on this I never had pain and felt 'cured'. As time went on, it seems to help control my pain. I do still have pain, but at a low manageable level.I take this around 7pm (each evening to avoid) feeling overly drowsy in the mornings. This med allows me to have a fairly normal life.\n",
      "==================================================\n",
      "I have been taking amitriptyline since January 2013 after being diagnosed with fibromyalgia I tried cymbalta for a week and my Dr decided that since it kept me awake 24 7 that it wasn t a good fit for me even though it relieved my pain I started with 25 mg After 2 weeks I had some breakthrough pain so my Dr increased my dosage to 50mg and I m still on that dosage today For the first full year I was on this I never had pain and felt cured As time went on it seems to help control my pain I do still have pain but at a low manageable level I take this around 7pm feeling overly drowsy in the mornings This med allows me to have a fairly normal life \n"
     ]
    }
   ],
   "source": [
    "#https://stackoverflow.com/questions/14596884/remove-text-between-and  -->> reference\n",
    "x=\"\"\"I&#039;ve been taking amitriptyline since January 2013 after being diagnosed with fibromyalgia. I tried cymbalta for a week and my Dr decided that since it kept me awake 24/7 that it wasn&#039;t a good fit for me even though it relieved my pain. I started with 25 mg. After 2 weeks I had some breakthrough pain, so my Dr increased my dosage to 50mg and I&#039;m still on that dosage today. For the first full year I was on this I never had pain and felt &#039;cured&#039;. As time went on, it seems to help control my pain. I do still have pain, but at a low manageable level.I take this around 7pm (each evening to avoid) feeling overly drowsy in the mornings. This med allows me to have a fairly normal life.\"\"\"\n",
    "a=re.sub('(&#039;)','\\'',x)\n",
    "print(a)\n",
    "print(\"=\"*50)\n",
    "a=re.sub('\\((.*)\\)',\"\",a) #. -->> any char and * 0/ more char\n",
    "a=a.replace(\"\\'ve\",\" have\") #need to remove similar short to full length\n",
    "a=re.sub('[^A-Za-z0-9]+',\" \",a) #remove all the char expect alpha numeric\n",
    "print(a)\n"
   ]
  },
  {
   "cell_type": "code",
   "execution_count": 15,
   "metadata": {
    "colab": {
     "base_uri": "https://localhost:8080/",
     "height": 35
    },
    "id": "BznE7dccSLVU",
    "outputId": "12252e4f-e5d1-48f5-b0e1-3e1e0e97b635"
   },
   "outputs": [
    {
     "data": {
      "application/vnd.google.colaboratory.intrinsic+json": {
       "type": "string"
      },
      "text/plain": [
       "'I am not hungry now but we are not supposed to go outside. where are you now and send me the location to so that we can not go for dinner'"
      ]
     },
     "execution_count": 15,
     "metadata": {},
     "output_type": "execute_result"
    }
   ],
   "source": [
    "## https://stackoverflow.com/a/47091490/4084039   -->> reference\n",
    "def decontracted(phrase):\n",
    "    phrase = re.sub(r\"aren't\", \"are not\", phrase)\n",
    "    phrase = re.sub(r\"weren't\", \"are not\", phrase)\n",
    "    phrase = re.sub(r\"haven't\", \"have not\", phrase)\n",
    "    phrase = re.sub(r\"can't\", \"can not\", phrase)\n",
    "    phrase = re.sub(r\"didn't\", \"did not\", phrase)\n",
    "    phrase = re.sub(r\"don't\", \"do not\", phrase)\n",
    "    phrase = re.sub(r\"couldn't\", \"can not\", phrase)\n",
    "    phrase = re.sub(r\"n\\'t\", \" not\", phrase)\n",
    "    phrase = re.sub(r\"\\'re\", \" are\", phrase)\n",
    "    phrase = re.sub(r\"\\'s\", \" is\", phrase)\n",
    "    phrase = re.sub(r\"\\'ll\", \" will\", phrase)\n",
    "    phrase = re.sub(r\"\\'t\", \" not\", phrase)\n",
    "    phrase = re.sub(r\"\\'ve\", \" have\", phrase)\n",
    "    phrase = re.sub(r\"\\'m\", \" am\", phrase)\n",
    "    return phrase\n",
    "\n",
    "#check\n",
    "x=\"I am't hungry now but we aren't supposed to go outside. where're you now and send me the location to so that we can't go for dinner\"\n",
    "\n",
    "decontracted(x)"
   ]
  },
  {
   "cell_type": "code",
   "execution_count": 16,
   "metadata": {
    "colab": {
     "base_uri": "https://localhost:8080/"
    },
    "id": "NG_tBMyHRxZH",
    "outputId": "75dca2dd-4900-47ef-9519-bc9578274924"
   },
   "outputs": [
    {
     "name": "stderr",
     "output_type": "stream",
     "text": [
      "[nltk_data] Downloading package stopwords to /root/nltk_data...\n",
      "[nltk_data]   Unzipping corpora/stopwords.zip.\n"
     ]
    },
    {
     "data": {
      "text/plain": [
       "True"
      ]
     },
     "execution_count": 16,
     "metadata": {},
     "output_type": "execute_result"
    }
   ],
   "source": [
    "#stopwords are collected and removed \"not\" from the set as it is meaningful \n",
    "import nltk\n",
    "from nltk.corpus import stopwords\n",
    "nltk.download('stopwords')"
   ]
  },
  {
   "cell_type": "code",
   "execution_count": 17,
   "metadata": {
    "id": "3oJtC3QJCnt9"
   },
   "outputs": [],
   "source": [
    "stopwords={'a','about','above','after','again','against','ain','all','am','an','and','any',\\\n",
    " 'are','aren',\"aren't\",'as','at','be','because','been','before','being','below','between','both',\\\n",
    " 'but','by','can','couldn',\"couldn't\",'d','did','didn',\"didn't\",'do','does','doesn',\"doesn't\",'doing',\\\n",
    " 'don',\"don't\",'down','during','each','few','for','from','further','had','hadn',\"hadn't\",'has','hasn',\\\n",
    " \"hasn't\",'have','haven',\"haven't\",'having','he','her','here','hers','herself','him','himself','his',\\\n",
    " 'how','i','if','in','into','is','isn',\"isn't\",'it',\"it's\",'its','itself','just','ll','m','ma','me','mightn',\\\n",
    " \"mightn't\",'more','most','mustn',\"mustn't\",'my','myself','needn',\"needn't\",'no','nor','now','o','of',\\\n",
    " 'off','on','once','only','or','other','our','ours','ourselves','out','over','own','re','s','same','shan',\"shan't\",\\\n",
    " 'she',\"she's\",'should',\"should've\",'shouldn',\"shouldn't\",'so','some','such','t','than','that',\"that'll\",'the',\\\n",
    " 'their','theirs','them','themselves','then','there','these','they','this','those','through','to','too',\\\n",
    " 'under','until','up','ve','very','was','wasn',\"wasn't\",'we','were','weren',\"weren't\",'what','when',\\\n",
    " 'where','which','while','who','whom','why','will','with','won',\"won't\",'wouldn',\"wouldn't\",'y','you',\\\n",
    " \"you'd\",\"you'll\",\"you're\",\"you've\",'your','yours','yourself','yourselves'} #,'not' is removed"
   ]
  },
  {
   "cell_type": "code",
   "execution_count": 18,
   "metadata": {
    "colab": {
     "base_uri": "https://localhost:8080/",
     "height": 104,
     "referenced_widgets": [
      "dfcfc9bfbe8d406890333b9f7698493e",
      "d1dc1b1f482846f288bc1b48d240da48",
      "f6d87e634a1e435da2734588a81cf2fc",
      "52265afbc63b4befb048bced207d6ef7",
      "c74714c200dc45bd9a9f376e14d5d29f",
      "4de3d367aa5b487bb6a0c3cbb952b48f",
      "8db2723111024532a456ed873a6943fa",
      "9b0716e7c43e4d86819116879a888bd9",
      "f410fd05e99d45b8ba151c7b135dd3a5",
      "5544efc1869b49938adcf293e748fc57",
      "1a9865ba3d7d4286b4e04d9c2ae140b9"
     ]
    },
    "id": "TqC5p1pMCnzL",
    "outputId": "ec0243fe-bd93-4ad2-ae13-946f87f33010"
   },
   "outputs": [
    {
     "data": {
      "application/vnd.jupyter.widget-view+json": {
       "model_id": "dfcfc9bfbe8d406890333b9f7698493e",
       "version_major": 2,
       "version_minor": 0
      },
      "text/plain": [
       "  0%|          | 0/2 [00:00<?, ?it/s]"
      ]
     },
     "metadata": {},
     "output_type": "display_data"
    },
    {
     "name": "stdout",
     "output_type": "stream",
     "text": [
      "side effect take combination bystolic 5 mg fish oil\n",
      "son halfway fourth week intuniv became concerned began last week started taking highest dose two days could hardly get bed cranky slept nearly 8 hours drive home school vacation less cranky remembering things overall behavior better tried many different medications far effective\n"
     ]
    }
   ],
   "source": [
    "#sample data check\n",
    "from tqdm.notebook import tqdm\n",
    "for i in tqdm(df_train[\"review_by_patient\"][:2].values):\n",
    "  i=re.sub('(&#039;)','\\'',i)\n",
    "  i=re.sub('\\((.*)\\)',\"\",i) #. -->> any char and * 0/ more char\n",
    "  i=decontracted(i)\n",
    "  i=re.sub('[^A-Za-z0-9]+',\" \",i)\n",
    "  i=i.lower().strip() #lower case conversion\n",
    "  i= ' '.join(e for e in i.split() if e not in stopwords) #removing stopwords from sentence\n",
    "  print(i)\n"
   ]
  },
  {
   "cell_type": "code",
   "execution_count": 19,
   "metadata": {
    "id": "vnp8Pu60Cn5E"
   },
   "outputs": [],
   "source": [
    "def text_preprocessing(df):\n",
    "  preprocessed_reviews=[]\n",
    "  for i in tqdm(df.values):\n",
    "    i=re.sub('(&#039;)','\\'',i)\n",
    "    i=re.sub('\\((.*)\\)',\"\",i) #. -->> any char and * 0/ more char\n",
    "    i=decontracted(i)\n",
    "    i=re.sub('[^A-Za-z0-9]+',\" \",i)\n",
    "    i=i.lower().strip() #lower case conversion and removing trailing spaces\n",
    "    i= ' '.join(e for e in i.split() if e not in stopwords) #removing stopwords from sentence\n",
    "    preprocessed_reviews.append(i)\n",
    "  return preprocessed_reviews\n"
   ]
  },
  {
   "cell_type": "code",
   "execution_count": 20,
   "metadata": {
    "colab": {
     "base_uri": "https://localhost:8080/",
     "height": 81,
     "referenced_widgets": [
      "dac7d0244876499eb59f08e5065925bb",
      "1e3c213b369341eab4a556f1d650875f",
      "b878b3d88ce644d49b6d9daeed82d02f",
      "9c3415fa358e4d509b58462659e1380c",
      "1dad1a7514a34e5a9063273266bcb3e6",
      "e24b2e545a4d4dd2bc596c704982630d",
      "17f0164b30f54be29b7bcbc396ace339",
      "bec6c158116345da81bd18525e4592e6",
      "4630c923edfb44a7a4977980bc3c8588",
      "812c3daceef441be87ae904497a4b096",
      "bc61276211554a0abf4742061134d668",
      "7f9793fdcbb343eda0e241f4e7694ce4",
      "58770ddaa1a443149ac74e6d3472189e",
      "814f4937fa5340d2b27dcd5a31496541",
      "f90e14221f2d4e0bbebe8908ac4af2ee",
      "fec81237ea4541288bf7276d0a5726ff",
      "dad88d76b785490692ce29bc2680de42",
      "5098de64961446348b2da513033b6cb9",
      "662d862ef98b429ea82ec5a43c3f5f3f",
      "6c9014bf948d49999e32c61d5e526ff5",
      "659eff87bd6f45bcb0b939aabb6f2910",
      "81d0c4c640dc421989b453adb6642407"
     ]
    },
    "id": "YMWC9ehho6nv",
    "outputId": "1aeb1f2c-ef3b-4bd8-a5a3-27f9a4b5d9b3"
   },
   "outputs": [
    {
     "data": {
      "application/vnd.jupyter.widget-view+json": {
       "model_id": "dac7d0244876499eb59f08e5065925bb",
       "version_major": 2,
       "version_minor": 0
      },
      "text/plain": [
       "  0%|          | 0/32165 [00:00<?, ?it/s]"
      ]
     },
     "metadata": {},
     "output_type": "display_data"
    },
    {
     "data": {
      "application/vnd.jupyter.widget-view+json": {
       "model_id": "7f9793fdcbb343eda0e241f4e7694ce4",
       "version_major": 2,
       "version_minor": 0
      },
      "text/plain": [
       "  0%|          | 0/10760 [00:00<?, ?it/s]"
      ]
     },
     "metadata": {},
     "output_type": "display_data"
    }
   ],
   "source": [
    "#train data\n",
    "df_train['review_by_patient']=text_preprocessing(df_train['review_by_patient'])\n",
    "\n",
    "#test_data\n",
    "df_test['review_by_patient']=text_preprocessing(df_test['review_by_patient'])"
   ]
  },
  {
   "cell_type": "markdown",
   "metadata": {
    "id": "aMmOQONGjN4t"
   },
   "source": [
    "##### Date Conversion"
   ]
  },
  {
   "cell_type": "code",
   "execution_count": 21,
   "metadata": {
    "id": "_wk71dT6-OwC"
   },
   "outputs": [],
   "source": [
    "# we can not use date directly so it needs to seperated as date,month and year\n",
    "#method 1: split by \"-\"\n",
    "month_dict={'Jan':1,'Feb':2,'Mar':3,'Apr':4,'May':5,'Jun':6,'Jul':7,'Aug':8,'Sep':9,'Oct':10,'Nov':11,'Dec':12}\n",
    "\n",
    "def date_con(df):\n",
    "  date=[]\n",
    "  month=[]\n",
    "  year=[]\n",
    "  for i in df:\n",
    "    date1,month1,year1=i.split(\"-\")\n",
    "    month.append(month_dict[month1])\n",
    "    date.append(int(date1))\n",
    "    year.append(int('20'+ year1))\n",
    "  return date,month,year"
   ]
  },
  {
   "cell_type": "code",
   "execution_count": 22,
   "metadata": {
    "id": "Go6n-aKLiWUG"
   },
   "outputs": [],
   "source": [
    "#storing in train_data\n",
    "df_train[\"date\"],df_train[\"month\"],df_train[\"year\"]= date_con(df_train[\"drug_approved_by_UIC\"])\n",
    "\n",
    "#storing in test_data\n",
    "df_test[\"date\"],df_test[\"month\"],df_test[\"year\"]= date_con(df_test[\"drug_approved_by_UIC\"])"
   ]
  },
  {
   "cell_type": "code",
   "execution_count": 23,
   "metadata": {
    "id": "hh0zEhpTiWWg"
   },
   "outputs": [],
   "source": [
    "df_tr=df_train.drop(['drug_approved_by_UIC'], axis=1)\n",
    "df_te=df_test.drop(['drug_approved_by_UIC'], axis=1)"
   ]
  },
  {
   "cell_type": "code",
   "execution_count": 24,
   "metadata": {
    "colab": {
     "base_uri": "https://localhost:8080/",
     "height": 143
    },
    "id": "lc8TIMa15Kjr",
    "outputId": "5d0f328e-a37e-435f-e011-a88fa99066d9"
   },
   "outputs": [
    {
     "data": {
      "text/html": [
       "\n",
       "  <div id=\"df-6fc27067-2b30-44e7-a550-942d57b61f6e\">\n",
       "    <div class=\"colab-df-container\">\n",
       "      <div>\n",
       "<style scoped>\n",
       "    .dataframe tbody tr th:only-of-type {\n",
       "        vertical-align: middle;\n",
       "    }\n",
       "\n",
       "    .dataframe tbody tr th {\n",
       "        vertical-align: top;\n",
       "    }\n",
       "\n",
       "    .dataframe thead th {\n",
       "        text-align: right;\n",
       "    }\n",
       "</style>\n",
       "<table border=\"1\" class=\"dataframe\">\n",
       "  <thead>\n",
       "    <tr style=\"text-align: right;\">\n",
       "      <th></th>\n",
       "      <th>patient_id</th>\n",
       "      <th>name_of_drug</th>\n",
       "      <th>use_case_for_drug</th>\n",
       "      <th>review_by_patient</th>\n",
       "      <th>effectiveness_rating</th>\n",
       "      <th>number_of_times_prescribed</th>\n",
       "      <th>base_score</th>\n",
       "      <th>date</th>\n",
       "      <th>month</th>\n",
       "      <th>year</th>\n",
       "    </tr>\n",
       "  </thead>\n",
       "  <tbody>\n",
       "    <tr>\n",
       "      <th>0</th>\n",
       "      <td>206461</td>\n",
       "      <td>valsartan</td>\n",
       "      <td>left_ventricular_dysfunction</td>\n",
       "      <td>side effect take combination bystolic 5 mg fis...</td>\n",
       "      <td>9</td>\n",
       "      <td>27</td>\n",
       "      <td>8.022969</td>\n",
       "      <td>20</td>\n",
       "      <td>5</td>\n",
       "      <td>2012</td>\n",
       "    </tr>\n",
       "    <tr>\n",
       "      <th>1</th>\n",
       "      <td>95260</td>\n",
       "      <td>guanfacine</td>\n",
       "      <td>adhd</td>\n",
       "      <td>son halfway fourth week intuniv became concern...</td>\n",
       "      <td>8</td>\n",
       "      <td>192</td>\n",
       "      <td>7.858458</td>\n",
       "      <td>27</td>\n",
       "      <td>4</td>\n",
       "      <td>2010</td>\n",
       "    </tr>\n",
       "    <tr>\n",
       "      <th>2</th>\n",
       "      <td>92703</td>\n",
       "      <td>lybrel</td>\n",
       "      <td>birth_control</td>\n",
       "      <td>used take another oral contraceptive 21 pill c...</td>\n",
       "      <td>5</td>\n",
       "      <td>17</td>\n",
       "      <td>6.341969</td>\n",
       "      <td>14</td>\n",
       "      <td>12</td>\n",
       "      <td>2009</td>\n",
       "    </tr>\n",
       "  </tbody>\n",
       "</table>\n",
       "</div>\n",
       "      <button class=\"colab-df-convert\" onclick=\"convertToInteractive('df-6fc27067-2b30-44e7-a550-942d57b61f6e')\"\n",
       "              title=\"Convert this dataframe to an interactive table.\"\n",
       "              style=\"display:none;\">\n",
       "        \n",
       "  <svg xmlns=\"http://www.w3.org/2000/svg\" height=\"24px\"viewBox=\"0 0 24 24\"\n",
       "       width=\"24px\">\n",
       "    <path d=\"M0 0h24v24H0V0z\" fill=\"none\"/>\n",
       "    <path d=\"M18.56 5.44l.94 2.06.94-2.06 2.06-.94-2.06-.94-.94-2.06-.94 2.06-2.06.94zm-11 1L8.5 8.5l.94-2.06 2.06-.94-2.06-.94L8.5 2.5l-.94 2.06-2.06.94zm10 10l.94 2.06.94-2.06 2.06-.94-2.06-.94-.94-2.06-.94 2.06-2.06.94z\"/><path d=\"M17.41 7.96l-1.37-1.37c-.4-.4-.92-.59-1.43-.59-.52 0-1.04.2-1.43.59L10.3 9.45l-7.72 7.72c-.78.78-.78 2.05 0 2.83L4 21.41c.39.39.9.59 1.41.59.51 0 1.02-.2 1.41-.59l7.78-7.78 2.81-2.81c.8-.78.8-2.07 0-2.86zM5.41 20L4 18.59l7.72-7.72 1.47 1.35L5.41 20z\"/>\n",
       "  </svg>\n",
       "      </button>\n",
       "      \n",
       "  <style>\n",
       "    .colab-df-container {\n",
       "      display:flex;\n",
       "      flex-wrap:wrap;\n",
       "      gap: 12px;\n",
       "    }\n",
       "\n",
       "    .colab-df-convert {\n",
       "      background-color: #E8F0FE;\n",
       "      border: none;\n",
       "      border-radius: 50%;\n",
       "      cursor: pointer;\n",
       "      display: none;\n",
       "      fill: #1967D2;\n",
       "      height: 32px;\n",
       "      padding: 0 0 0 0;\n",
       "      width: 32px;\n",
       "    }\n",
       "\n",
       "    .colab-df-convert:hover {\n",
       "      background-color: #E2EBFA;\n",
       "      box-shadow: 0px 1px 2px rgba(60, 64, 67, 0.3), 0px 1px 3px 1px rgba(60, 64, 67, 0.15);\n",
       "      fill: #174EA6;\n",
       "    }\n",
       "\n",
       "    [theme=dark] .colab-df-convert {\n",
       "      background-color: #3B4455;\n",
       "      fill: #D2E3FC;\n",
       "    }\n",
       "\n",
       "    [theme=dark] .colab-df-convert:hover {\n",
       "      background-color: #434B5C;\n",
       "      box-shadow: 0px 1px 3px 1px rgba(0, 0, 0, 0.15);\n",
       "      filter: drop-shadow(0px 1px 2px rgba(0, 0, 0, 0.3));\n",
       "      fill: #FFFFFF;\n",
       "    }\n",
       "  </style>\n",
       "\n",
       "      <script>\n",
       "        const buttonEl =\n",
       "          document.querySelector('#df-6fc27067-2b30-44e7-a550-942d57b61f6e button.colab-df-convert');\n",
       "        buttonEl.style.display =\n",
       "          google.colab.kernel.accessAllowed ? 'block' : 'none';\n",
       "\n",
       "        async function convertToInteractive(key) {\n",
       "          const element = document.querySelector('#df-6fc27067-2b30-44e7-a550-942d57b61f6e');\n",
       "          const dataTable =\n",
       "            await google.colab.kernel.invokeFunction('convertToInteractive',\n",
       "                                                     [key], {});\n",
       "          if (!dataTable) return;\n",
       "\n",
       "          const docLinkHtml = 'Like what you see? Visit the ' +\n",
       "            '<a target=\"_blank\" href=https://colab.research.google.com/notebooks/data_table.ipynb>data table notebook</a>'\n",
       "            + ' to learn more about interactive tables.';\n",
       "          element.innerHTML = '';\n",
       "          dataTable['output_type'] = 'display_data';\n",
       "          await google.colab.output.renderOutput(dataTable, element);\n",
       "          const docLink = document.createElement('div');\n",
       "          docLink.innerHTML = docLinkHtml;\n",
       "          element.appendChild(docLink);\n",
       "        }\n",
       "      </script>\n",
       "    </div>\n",
       "  </div>\n",
       "  "
      ],
      "text/plain": [
       "   patient_id name_of_drug             use_case_for_drug  \\\n",
       "0      206461    valsartan  left_ventricular_dysfunction   \n",
       "1       95260   guanfacine                          adhd   \n",
       "2       92703       lybrel                 birth_control   \n",
       "\n",
       "                                   review_by_patient  effectiveness_rating  \\\n",
       "0  side effect take combination bystolic 5 mg fis...                     9   \n",
       "1  son halfway fourth week intuniv became concern...                     8   \n",
       "2  used take another oral contraceptive 21 pill c...                     5   \n",
       "\n",
       "   number_of_times_prescribed  base_score  date  month  year  \n",
       "0                          27    8.022969    20      5  2012  \n",
       "1                         192    7.858458    27      4  2010  \n",
       "2                          17    6.341969    14     12  2009  "
      ]
     },
     "execution_count": 24,
     "metadata": {},
     "output_type": "execute_result"
    }
   ],
   "source": [
    "df_tr.head(3)"
   ]
  },
  {
   "cell_type": "code",
   "execution_count": 25,
   "metadata": {
    "colab": {
     "base_uri": "https://localhost:8080/",
     "height": 143
    },
    "id": "ddyz-HnnqKkf",
    "outputId": "6ad32720-d15a-41f5-ac4d-0b8306f7f35c"
   },
   "outputs": [
    {
     "data": {
      "text/html": [
       "\n",
       "  <div id=\"df-1e5340ea-9680-41b0-86cd-6be344d33ade\">\n",
       "    <div class=\"colab-df-container\">\n",
       "      <div>\n",
       "<style scoped>\n",
       "    .dataframe tbody tr th:only-of-type {\n",
       "        vertical-align: middle;\n",
       "    }\n",
       "\n",
       "    .dataframe tbody tr th {\n",
       "        vertical-align: top;\n",
       "    }\n",
       "\n",
       "    .dataframe thead th {\n",
       "        text-align: right;\n",
       "    }\n",
       "</style>\n",
       "<table border=\"1\" class=\"dataframe\">\n",
       "  <thead>\n",
       "    <tr style=\"text-align: right;\">\n",
       "      <th></th>\n",
       "      <th>patient_id</th>\n",
       "      <th>name_of_drug</th>\n",
       "      <th>review_by_patient</th>\n",
       "      <th>number_of_times_prescribed</th>\n",
       "      <th>use_case_for_drug</th>\n",
       "      <th>effectiveness_rating</th>\n",
       "      <th>date</th>\n",
       "      <th>month</th>\n",
       "      <th>year</th>\n",
       "    </tr>\n",
       "  </thead>\n",
       "  <tbody>\n",
       "    <tr>\n",
       "      <th>0</th>\n",
       "      <td>163740</td>\n",
       "      <td>mirtazapine</td>\n",
       "      <td>tried antidepressants years none helped depres...</td>\n",
       "      <td>22</td>\n",
       "      <td>depression</td>\n",
       "      <td>10</td>\n",
       "      <td>28</td>\n",
       "      <td>2</td>\n",
       "      <td>2012</td>\n",
       "    </tr>\n",
       "    <tr>\n",
       "      <th>1</th>\n",
       "      <td>39293</td>\n",
       "      <td>contrave</td>\n",
       "      <td>contrave combines drugs used alcohol smoking o...</td>\n",
       "      <td>35</td>\n",
       "      <td>weight_loss</td>\n",
       "      <td>9</td>\n",
       "      <td>5</td>\n",
       "      <td>3</td>\n",
       "      <td>2017</td>\n",
       "    </tr>\n",
       "    <tr>\n",
       "      <th>2</th>\n",
       "      <td>208087</td>\n",
       "      <td>zyclara</td>\n",
       "      <td>4 days first 2 weeks using arms face put vasel...</td>\n",
       "      <td>13</td>\n",
       "      <td>keratosis</td>\n",
       "      <td>4</td>\n",
       "      <td>3</td>\n",
       "      <td>7</td>\n",
       "      <td>2014</td>\n",
       "    </tr>\n",
       "  </tbody>\n",
       "</table>\n",
       "</div>\n",
       "      <button class=\"colab-df-convert\" onclick=\"convertToInteractive('df-1e5340ea-9680-41b0-86cd-6be344d33ade')\"\n",
       "              title=\"Convert this dataframe to an interactive table.\"\n",
       "              style=\"display:none;\">\n",
       "        \n",
       "  <svg xmlns=\"http://www.w3.org/2000/svg\" height=\"24px\"viewBox=\"0 0 24 24\"\n",
       "       width=\"24px\">\n",
       "    <path d=\"M0 0h24v24H0V0z\" fill=\"none\"/>\n",
       "    <path d=\"M18.56 5.44l.94 2.06.94-2.06 2.06-.94-2.06-.94-.94-2.06-.94 2.06-2.06.94zm-11 1L8.5 8.5l.94-2.06 2.06-.94-2.06-.94L8.5 2.5l-.94 2.06-2.06.94zm10 10l.94 2.06.94-2.06 2.06-.94-2.06-.94-.94-2.06-.94 2.06-2.06.94z\"/><path d=\"M17.41 7.96l-1.37-1.37c-.4-.4-.92-.59-1.43-.59-.52 0-1.04.2-1.43.59L10.3 9.45l-7.72 7.72c-.78.78-.78 2.05 0 2.83L4 21.41c.39.39.9.59 1.41.59.51 0 1.02-.2 1.41-.59l7.78-7.78 2.81-2.81c.8-.78.8-2.07 0-2.86zM5.41 20L4 18.59l7.72-7.72 1.47 1.35L5.41 20z\"/>\n",
       "  </svg>\n",
       "      </button>\n",
       "      \n",
       "  <style>\n",
       "    .colab-df-container {\n",
       "      display:flex;\n",
       "      flex-wrap:wrap;\n",
       "      gap: 12px;\n",
       "    }\n",
       "\n",
       "    .colab-df-convert {\n",
       "      background-color: #E8F0FE;\n",
       "      border: none;\n",
       "      border-radius: 50%;\n",
       "      cursor: pointer;\n",
       "      display: none;\n",
       "      fill: #1967D2;\n",
       "      height: 32px;\n",
       "      padding: 0 0 0 0;\n",
       "      width: 32px;\n",
       "    }\n",
       "\n",
       "    .colab-df-convert:hover {\n",
       "      background-color: #E2EBFA;\n",
       "      box-shadow: 0px 1px 2px rgba(60, 64, 67, 0.3), 0px 1px 3px 1px rgba(60, 64, 67, 0.15);\n",
       "      fill: #174EA6;\n",
       "    }\n",
       "\n",
       "    [theme=dark] .colab-df-convert {\n",
       "      background-color: #3B4455;\n",
       "      fill: #D2E3FC;\n",
       "    }\n",
       "\n",
       "    [theme=dark] .colab-df-convert:hover {\n",
       "      background-color: #434B5C;\n",
       "      box-shadow: 0px 1px 3px 1px rgba(0, 0, 0, 0.15);\n",
       "      filter: drop-shadow(0px 1px 2px rgba(0, 0, 0, 0.3));\n",
       "      fill: #FFFFFF;\n",
       "    }\n",
       "  </style>\n",
       "\n",
       "      <script>\n",
       "        const buttonEl =\n",
       "          document.querySelector('#df-1e5340ea-9680-41b0-86cd-6be344d33ade button.colab-df-convert');\n",
       "        buttonEl.style.display =\n",
       "          google.colab.kernel.accessAllowed ? 'block' : 'none';\n",
       "\n",
       "        async function convertToInteractive(key) {\n",
       "          const element = document.querySelector('#df-1e5340ea-9680-41b0-86cd-6be344d33ade');\n",
       "          const dataTable =\n",
       "            await google.colab.kernel.invokeFunction('convertToInteractive',\n",
       "                                                     [key], {});\n",
       "          if (!dataTable) return;\n",
       "\n",
       "          const docLinkHtml = 'Like what you see? Visit the ' +\n",
       "            '<a target=\"_blank\" href=https://colab.research.google.com/notebooks/data_table.ipynb>data table notebook</a>'\n",
       "            + ' to learn more about interactive tables.';\n",
       "          element.innerHTML = '';\n",
       "          dataTable['output_type'] = 'display_data';\n",
       "          await google.colab.output.renderOutput(dataTable, element);\n",
       "          const docLink = document.createElement('div');\n",
       "          docLink.innerHTML = docLinkHtml;\n",
       "          element.appendChild(docLink);\n",
       "        }\n",
       "      </script>\n",
       "    </div>\n",
       "  </div>\n",
       "  "
      ],
      "text/plain": [
       "   patient_id name_of_drug                                  review_by_patient  \\\n",
       "0      163740  mirtazapine  tried antidepressants years none helped depres...   \n",
       "1       39293     contrave  contrave combines drugs used alcohol smoking o...   \n",
       "2      208087      zyclara  4 days first 2 weeks using arms face put vasel...   \n",
       "\n",
       "   number_of_times_prescribed use_case_for_drug  effectiveness_rating  date  \\\n",
       "0                          22        depression                    10    28   \n",
       "1                          35       weight_loss                     9     5   \n",
       "2                          13         keratosis                     4     3   \n",
       "\n",
       "   month  year  \n",
       "0      2  2012  \n",
       "1      3  2017  \n",
       "2      7  2014  "
      ]
     },
     "execution_count": 25,
     "metadata": {},
     "output_type": "execute_result"
    }
   ],
   "source": [
    "df_te.head(3)"
   ]
  },
  {
   "cell_type": "markdown",
   "metadata": {
    "id": "ovTt-oO3GOJn"
   },
   "source": [
    "#### 6. Featurization/Vectorization"
   ]
  },
  {
   "cell_type": "code",
   "execution_count": null,
   "metadata": {
    "id": "IF9UXFrOGZuu"
   },
   "outputs": [],
   "source": [
    "#name_of_drug,review_by_patient,use_case_for_drug  -->> needs to be vectorized\n",
    "# methods: BOW, TFIDF, AvgW2V\n",
    "#We can use pre trained model from https://tfhub.dev/google/experts/bert/pubmed/squad2/2 "
   ]
  },
  {
   "cell_type": "code",
   "execution_count": 26,
   "metadata": {
    "colab": {
     "base_uri": "https://localhost:8080/"
    },
    "id": "LrvN8if0GZyW",
    "outputId": "f2681a47-312e-483a-c78b-7204947b0b5e"
   },
   "outputs": [
    {
     "name": "stdout",
     "output_type": "stream",
     "text": [
      "Looking in indexes: https://pypi.org/simple, https://us-python.pkg.dev/colab-wheels/public/simple/\n",
      "Requirement already satisfied: gensim in /usr/local/lib/python3.7/dist-packages (3.6.0)\n",
      "Collecting gensim\n",
      "  Downloading gensim-4.2.0-cp37-cp37m-manylinux_2_12_x86_64.manylinux2010_x86_64.whl (24.1 MB)\n",
      "\u001b[K     |████████████████████████████████| 24.1 MB 1.4 MB/s \n",
      "\u001b[?25hRequirement already satisfied: scipy>=0.18.1 in /usr/local/lib/python3.7/dist-packages (from gensim) (1.7.3)\n",
      "Requirement already satisfied: numpy>=1.17.0 in /usr/local/lib/python3.7/dist-packages (from gensim) (1.21.6)\n",
      "Requirement already satisfied: smart-open>=1.8.1 in /usr/local/lib/python3.7/dist-packages (from gensim) (5.2.1)\n",
      "Installing collected packages: gensim\n",
      "  Attempting uninstall: gensim\n",
      "    Found existing installation: gensim 3.6.0\n",
      "    Uninstalling gensim-3.6.0:\n",
      "      Successfully uninstalled gensim-3.6.0\n",
      "Successfully installed gensim-4.2.0\n"
     ]
    }
   ],
   "source": [
    "#https://machinelearningmastery.com/develop-word-embeddings-python-gensim/ --> reference for W2V\n",
    "!pip install --upgrade gensim\n",
    "\n",
    "from gensim.models import Word2Vec"
   ]
  },
  {
   "cell_type": "code",
   "execution_count": 27,
   "metadata": {
    "id": "8cf5F9SnQ9eV"
   },
   "outputs": [],
   "source": [
    "split_reviews_train=[]\n",
    "for i in df_train['review_by_patient']:\n",
    "  split_reviews_train.append(i.split(\" \"))"
   ]
  },
  {
   "cell_type": "code",
   "execution_count": 28,
   "metadata": {
    "colab": {
     "base_uri": "https://localhost:8080/"
    },
    "id": "rt59jHDCR2_t",
    "outputId": "0fcc6a5f-1ef0-4878-b5b5-741b0e92f039"
   },
   "outputs": [
    {
     "name": "stdout",
     "output_type": "stream",
     "text": [
      "Word2Vec<vocab=16108, vector_size=100, alpha=0.025>\n",
      "CPU times: user 21.5 s, sys: 2.53 ms, total: 21.5 s\n",
      "Wall time: 15.4 s\n"
     ]
    }
   ],
   "source": [
    "%%time\n",
    "model = Word2Vec(split_reviews_train, min_count=2,vector_size=100,window=5) #parameters are choosed default only min_count is kept to 2 to hold more vocab\n",
    "print(model)"
   ]
  },
  {
   "cell_type": "code",
   "execution_count": 29,
   "metadata": {
    "colab": {
     "base_uri": "https://localhost:8080/"
    },
    "id": "PD22_xRXSkEt",
    "outputId": "46b743c1-325c-4619-b72c-09efa3909f8c"
   },
   "outputs": [
    {
     "name": "stdout",
     "output_type": "stream",
     "text": [
      "Count of unique words from the vectorized reviews are : 16108\n",
      "Checking the most similar words to 'bystolic'\n",
      " [('amlodipine', 0.8613930940628052), ('losartan', 0.8611012697219849), ('metoprolol', 0.8462236523628235), ('atenolol', 0.8318247199058533), ('lisinopril', 0.831503689289093), ('dilantin', 0.8217875361442566), ('zocor', 0.8194802403450012), ('haldol', 0.819029688835144), ('levothyroxine', 0.816926121711731), ('toujeo', 0.8147931694984436)]\n"
     ]
    }
   ],
   "source": [
    "#https://github.com/RaRe-Technologies/gensim/wiki/Migrating-from-Gensim-3.x-to-4 -->> to get the vocab words\n",
    "print(\"Count of unique words from the vectorized reviews are :\",len(list(model.wv.key_to_index)))\n",
    "print(\"Checking the most similar words to 'bystolic'\\n\",model.wv.most_similar(\"bystolic\"))"
   ]
  },
  {
   "cell_type": "code",
   "execution_count": 30,
   "metadata": {
    "id": "tGNAP2RmaX4h"
   },
   "outputs": [],
   "source": [
    "model.save('model_review_by_patient.bin') #saving in binary format"
   ]
  },
  {
   "cell_type": "code",
   "execution_count": null,
   "metadata": {
    "colab": {
     "base_uri": "https://localhost:8080/",
     "height": 118,
     "referenced_widgets": [
      "bb145abde90f421bb32ecce2f234ba4f",
      "9cb3938595d6427db8d9d1e7512c4f8e",
      "471be4cd9ad549158e1cc82c4d0938a7",
      "c5e0a9d5685a4876a3bda4b0b9aa6ea6",
      "e5759adbc9b84af58a79075305b63c36",
      "289360061d8b41a48025b3f1680d0636",
      "c3bad3e09ae041ff9447bfadc8c55d57",
      "0814c5241d6f4463b533d95203cc3069",
      "c4c9aade6f1b4459b8b0c8e123c75062",
      "7e4522515b92450f9ef7f407506f2d2c",
      "db34b5d187004d08b47a6fd2ef6b20c3"
     ]
    },
    "id": "IGAFrN-kbTm5",
    "outputId": "b6afafc1-7186-4fd9-a5c1-5ef3c61ec9ec"
   },
   "outputs": [
    {
     "data": {
      "application/vnd.jupyter.widget-view+json": {
       "model_id": "bb145abde90f421bb32ecce2f234ba4f",
       "version_major": 2,
       "version_minor": 0
      },
      "text/plain": [
       "  0%|          | 0/32165 [00:00<?, ?it/s]"
      ]
     },
     "metadata": {},
     "output_type": "display_data"
    },
    {
     "name": "stdout",
     "output_type": "stream",
     "text": [
      "2851\n",
      "12509\n",
      "CPU times: user 12min 10s, sys: 21.3 s, total: 12min 32s\n",
      "Wall time: 12min 19s\n"
     ]
    }
   ],
   "source": [
    "#avgw2v model folenr train data\n",
    "%%time\n",
    "# review_vector=[]\n",
    "# c=0\n",
    "# for senetence_split in tqdm(split_reviews_train):\n",
    "#   c=c+1\n",
    "#   word_vec = np.zeros(100)\n",
    "#   count=0 \n",
    "#   for word in senetence_split:\n",
    "#     if word in list(model.wv.key_to_index) and word!=' ':\n",
    "#        word_vec=word_vec+ model.wv.get_vector(word)\n",
    "#        count+=1\n",
    "#   if count>0:\n",
    "#     sent_vec=word_vec/count\n",
    "#     review_vector.append(sent_vec)\n",
    "#   else:\n",
    "#     review_vector.append(word_vec)\n",
    "#     print(c)"
   ]
  },
  {
   "cell_type": "code",
   "execution_count": null,
   "metadata": {
    "colab": {
     "base_uri": "https://localhost:8080/"
    },
    "id": "qK0niyfTUAi2",
    "outputId": "9ca370a3-fc81-4f02-935c-2b98c29a0b84"
   },
   "outputs": [
    {
     "data": {
      "text/plain": [
       "2850        exellent\n",
       "12508    annetandre9\n",
       "Name: review_by_patient, dtype: object"
      ]
     },
     "execution_count": 31,
     "metadata": {},
     "output_type": "execute_result"
    }
   ],
   "source": [
    "# there are 2 records for which dictionary word is not find\n",
    "df_train[\"review_by_patient\"][[2850,12508]]\n",
    "\n",
    "#exellent and annetandre9 are not present in dictionary so can be avoided"
   ]
  },
  {
   "cell_type": "code",
   "execution_count": null,
   "metadata": {
    "id": "LLt5hgfTgNat"
   },
   "outputs": [],
   "source": [
    "# import pickle\n",
    "# with open(\"/content/drive/My Drive/review_vector\", \"wb\") as fp:   \n",
    "#     pickle.dump(review_vector, fp)"
   ]
  },
  {
   "cell_type": "code",
   "execution_count": 31,
   "metadata": {
    "id": "916XrIPYgc-M"
   },
   "outputs": [],
   "source": [
    "import pickle\n",
    "with open(\"/content/drive/My Drive/review_vector\", \"rb\") as fp:   # Unpickling\n",
    "  review_vector1 = pickle.load(fp)"
   ]
  },
  {
   "cell_type": "code",
   "execution_count": 32,
   "metadata": {
    "id": "QBqFQRe9A5zh"
   },
   "outputs": [],
   "source": [
    "review_vector_train=[]\n",
    "for i in range(np.array(review_vector1).shape[1]):\n",
    "  review_vector_train.append(\"review\"+str(i))\n",
    "\n",
    "review_df=pd.DataFrame(np.array(review_vector1),columns=review_vector_train)"
   ]
  },
  {
   "cell_type": "code",
   "execution_count": null,
   "metadata": {
    "colab": {
     "base_uri": "https://localhost:8080/",
     "height": 49,
     "referenced_widgets": [
      "13e1ef7a97ef45a8a7144e24c23a8c09",
      "238f3de1976c431bb44c20238653af35",
      "2e09b707496b42868d99d06247f1e5f0",
      "f7ace317f73b404195c3350ab013bdcb",
      "f8d1c0dc1a944af4951fb77dbf39ef38",
      "77865238f3a54734ac53215824495919",
      "b8bdbcfaf5db4e4c8b5dbb4912a5625c",
      "fea3cfdddbf54fb1996c8a5da92a5cf8",
      "1300eb679202452b83c9d79620dbb2cb",
      "4892ec62afff4771ab06d7676e249975",
      "45fdc9af8b8c4908b2aa921b79bcf37f"
     ]
    },
    "id": "Ie6DqKItjb5-",
    "outputId": "ba029f91-a6b2-4285-f353-c7ea5e5b4bcc"
   },
   "outputs": [
    {
     "data": {
      "application/vnd.jupyter.widget-view+json": {
       "model_id": "13e1ef7a97ef45a8a7144e24c23a8c09",
       "version_major": 2,
       "version_minor": 0
      },
      "text/plain": [
       "  0%|          | 0/10760 [00:00<?, ?it/s]"
      ]
     },
     "metadata": {},
     "output_type": "display_data"
    }
   ],
   "source": [
    "#here we will use the train key words \n",
    "\n",
    "%%time\n",
    "# split_reviews_test=[]\n",
    "# for i in df_test['review_by_patient']:\n",
    "#   split_reviews_test.append(i.split(\" \"))\n",
    "\n",
    "\n",
    "# review_vector_test=[]\n",
    "# for senetence_split in tqdm(split_reviews_test):\n",
    "#   word_vec = np.zeros(100)\n",
    "#   count=0 \n",
    "#   for word in senetence_split:\n",
    "#     if word in list(model.wv.key_to_index): #checking test word in trained w2v keys else skips it\n",
    "#        word_vec=word_vec+ model.wv.get_vector(word)\n",
    "#        count+=1\n",
    "#   sent_vec=word_vec/count\n",
    "#   review_vector_test.append(sent_vec)"
   ]
  },
  {
   "cell_type": "code",
   "execution_count": null,
   "metadata": {
    "id": "LL2mw9-AkKO_"
   },
   "outputs": [],
   "source": [
    "# import pickle\n",
    "# with open(\"/content/drive/My Drive/review_vector_test\", \"wb\") as fpt:   \n",
    "#     pickle.dump(review_vector_test, fpt)"
   ]
  },
  {
   "cell_type": "code",
   "execution_count": 33,
   "metadata": {
    "id": "D-lDEJXNm4QR"
   },
   "outputs": [],
   "source": [
    "import pickle\n",
    "with open(\"/content/drive/My Drive/review_vector_test\", \"rb\") as fpt:   # Unpickling\n",
    "  review_vector_test1 = pickle.load(fpt)\n",
    "\n",
    "#test dataframe\n",
    "review_df_test=pd.DataFrame(np.array(review_vector_test1),columns=review_vector_train)"
   ]
  },
  {
   "cell_type": "markdown",
   "metadata": {
    "id": "k3BV45zQ8ZMA"
   },
   "source": [
    "##### OHE of name_of_drug\tand use_case_for_drug\t"
   ]
  },
  {
   "cell_type": "code",
   "execution_count": 34,
   "metadata": {
    "id": "i4PxP11QyqCh"
   },
   "outputs": [],
   "source": [
    "#name_of_drug\tuse_case_for_drug\t\n",
    "#since use_case_for_drug column is having only 636 unique values so it can OHE\n",
    "#df_train[\"use_case_for_drug\"].unique().size\n",
    "\n",
    "#https://scikit-learn.org/stable/modules/generated/sklearn.preprocessing.OneHotEncoder.html  -->> reference\n",
    "from sklearn.preprocessing import OneHotEncoder\n",
    "enc = OneHotEncoder(handle_unknown='ignore')\n",
    "enc.fit(df_train[\"use_case_for_drug\"].values.reshape(-1,1))\n",
    "df_train_encoded=enc.transform(df_train[\"use_case_for_drug\"].values.reshape(-1,1)).toarray()\n",
    "\n",
    "\n",
    "#test_data -->> transform only\n",
    "df_test_encoded=enc.transform(df_test[\"use_case_for_drug\"].values.reshape(-1,1)).toarray()"
   ]
  },
  {
   "cell_type": "code",
   "execution_count": 35,
   "metadata": {
    "id": "Eo9DBQDy9WxK"
   },
   "outputs": [],
   "source": [
    "use_case_for_drug_col=[]\n",
    "for i in range(df_train_encoded.shape[1]):\n",
    "  use_case_for_drug_col.append(\"use_case_for_drug\"+str(i))\n",
    "\n",
    "#converting to dataframe for column naming\n",
    "use_case_for_drug=pd.DataFrame(df_train_encoded,columns=use_case_for_drug_col)\n",
    "\n",
    "#test data\n",
    "use_case_for_drug_test=pd.DataFrame(df_test_encoded,columns=use_case_for_drug_col)"
   ]
  },
  {
   "cell_type": "code",
   "execution_count": 36,
   "metadata": {
    "colab": {
     "base_uri": "https://localhost:8080/"
    },
    "id": "YcmSfxka4WrM",
    "outputId": "faf7b000-7a64-4b6a-e8d7-df073b337e58"
   },
   "outputs": [
    {
     "name": "stdout",
     "output_type": "stream",
     "text": [
      "encoded shape of train and test for use_case_for_drug column are :\n",
      " (32165, 636) \n",
      " (10760, 636)\n"
     ]
    }
   ],
   "source": [
    "print(\"encoded shape of train and test for use_case_for_drug column are :\\n\",df_train_encoded.shape,\"\\n\",df_test_encoded.shape)"
   ]
  },
  {
   "cell_type": "code",
   "execution_count": 37,
   "metadata": {
    "id": "vk_gnplf78ze"
   },
   "outputs": [],
   "source": [
    "#name_of_drug\n",
    "\n",
    "from sklearn.preprocessing import OneHotEncoder\n",
    "enc1 = OneHotEncoder(handle_unknown='ignore')\n",
    "enc1.fit(df_train[\"name_of_drug\"].values.reshape(-1,1))\n",
    "df_train_encoded1=enc1.transform(df_train[\"name_of_drug\"].values.reshape(-1,1)).toarray()\n",
    "\n",
    "\n",
    "#test_data -->> transform only\n",
    "df_test_encoded1=enc1.transform(df_test[\"name_of_drug\"].values.reshape(-1,1)).toarray()"
   ]
  },
  {
   "cell_type": "code",
   "execution_count": 38,
   "metadata": {
    "id": "B3rVNVtI8z_Z"
   },
   "outputs": [],
   "source": [
    "name_of_drug_col=[]\n",
    "for i in range(df_train_encoded1.shape[1]):\n",
    "  name_of_drug_col.append(\"name_of_drug_\"+str(i))\n",
    "\n",
    "name_of_drug=pd.DataFrame(df_train_encoded1,columns=name_of_drug_col)\n",
    "#test data\n",
    "name_of_drug_test=pd.DataFrame(df_test_encoded1,columns=name_of_drug_col)"
   ]
  },
  {
   "cell_type": "code",
   "execution_count": 39,
   "metadata": {
    "colab": {
     "base_uri": "https://localhost:8080/"
    },
    "id": "BB840b2o78zf",
    "outputId": "1507ce9d-b3e1-46e3-e8a0-29bfcd5c232f"
   },
   "outputs": [
    {
     "name": "stdout",
     "output_type": "stream",
     "text": [
      "encoded shape of train and test for name_of_drug column are :\n",
      " (32165, 2220) \n",
      " (10760, 2220)\n"
     ]
    }
   ],
   "source": [
    "print(\"encoded shape of train and test for name_of_drug column are :\\n\",df_train_encoded1.shape,\"\\n\",df_test_encoded1.shape)"
   ]
  },
  {
   "cell_type": "markdown",
   "metadata": {
    "id": "1zEY7hGwBvhe"
   },
   "source": [
    "##### standardizing the number_of_times_prescribed and effectiveness_rating \n",
    "* standardizing the number_of_times_prescribed and effectiveness_rating columns as the range values are high compared to other columns so it is good to standardize to bring into standard scale"
   ]
  },
  {
   "cell_type": "code",
   "execution_count": 40,
   "metadata": {
    "id": "8h1Kn_F2AZtl"
   },
   "outputs": [],
   "source": [
    "from sklearn.preprocessing import StandardScaler\n",
    "scaler = StandardScaler()\n",
    "scaled = scaler.fit_transform(df_tr.loc[:,[\"effectiveness_rating\",\"number_of_times_prescribed\"]])\n",
    "\n",
    "scaled_test=scaler.transform(df_te.loc[:,[\"effectiveness_rating\",\"number_of_times_prescribed\"]]) #only transform is used for test data"
   ]
  },
  {
   "cell_type": "code",
   "execution_count": 41,
   "metadata": {
    "id": "k3byHBTKC5cB"
   },
   "outputs": [],
   "source": [
    "std_rating_pres=pd.DataFrame(scaled,columns=[\"effectiveness_rating\",\"number_of_times_prescribed\"])\n",
    "std_rating_pres_test=pd.DataFrame(scaled_test,columns=[\"effectiveness_rating\",\"number_of_times_prescribed\"])"
   ]
  },
  {
   "cell_type": "markdown",
   "metadata": {
    "id": "0Fq6XushB3D-"
   },
   "source": [
    "##### Concatenating"
   ]
  },
  {
   "cell_type": "code",
   "execution_count": 42,
   "metadata": {
    "id": "j43jgCWvCydx"
   },
   "outputs": [],
   "source": [
    "y=df_tr[\"base_score\"]"
   ]
  },
  {
   "cell_type": "code",
   "execution_count": 43,
   "metadata": {
    "id": "iayklHH-8hKS"
   },
   "outputs": [],
   "source": [
    "df_tr=df_tr.drop([\"name_of_drug\",\"use_case_for_drug\",\"review_by_patient\",\"base_score\",\"effectiveness_rating\",\"number_of_times_prescribed\"],axis=1)\n",
    "df_te=df_te.drop([\"name_of_drug\",\"use_case_for_drug\",\"review_by_patient\",\"effectiveness_rating\",\"number_of_times_prescribed\"],axis=1)"
   ]
  },
  {
   "cell_type": "code",
   "execution_count": 44,
   "metadata": {
    "colab": {
     "base_uri": "https://localhost:8080/",
     "height": 334
    },
    "id": "dBZre95oADTC",
    "outputId": "a29128c4-dea2-4081-efbb-5415e010dd44"
   },
   "outputs": [
    {
     "name": "stdout",
     "output_type": "stream",
     "text": [
      "Shape of train data:  (32165, 2962)\n",
      "Shape of train data:  (10760, 2962)\n"
     ]
    },
    {
     "data": {
      "text/html": [
       "\n",
       "  <div id=\"df-1d9f651b-d837-4e1e-8571-18f594ba8e63\">\n",
       "    <div class=\"colab-df-container\">\n",
       "      <div>\n",
       "<style scoped>\n",
       "    .dataframe tbody tr th:only-of-type {\n",
       "        vertical-align: middle;\n",
       "    }\n",
       "\n",
       "    .dataframe tbody tr th {\n",
       "        vertical-align: top;\n",
       "    }\n",
       "\n",
       "    .dataframe thead th {\n",
       "        text-align: right;\n",
       "    }\n",
       "</style>\n",
       "<table border=\"1\" class=\"dataframe\">\n",
       "  <thead>\n",
       "    <tr style=\"text-align: right;\">\n",
       "      <th></th>\n",
       "      <th>patient_id</th>\n",
       "      <th>date</th>\n",
       "      <th>month</th>\n",
       "      <th>year</th>\n",
       "      <th>effectiveness_rating</th>\n",
       "      <th>number_of_times_prescribed</th>\n",
       "      <th>name_of_drug_0</th>\n",
       "      <th>name_of_drug_1</th>\n",
       "      <th>name_of_drug_2</th>\n",
       "      <th>name_of_drug_3</th>\n",
       "      <th>...</th>\n",
       "      <th>review90</th>\n",
       "      <th>review91</th>\n",
       "      <th>review92</th>\n",
       "      <th>review93</th>\n",
       "      <th>review94</th>\n",
       "      <th>review95</th>\n",
       "      <th>review96</th>\n",
       "      <th>review97</th>\n",
       "      <th>review98</th>\n",
       "      <th>review99</th>\n",
       "    </tr>\n",
       "  </thead>\n",
       "  <tbody>\n",
       "    <tr>\n",
       "      <th>0</th>\n",
       "      <td>206461</td>\n",
       "      <td>20</td>\n",
       "      <td>5</td>\n",
       "      <td>2012</td>\n",
       "      <td>0.611070</td>\n",
       "      <td>-0.024937</td>\n",
       "      <td>0.0</td>\n",
       "      <td>0.0</td>\n",
       "      <td>0.0</td>\n",
       "      <td>0.0</td>\n",
       "      <td>...</td>\n",
       "      <td>1.225603</td>\n",
       "      <td>0.072958</td>\n",
       "      <td>0.209666</td>\n",
       "      <td>0.408447</td>\n",
       "      <td>0.571413</td>\n",
       "      <td>0.186995</td>\n",
       "      <td>-0.400549</td>\n",
       "      <td>0.260937</td>\n",
       "      <td>-0.132575</td>\n",
       "      <td>-0.959135</td>\n",
       "    </tr>\n",
       "    <tr>\n",
       "      <th>1</th>\n",
       "      <td>95260</td>\n",
       "      <td>27</td>\n",
       "      <td>4</td>\n",
       "      <td>2010</td>\n",
       "      <td>0.305701</td>\n",
       "      <td>4.581624</td>\n",
       "      <td>0.0</td>\n",
       "      <td>0.0</td>\n",
       "      <td>0.0</td>\n",
       "      <td>0.0</td>\n",
       "      <td>...</td>\n",
       "      <td>0.915853</td>\n",
       "      <td>0.678801</td>\n",
       "      <td>-0.140437</td>\n",
       "      <td>0.191051</td>\n",
       "      <td>0.189241</td>\n",
       "      <td>0.363503</td>\n",
       "      <td>-0.424754</td>\n",
       "      <td>0.490442</td>\n",
       "      <td>-0.195897</td>\n",
       "      <td>-0.191871</td>\n",
       "    </tr>\n",
       "    <tr>\n",
       "      <th>2</th>\n",
       "      <td>92703</td>\n",
       "      <td>14</td>\n",
       "      <td>12</td>\n",
       "      <td>2009</td>\n",
       "      <td>-0.610405</td>\n",
       "      <td>-0.304123</td>\n",
       "      <td>0.0</td>\n",
       "      <td>0.0</td>\n",
       "      <td>0.0</td>\n",
       "      <td>0.0</td>\n",
       "      <td>...</td>\n",
       "      <td>0.895155</td>\n",
       "      <td>0.639460</td>\n",
       "      <td>-0.177698</td>\n",
       "      <td>0.167317</td>\n",
       "      <td>0.244101</td>\n",
       "      <td>0.136266</td>\n",
       "      <td>-0.659518</td>\n",
       "      <td>0.434085</td>\n",
       "      <td>-0.428383</td>\n",
       "      <td>-0.543554</td>\n",
       "    </tr>\n",
       "    <tr>\n",
       "      <th>3</th>\n",
       "      <td>35696</td>\n",
       "      <td>27</td>\n",
       "      <td>11</td>\n",
       "      <td>2016</td>\n",
       "      <td>0.611070</td>\n",
       "      <td>0.254248</td>\n",
       "      <td>0.0</td>\n",
       "      <td>0.0</td>\n",
       "      <td>0.0</td>\n",
       "      <td>0.0</td>\n",
       "      <td>...</td>\n",
       "      <td>0.489203</td>\n",
       "      <td>0.376118</td>\n",
       "      <td>0.101293</td>\n",
       "      <td>0.149794</td>\n",
       "      <td>0.158074</td>\n",
       "      <td>0.206090</td>\n",
       "      <td>-0.105666</td>\n",
       "      <td>0.220976</td>\n",
       "      <td>0.266518</td>\n",
       "      <td>-0.236672</td>\n",
       "    </tr>\n",
       "    <tr>\n",
       "      <th>4</th>\n",
       "      <td>155963</td>\n",
       "      <td>28</td>\n",
       "      <td>11</td>\n",
       "      <td>2015</td>\n",
       "      <td>-1.526511</td>\n",
       "      <td>0.421760</td>\n",
       "      <td>0.0</td>\n",
       "      <td>0.0</td>\n",
       "      <td>0.0</td>\n",
       "      <td>0.0</td>\n",
       "      <td>...</td>\n",
       "      <td>1.008379</td>\n",
       "      <td>0.260281</td>\n",
       "      <td>0.132618</td>\n",
       "      <td>0.241613</td>\n",
       "      <td>0.386429</td>\n",
       "      <td>0.059607</td>\n",
       "      <td>-0.231880</td>\n",
       "      <td>0.257678</td>\n",
       "      <td>-0.212199</td>\n",
       "      <td>-0.474229</td>\n",
       "    </tr>\n",
       "  </tbody>\n",
       "</table>\n",
       "<p>5 rows × 2962 columns</p>\n",
       "</div>\n",
       "      <button class=\"colab-df-convert\" onclick=\"convertToInteractive('df-1d9f651b-d837-4e1e-8571-18f594ba8e63')\"\n",
       "              title=\"Convert this dataframe to an interactive table.\"\n",
       "              style=\"display:none;\">\n",
       "        \n",
       "  <svg xmlns=\"http://www.w3.org/2000/svg\" height=\"24px\"viewBox=\"0 0 24 24\"\n",
       "       width=\"24px\">\n",
       "    <path d=\"M0 0h24v24H0V0z\" fill=\"none\"/>\n",
       "    <path d=\"M18.56 5.44l.94 2.06.94-2.06 2.06-.94-2.06-.94-.94-2.06-.94 2.06-2.06.94zm-11 1L8.5 8.5l.94-2.06 2.06-.94-2.06-.94L8.5 2.5l-.94 2.06-2.06.94zm10 10l.94 2.06.94-2.06 2.06-.94-2.06-.94-.94-2.06-.94 2.06-2.06.94z\"/><path d=\"M17.41 7.96l-1.37-1.37c-.4-.4-.92-.59-1.43-.59-.52 0-1.04.2-1.43.59L10.3 9.45l-7.72 7.72c-.78.78-.78 2.05 0 2.83L4 21.41c.39.39.9.59 1.41.59.51 0 1.02-.2 1.41-.59l7.78-7.78 2.81-2.81c.8-.78.8-2.07 0-2.86zM5.41 20L4 18.59l7.72-7.72 1.47 1.35L5.41 20z\"/>\n",
       "  </svg>\n",
       "      </button>\n",
       "      \n",
       "  <style>\n",
       "    .colab-df-container {\n",
       "      display:flex;\n",
       "      flex-wrap:wrap;\n",
       "      gap: 12px;\n",
       "    }\n",
       "\n",
       "    .colab-df-convert {\n",
       "      background-color: #E8F0FE;\n",
       "      border: none;\n",
       "      border-radius: 50%;\n",
       "      cursor: pointer;\n",
       "      display: none;\n",
       "      fill: #1967D2;\n",
       "      height: 32px;\n",
       "      padding: 0 0 0 0;\n",
       "      width: 32px;\n",
       "    }\n",
       "\n",
       "    .colab-df-convert:hover {\n",
       "      background-color: #E2EBFA;\n",
       "      box-shadow: 0px 1px 2px rgba(60, 64, 67, 0.3), 0px 1px 3px 1px rgba(60, 64, 67, 0.15);\n",
       "      fill: #174EA6;\n",
       "    }\n",
       "\n",
       "    [theme=dark] .colab-df-convert {\n",
       "      background-color: #3B4455;\n",
       "      fill: #D2E3FC;\n",
       "    }\n",
       "\n",
       "    [theme=dark] .colab-df-convert:hover {\n",
       "      background-color: #434B5C;\n",
       "      box-shadow: 0px 1px 3px 1px rgba(0, 0, 0, 0.15);\n",
       "      filter: drop-shadow(0px 1px 2px rgba(0, 0, 0, 0.3));\n",
       "      fill: #FFFFFF;\n",
       "    }\n",
       "  </style>\n",
       "\n",
       "      <script>\n",
       "        const buttonEl =\n",
       "          document.querySelector('#df-1d9f651b-d837-4e1e-8571-18f594ba8e63 button.colab-df-convert');\n",
       "        buttonEl.style.display =\n",
       "          google.colab.kernel.accessAllowed ? 'block' : 'none';\n",
       "\n",
       "        async function convertToInteractive(key) {\n",
       "          const element = document.querySelector('#df-1d9f651b-d837-4e1e-8571-18f594ba8e63');\n",
       "          const dataTable =\n",
       "            await google.colab.kernel.invokeFunction('convertToInteractive',\n",
       "                                                     [key], {});\n",
       "          if (!dataTable) return;\n",
       "\n",
       "          const docLinkHtml = 'Like what you see? Visit the ' +\n",
       "            '<a target=\"_blank\" href=https://colab.research.google.com/notebooks/data_table.ipynb>data table notebook</a>'\n",
       "            + ' to learn more about interactive tables.';\n",
       "          element.innerHTML = '';\n",
       "          dataTable['output_type'] = 'display_data';\n",
       "          await google.colab.output.renderOutput(dataTable, element);\n",
       "          const docLink = document.createElement('div');\n",
       "          docLink.innerHTML = docLinkHtml;\n",
       "          element.appendChild(docLink);\n",
       "        }\n",
       "      </script>\n",
       "    </div>\n",
       "  </div>\n",
       "  "
      ],
      "text/plain": [
       "   patient_id  date  month  year  effectiveness_rating  \\\n",
       "0      206461    20      5  2012              0.611070   \n",
       "1       95260    27      4  2010              0.305701   \n",
       "2       92703    14     12  2009             -0.610405   \n",
       "3       35696    27     11  2016              0.611070   \n",
       "4      155963    28     11  2015             -1.526511   \n",
       "\n",
       "   number_of_times_prescribed  name_of_drug_0  name_of_drug_1  name_of_drug_2  \\\n",
       "0                   -0.024937             0.0             0.0             0.0   \n",
       "1                    4.581624             0.0             0.0             0.0   \n",
       "2                   -0.304123             0.0             0.0             0.0   \n",
       "3                    0.254248             0.0             0.0             0.0   \n",
       "4                    0.421760             0.0             0.0             0.0   \n",
       "\n",
       "   name_of_drug_3  ...  review90  review91  review92  review93  review94  \\\n",
       "0             0.0  ...  1.225603  0.072958  0.209666  0.408447  0.571413   \n",
       "1             0.0  ...  0.915853  0.678801 -0.140437  0.191051  0.189241   \n",
       "2             0.0  ...  0.895155  0.639460 -0.177698  0.167317  0.244101   \n",
       "3             0.0  ...  0.489203  0.376118  0.101293  0.149794  0.158074   \n",
       "4             0.0  ...  1.008379  0.260281  0.132618  0.241613  0.386429   \n",
       "\n",
       "   review95  review96  review97  review98  review99  \n",
       "0  0.186995 -0.400549  0.260937 -0.132575 -0.959135  \n",
       "1  0.363503 -0.424754  0.490442 -0.195897 -0.191871  \n",
       "2  0.136266 -0.659518  0.434085 -0.428383 -0.543554  \n",
       "3  0.206090 -0.105666  0.220976  0.266518 -0.236672  \n",
       "4  0.059607 -0.231880  0.257678 -0.212199 -0.474229  \n",
       "\n",
       "[5 rows x 2962 columns]"
      ]
     },
     "execution_count": 44,
     "metadata": {},
     "output_type": "execute_result"
    }
   ],
   "source": [
    "df_tr1=pd.concat([df_tr,std_rating_pres,name_of_drug,use_case_for_drug,review_df],axis=1)\n",
    "df_te1=pd.concat([df_te,std_rating_pres_test,name_of_drug_test,use_case_for_drug_test,review_df_test],axis=1)\n",
    "print(\"Shape of train data: \",df_tr1.shape)\n",
    "print(\"Shape of train data: \",df_te1.shape)\n",
    "df_tr1.head()"
   ]
  },
  {
   "cell_type": "markdown",
   "metadata": {
    "id": "CymOiWuxDi68"
   },
   "source": [
    "* Patient_id is unique column so we need to drop it as it does not add any value"
   ]
  },
  {
   "cell_type": "code",
   "execution_count": 45,
   "metadata": {
    "id": "RaBUndT8L5lM"
   },
   "outputs": [],
   "source": [
    "#drop patient_id column\n",
    "df_tr1=df_tr1.drop([\"patient_id\"],axis=1)\n",
    "df_te1=df_te1.drop([\"patient_id\"],axis=1)"
   ]
  },
  {
   "cell_type": "code",
   "execution_count": null,
   "metadata": {
    "id": "qXd3hy023Cau"
   },
   "outputs": [],
   "source": [
    "# df_tr1[\"effectiveness_rating\"]=df_train[\"effectiveness_rating\"]\n",
    "# df_tr1[\"number_of_times_prescribed\"]=df_train[\"number_of_times_prescribed\"]"
   ]
  },
  {
   "cell_type": "code",
   "execution_count": 46,
   "metadata": {
    "colab": {
     "base_uri": "https://localhost:8080/"
    },
    "id": "64qhp2YnjeXR",
    "outputId": "a3b3f6b3-5ad8-4480-c4ad-2d6de6e1e9bb"
   },
   "outputs": [
    {
     "data": {
      "text/plain": [
       "Index([], dtype='object')"
      ]
     },
     "execution_count": 46,
     "metadata": {},
     "output_type": "execute_result"
    }
   ],
   "source": [
    "#no null value detected\n",
    "df_tr1.columns[df_tr1.isnull().any()]"
   ]
  },
  {
   "cell_type": "markdown",
   "metadata": {
    "id": "xpcHi0rqFFeS"
   },
   "source": [
    "#### 7. Modeling"
   ]
  },
  {
   "cell_type": "markdown",
   "metadata": {
    "id": "-iqx6s8Bfc3z"
   },
   "source": [
    "##### Data Splitting"
   ]
  },
  {
   "cell_type": "code",
   "execution_count": 47,
   "metadata": {
    "id": "CjzsMvepffb6"
   },
   "outputs": [],
   "source": [
    "from sklearn.model_selection import train_test_split\n",
    "X_train, X_cv, y_train, y_cv = train_test_split(df_tr1, y, test_size=0.20,random_state=42)"
   ]
  },
  {
   "cell_type": "code",
   "execution_count": 48,
   "metadata": {
    "colab": {
     "base_uri": "https://localhost:8080/"
    },
    "id": "RSuayKSSfzX7",
    "outputId": "a3fce23c-0213-434c-c595-af4447141ff3"
   },
   "outputs": [
    {
     "name": "stdout",
     "output_type": "stream",
     "text": [
      "Shape of train data is :  (25732, 2961) (25732,)\n",
      "Shape of cv data is :  (6433, 2961) (6433,)\n"
     ]
    }
   ],
   "source": [
    "print(\"Shape of train data is : \",X_train.shape,y_train.shape)\n",
    "print(\"Shape of cv data is : \",X_cv.shape,y_cv.shape)"
   ]
  },
  {
   "cell_type": "markdown",
   "metadata": {
    "id": "MHdJWeybQ1xj"
   },
   "source": [
    "##### Model-1: Linear Regression (Base Model)"
   ]
  },
  {
   "cell_type": "code",
   "execution_count": 49,
   "metadata": {
    "id": "w4R7OeK2_sJd"
   },
   "outputs": [],
   "source": [
    "#https://stackoverflow.com/questions/48033510/tuning-parameters-for-svm-regression  -->> choosing parameters\n",
    "# Here we will apply K-Fol cross validation for thorough learning of training data set where we can avaoid the splitting of train data \n",
    "#https://stackoverflow.com/questions/17197492/is-there-a-library-function-for-root-mean-square-error-rmse-in-python  -->> rmse \n",
    "from sklearn.model_selection import KFold\n",
    "from sklearn.linear_model import LinearRegression\n",
    "from sklearn.model_selection import GridSearchCV,RandomizedSearchCV\n",
    "from sklearn.metrics import mean_squared_error\n"
   ]
  },
  {
   "cell_type": "code",
   "execution_count": null,
   "metadata": {
    "id": "2grn2m7EGASt"
   },
   "outputs": [],
   "source": [
    "#https://scikit-learn.org/stable/modules/generated/sklearn.linear_model.LinearRegression.html\n",
    "regressor = LinearRegression()\n",
    "regressor.fit(X_train,y_train)\n",
    "y_pred_train = regressor.predict(X_train)\n",
    "y_pred_cv = regressor.predict(X_cv)"
   ]
  },
  {
   "cell_type": "code",
   "execution_count": null,
   "metadata": {
    "colab": {
     "base_uri": "https://localhost:8080/"
    },
    "id": "VoZDhQ8yIcjW",
    "outputId": "416cd183-8b36-4a9b-88e2-b863cde378da"
   },
   "outputs": [
    {
     "name": "stdout",
     "output_type": "stream",
     "text": [
      "train RSME score is :  1.365623162764045\n",
      "CV RSME score is :  4763872360.879542\n"
     ]
    }
   ],
   "source": [
    "from sklearn.metrics import mean_squared_error\n",
    "print(\"train RSME score is : \",np.sqrt(mean_squared_error(y_train,y_pred_train)))\n",
    "print(\"CV RSME score is : \",np.sqrt(mean_squared_error(y_cv,y_pred_cv)))"
   ]
  },
  {
   "cell_type": "markdown",
   "metadata": {
    "id": "XBPTIEqWRk7U"
   },
   "source": [
    "##### Observations:\n",
    "* Patient_id addition was improving the CV RMSE score but does not make sense giving information on base_score so it is removed.\n",
    "* Linear regression is not performing well. So we will check the feature importance"
   ]
  },
  {
   "cell_type": "code",
   "execution_count": null,
   "metadata": {
    "colab": {
     "base_uri": "https://localhost:8080/"
    },
    "id": "ifn0FvOPKtiO",
    "outputId": "bfe8260a-7c6b-4954-a6e5-83189a7b6b51"
   },
   "outputs": [
    {
     "data": {
      "text/plain": [
       "[('use_case_for_drug292', 77632320755.32895),\n",
       " ('use_case_for_drug488', 77632320752.27818),\n",
       " ('name_of_drug_35', 72799247182.8797),\n",
       " ('name_of_drug_89', 30141843651.560013),\n",
       " ('name_of_drug_56', 29866189189.362946)]"
      ]
     },
     "execution_count": 68,
     "metadata": {},
     "output_type": "execute_result"
    }
   ],
   "source": [
    "# extracting important features and fitting model on the important features only\n",
    "importance = regressor.coef_\n",
    "dict1=dict()\n",
    "for i,v in zip(df_tr1.columns,importance):\n",
    "\tdict1[i]=v\n",
    "top_features=sorted(dict1.items(),key=lambda x : x[1],reverse=True)[:5]\n",
    "top_feature_names=[]\n",
    "for i in top_features:\n",
    "  top_feature_names.append(i[0])\n",
    "top_features"
   ]
  },
  {
   "cell_type": "code",
   "execution_count": null,
   "metadata": {
    "id": "jgwg1WHHTEJm"
   },
   "outputs": [],
   "source": [
    "# fitting the linear regresion on top 10 features only\n",
    "regressor1 = LinearRegression()\n",
    "regressor1.fit(X_train.loc[:,top_feature_names],y_train)\n",
    "y_pred_train = regressor1.predict(X_train.loc[:,top_feature_names])\n",
    "y_pred_cv = regressor1.predict(X_cv.loc[:,top_feature_names])"
   ]
  },
  {
   "cell_type": "code",
   "execution_count": null,
   "metadata": {
    "colab": {
     "base_uri": "https://localhost:8080/"
    },
    "id": "hMsfS9TnR2r8",
    "outputId": "8b5733ad-5af6-4f45-a3fe-29f1f397eb5d"
   },
   "outputs": [
    {
     "name": "stdout",
     "output_type": "stream",
     "text": [
      "train RSME score is :  1.5876590687968648\n",
      "CV RSME score is :  1.591721407356096\n"
     ]
    }
   ],
   "source": [
    "from sklearn.metrics import mean_squared_error\n",
    "print(\"train RSME score is : \",np.sqrt(mean_squared_error(y_train,y_pred_train)))\n",
    "print(\"CV RSME score is : \",np.sqrt(mean_squared_error(y_cv,y_pred_cv)))"
   ]
  },
  {
   "cell_type": "markdown",
   "metadata": {
    "id": "aSWOV0iSH5wv"
   },
   "source": [
    "##### Observation:\n",
    "* With top 5 features from previously trained model is giving sensible CV RMSE score"
   ]
  },
  {
   "cell_type": "markdown",
   "metadata": {
    "id": "tNTG9i_N9t0O"
   },
   "source": [
    "##### Model-2: DecisionTree Regressor\n"
   ]
  },
  {
   "cell_type": "code",
   "execution_count": null,
   "metadata": {
    "colab": {
     "base_uri": "https://localhost:8080/"
    },
    "id": "qpC3sAxx9x7O",
    "outputId": "d74449f7-3f54-44fe-9e83-3c9640906425"
   },
   "outputs": [
    {
     "name": "stdout",
     "output_type": "stream",
     "text": [
      "Fitting 5 folds for each of 10 candidates, totalling 50 fits\n"
     ]
    },
    {
     "data": {
      "text/plain": [
       "RandomizedSearchCV(estimator=DecisionTreeRegressor(), n_jobs=-1,\n",
       "                   param_distributions={'max_depth': [4, 5, 10, 20, 50],\n",
       "                                        'min_samples_leaf': [1, 2, 4],\n",
       "                                        'min_samples_split': [2, 5, 10]},\n",
       "                   scoring='neg_root_mean_squared_error', verbose=2)"
      ]
     },
     "execution_count": 52,
     "metadata": {},
     "output_type": "execute_result"
    }
   ],
   "source": [
    "from sklearn.tree import DecisionTreeRegressor\n",
    "params = {\n",
    "         'max_depth': [4, 5, 10, 20, 50],\n",
    "         'min_samples_leaf': [1, 2, 4],\n",
    "         'min_samples_split': [2, 5, 10],\n",
    "    }\n",
    "\n",
    "model_dec = DecisionTreeRegressor()\n",
    "dt_random = RandomizedSearchCV(estimator = model_dec, param_distributions = params,scoring=\"neg_root_mean_squared_error\",verbose=2,n_jobs = -1)\n",
    "dt_random.fit(X_train, y_train)"
   ]
  },
  {
   "cell_type": "code",
   "execution_count": null,
   "metadata": {
    "colab": {
     "base_uri": "https://localhost:8080/"
    },
    "id": "EeIhV6H3PVOA",
    "outputId": "1e349ce5-dc03-47bd-9f81-f7b443d776c4"
   },
   "outputs": [
    {
     "data": {
      "text/plain": [
       "DecisionTreeRegressor(max_depth=50, min_samples_leaf=4)"
      ]
     },
     "execution_count": 53,
     "metadata": {},
     "output_type": "execute_result"
    }
   ],
   "source": [
    "#best fitted estimator\n",
    "dt_random.best_estimator_"
   ]
  },
  {
   "cell_type": "code",
   "execution_count": null,
   "metadata": {
    "colab": {
     "base_uri": "https://localhost:8080/"
    },
    "id": "NvyrUMv8QNqR",
    "outputId": "d1da9ee2-796b-4f85-bdfe-05d57f76e5e5"
   },
   "outputs": [
    {
     "data": {
      "text/plain": [
       "DecisionTreeRegressor(max_depth=50, min_samples_split=5)"
      ]
     },
     "execution_count": 54,
     "metadata": {},
     "output_type": "execute_result"
    }
   ],
   "source": [
    "model_dec_best = DecisionTreeRegressor(max_depth=50, min_samples_split=5)\n",
    "model_dec_best.fit(X_train, y_train)"
   ]
  },
  {
   "cell_type": "code",
   "execution_count": null,
   "metadata": {
    "colab": {
     "base_uri": "https://localhost:8080/"
    },
    "id": "LWCrrkcaPpyJ",
    "outputId": "d73caeaf-bd78-4ef2-d20c-d602b6a38dd9"
   },
   "outputs": [
    {
     "name": "stdout",
     "output_type": "stream",
     "text": [
      "train RSME score is :  0.04846060388523457\n",
      "CV RSME score is :  0.399612025791325\n"
     ]
    }
   ],
   "source": [
    "predict_val_train=model_dec_best.predict(X_train)\n",
    "predict_val_test=model_dec_best.predict(X_cv)\n",
    "from sklearn.metrics import mean_squared_error\n",
    "print(\"train RSME score is : \",np.sqrt(mean_squared_error(y_train,predict_val_train)))\n",
    "print(\"CV RSME score is : \",np.sqrt(mean_squared_error(y_cv,predict_val_test)))"
   ]
  },
  {
   "cell_type": "markdown",
   "metadata": {
    "id": "JWj0m8jsQmni"
   },
   "source": [
    "##### Observations:\n",
    "* CV RMSE = 0.414 is achieved and model looks slightly overfitted"
   ]
  },
  {
   "cell_type": "code",
   "execution_count": null,
   "metadata": {
    "id": "tUukHluR-nnX"
   },
   "outputs": [],
   "source": [
    "importance = model_dec_best.feature_importances_\n",
    "dict_imp=dict()\n",
    "for i ,v in zip(X_train.columns,importance):\n",
    "  dict_imp[i]=v"
   ]
  },
  {
   "cell_type": "code",
   "execution_count": null,
   "metadata": {
    "id": "hPYsdPvx-ubX"
   },
   "outputs": [],
   "source": [
    "top_features_decision=sorted(dict_imp.items(),key=lambda x : x[1],reverse=True)\n",
    "top_feature_dec_names=[]\n",
    "for i in top_features_decision:\n",
    "  top_feature_dec_names.append(i[0])\n"
   ]
  },
  {
   "cell_type": "code",
   "execution_count": null,
   "metadata": {
    "id": "uEP0Icbud3A0"
   },
   "outputs": [],
   "source": [
    "# import pickle\n",
    "# with open ('/content/drive/My Drive/important_columns_dict', 'wb') as fp:\n",
    "#     pickle.dump(top_features_decision,fp)"
   ]
  },
  {
   "cell_type": "code",
   "execution_count": null,
   "metadata": {
    "id": "t-xEMh_fe7n_"
   },
   "outputs": [],
   "source": [
    "import pickle\n",
    "with open(\"/content/drive/My Drive/important_columns_dict\", \"rb\") as fpt:   # Unpickling\n",
    "  top_features_decision1 = pickle.load(fpt)"
   ]
  },
  {
   "cell_type": "code",
   "execution_count": null,
   "metadata": {
    "colab": {
     "base_uri": "https://localhost:8080/"
    },
    "id": "hauNW7gi_F14",
    "outputId": "789f15df-ae52-4881-b1f8-e1babb011606"
   },
   "outputs": [
    {
     "data": {
      "text/plain": [
       "[('number_of_times_prescribed', 0.48670667228618064),\n",
       " ('effectiveness_rating', 0.4826423900078413),\n",
       " ('review40', 0.0010227994645899288),\n",
       " ('review1', 0.0008996496587341599),\n",
       " ('review79', 0.0007767493657148787),\n",
       " ('review98', 0.0007687755453634477),\n",
       " ('review68', 0.0007370167398343165),\n",
       " ('review83', 0.0007189738168136586),\n",
       " ('review64', 0.0006504443365230672),\n",
       " ('review48', 0.0006012010667372923)]"
      ]
     },
     "execution_count": 52,
     "metadata": {},
     "output_type": "execute_result"
    }
   ],
   "source": [
    "top_features_decision1[:10]"
   ]
  },
  {
   "cell_type": "markdown",
   "metadata": {
    "id": "MKkIptAeRkCD"
   },
   "source": [
    "##### Observations:\n",
    "* We observe number_of_times_prescribed and effectiveness_rating are contributing the most to fit the line of base_score\n",
    "* So for the next ensemble models, we will choose the top/most importanat features obtained here\n",
    "*name_of_drug is not contributing at all so it can be fairly dropped from the feature list"
   ]
  },
  {
   "cell_type": "markdown",
   "metadata": {
    "id": "S2n8Z12AumEW"
   },
   "source": [
    "##### XGBRegressor"
   ]
  },
  {
   "cell_type": "code",
   "execution_count": 50,
   "metadata": {
    "id": "JMzXmI3RfkRG"
   },
   "outputs": [],
   "source": [
    "name_of_drug.columns\n",
    "#dropping the name_of_drug columns from the dataset\n",
    "X_train1=X_train.drop(name_of_drug.columns,axis=1)\n",
    "X_cv1=X_cv.drop(name_of_drug.columns,axis=1)"
   ]
  },
  {
   "cell_type": "code",
   "execution_count": 51,
   "metadata": {
    "colab": {
     "base_uri": "https://localhost:8080/"
    },
    "id": "Z50rRzB41WL9",
    "outputId": "92c98fd7-ced4-4f26-c196-31eac5e35edd"
   },
   "outputs": [
    {
     "name": "stdout",
     "output_type": "stream",
     "text": [
      "Shape of train data (25732, 741) (25732,)\n",
      "Shape of cv data (6433, 741) (6433,)\n"
     ]
    }
   ],
   "source": [
    "print(\"Shape of train data\",X_train1.shape,y_train.shape)\n",
    "print(\"Shape of cv data\",X_cv1.shape,y_cv.shape)"
   ]
  },
  {
   "cell_type": "code",
   "execution_count": 52,
   "metadata": {
    "id": "04PsRXB5vGee"
   },
   "outputs": [],
   "source": [
    "from sklearn.model_selection import RandomizedSearchCV\n",
    "from xgboost import XGBRegressor\n",
    "import time\n",
    "from datetime import datetime"
   ]
  },
  {
   "cell_type": "code",
   "execution_count": null,
   "metadata": {
    "colab": {
     "base_uri": "https://localhost:8080/"
    },
    "id": "S65wkzRiXpQk",
    "outputId": "6a2555d9-72a6-4962-e519-d772f9f2c8ac"
   },
   "outputs": [
    {
     "name": "stdout",
     "output_type": "stream",
     "text": [
      "Fitting 3 folds for each of 10 candidates, totalling 30 fits\n",
      "[21:29:01] WARNING: /workspace/src/objective/regression_obj.cu:152: reg:linear is now deprecated in favor of reg:squarederror.\n"
     ]
    },
    {
     "data": {
      "text/plain": [
       "RandomizedSearchCV(cv=3, estimator=XGBRegressor(), n_jobs=-1,\n",
       "                   param_distributions={'learning_rate': [0.2, 0.25, 0.3, 0.5],\n",
       "                                        'max_depth': [4, 5, 10],\n",
       "                                        'min_samples_split': [2, 5, 10],\n",
       "                                        'n_estimators': [500, 1000]},\n",
       "                   scoring='neg_root_mean_squared_error', verbose=2)"
      ]
     },
     "execution_count": 70,
     "metadata": {},
     "output_type": "execute_result"
    }
   ],
   "source": [
    "params = {\n",
    "         'max_depth': [4, 5, 10],\n",
    "         'learning_rate': [0.2,0.25,0.3,0.5],\n",
    "         'min_samples_split': [2, 5, 10],\n",
    "         'n_estimators':[500, 1000]\n",
    "    }\n",
    "model_xgb = XGBRegressor()\n",
    "xgb_random = RandomizedSearchCV(estimator = model_xgb, param_distributions = params,cv=3,scoring=\"neg_root_mean_squared_error\",verbose=2,n_jobs = -1)\n",
    "xgb_random.fit(X_train1, y_train)"
   ]
  },
  {
   "cell_type": "code",
   "execution_count": null,
   "metadata": {
    "colab": {
     "base_uri": "https://localhost:8080/"
    },
    "id": "tVeAVXNrXpT3",
    "outputId": "034d8d02-59a8-4334-f223-9af7d7f97d84"
   },
   "outputs": [
    {
     "data": {
      "text/plain": [
       "XGBRegressor(learning_rate=0.2, max_depth=5, min_samples_split=10,\n",
       "             n_estimators=1000)"
      ]
     },
     "execution_count": 71,
     "metadata": {},
     "output_type": "execute_result"
    }
   ],
   "source": [
    "#best fitted estimator\n",
    "xgb_random.best_estimator_"
   ]
  },
  {
   "cell_type": "code",
   "execution_count": 53,
   "metadata": {
    "colab": {
     "base_uri": "https://localhost:8080/"
    },
    "id": "-3mvKFxf8r5P",
    "outputId": "3b5bc00b-e797-420a-e285-ee669d17f829"
   },
   "outputs": [
    {
     "name": "stdout",
     "output_type": "stream",
     "text": [
      "[03:14:07] WARNING: /workspace/src/objective/regression_obj.cu:152: reg:linear is now deprecated in favor of reg:squarederror.\n"
     ]
    },
    {
     "data": {
      "text/plain": [
       "XGBRegressor(learning_rate=0.2, max_depth=5, min_samples_split=10,\n",
       "             n_estimators=1000)"
      ]
     },
     "execution_count": 53,
     "metadata": {},
     "output_type": "execute_result"
    }
   ],
   "source": [
    "model_xgb_best = XGBRegressor(learning_rate=0.2, max_depth=5, min_samples_split=10,n_estimators=1000)\n",
    "model_xgb_best.fit(X_train1, y_train)"
   ]
  },
  {
   "cell_type": "code",
   "execution_count": 54,
   "metadata": {
    "colab": {
     "base_uri": "https://localhost:8080/"
    },
    "id": "SwMB8ZPU1yuu",
    "outputId": "2d7cce97-8378-43f5-d2cf-bfb4e8991d16"
   },
   "outputs": [
    {
     "name": "stdout",
     "output_type": "stream",
     "text": [
      "Train RSME score is :  0.021967718541420243\n",
      "CV RSME score is :  0.14958817974950137\n"
     ]
    }
   ],
   "source": [
    "from sklearn.metrics import mean_squared_error\n",
    "y_pred_train = model_xgb_best.predict(X_train1)\n",
    "y_pred_test = model_xgb_best.predict(X_cv1)\n",
    "print(\"Train RSME score is : \",np.sqrt(mean_squared_error(y_train,y_pred_train)))\n",
    "print(\"CV RSME score is : \",np.sqrt(mean_squared_error(y_cv,y_pred_test)))"
   ]
  },
  {
   "cell_type": "code",
   "execution_count": 56,
   "metadata": {
    "id": "fP54ud_TGcvE"
   },
   "outputs": [],
   "source": [
    "important_features_xgb=model_xgb_best.feature_importances_\n",
    "dict_imp_xgb=dict()\n",
    "for i ,v in zip(X_train1.columns,important_features_xgb):\n",
    "  dict_imp_xgb[i]=v"
   ]
  },
  {
   "cell_type": "code",
   "execution_count": 58,
   "metadata": {
    "id": "vrUKAGjlFrEJ"
   },
   "outputs": [],
   "source": [
    "top_features_xgb=sorted(dict_imp_xgb.items(),key=lambda x : x[1],reverse=True)\n",
    "top_feature_xgb_names=[]\n",
    "for i in top_features_xgb:\n",
    "  top_feature_xgb_names.append(i[0])"
   ]
  },
  {
   "cell_type": "code",
   "execution_count": 59,
   "metadata": {
    "colab": {
     "base_uri": "https://localhost:8080/"
    },
    "id": "kO4c4aINFrHP",
    "outputId": "d374f67f-6cf9-4353-ce1e-10833046ccc0"
   },
   "outputs": [
    {
     "data": {
      "text/plain": [
       "[('effectiveness_rating', 0.48313814),\n",
       " ('number_of_times_prescribed', 0.27753368),\n",
       " ('use_case_for_drug548', 0.035780057),\n",
       " ('use_case_for_drug287', 0.012286107),\n",
       " ('review96', 0.008513649),\n",
       " ('use_case_for_drug334', 0.0054128254),\n",
       " ('review48', 0.005378629),\n",
       " ('review37', 0.003692643),\n",
       " ('review90', 0.0025524325),\n",
       " ('review65', 0.0025435404)]"
      ]
     },
     "execution_count": 59,
     "metadata": {},
     "output_type": "execute_result"
    }
   ],
   "source": [
    "top_features_xgb[:10]"
   ]
  },
  {
   "cell_type": "markdown",
   "metadata": {
    "id": "cmL5Q4LKP4g_"
   },
   "source": [
    "* Checking the model with only top 2 features"
   ]
  },
  {
   "cell_type": "code",
   "execution_count": 69,
   "metadata": {
    "colab": {
     "base_uri": "https://localhost:8080/"
    },
    "id": "Dx12tpCHFrT_",
    "outputId": "1648ab25-d044-4951-8663-4950eaf8387d"
   },
   "outputs": [
    {
     "name": "stdout",
     "output_type": "stream",
     "text": [
      "[04:07:54] WARNING: /workspace/src/objective/regression_obj.cu:152: reg:linear is now deprecated in favor of reg:squarederror.\n"
     ]
    },
    {
     "data": {
      "text/plain": [
       "XGBRegressor(learning_rate=0.2, max_depth=5, min_samples_split=10,\n",
       "             n_estimators=1000)"
      ]
     },
     "execution_count": 69,
     "metadata": {},
     "output_type": "execute_result"
    }
   ],
   "source": [
    "model_xgb_best1 = XGBRegressor(learning_rate=0.2, max_depth=5, min_samples_split=10,n_estimators=1000)\n",
    "model_xgb_best1.fit(X_train1.loc[:,top_feature_xgb_names[:2]], y_train)"
   ]
  },
  {
   "cell_type": "code",
   "execution_count": 70,
   "metadata": {
    "colab": {
     "base_uri": "https://localhost:8080/"
    },
    "id": "cbyo4He7QMmx",
    "outputId": "ef88669a-f7f4-462e-9631-3ed77102110b"
   },
   "outputs": [
    {
     "name": "stdout",
     "output_type": "stream",
     "text": [
      "Train RSME score with only top features is :  0.006549431729782531\n",
      "CV RSME score with only top features is :  0.06507549025787276\n"
     ]
    }
   ],
   "source": [
    "from sklearn.metrics import mean_squared_error\n",
    "y_pred_train1 = model_xgb_best1.predict(X_train1.loc[:,top_feature_xgb_names[:2]])\n",
    "y_pred_test1 = model_xgb_best1.predict(X_cv1.loc[:,top_feature_xgb_names[:2]])\n",
    "print(\"Train RSME score with only top features is : \",np.sqrt(mean_squared_error(y_train,y_pred_train1)))\n",
    "print(\"CV RSME score with only top features is : \",np.sqrt(mean_squared_error(y_cv,y_pred_test1)))"
   ]
  },
  {
   "cell_type": "markdown",
   "metadata": {
    "id": "o6EFEVWMRnGq"
   },
   "source": [
    "##### Observations:\n",
    "* 'effectiveness_rating','number_of_times_prescribed' columns are contributing more to match the fitting line and use_case_of_drug and reviews are decreasing the model performance by creating noise.\n",
    "* CV RMSE of 0.065 is achieved with XGBRegressor"
   ]
  },
  {
   "cell_type": "markdown",
   "metadata": {
    "id": "vdjeundISO6H"
   },
   "source": [
    "##### LGBRegressor"
   ]
  },
  {
   "cell_type": "code",
   "execution_count": 73,
   "metadata": {
    "id": "I-_8hcUEQNv-"
   },
   "outputs": [],
   "source": [
    "import lightgbm as lgbm"
   ]
  },
  {
   "cell_type": "code",
   "execution_count": 101,
   "metadata": {
    "colab": {
     "base_uri": "https://localhost:8080/"
    },
    "id": "KPevoACiQNyP",
    "outputId": "b80c0533-6a93-414e-b722-1b210b4c3102"
   },
   "outputs": [
    {
     "name": "stdout",
     "output_type": "stream",
     "text": [
      "Fitting 3 folds for each of 10 candidates, totalling 30 fits\n"
     ]
    },
    {
     "data": {
      "text/plain": [
       "RandomizedSearchCV(cv=3, estimator=LGBMRegressor(), n_jobs=-1,\n",
       "                   param_distributions={'boosting_type': ['dart', 'goss'],\n",
       "                                        'learning_rate': [0.1, 0.2, 0.25, 0.3],\n",
       "                                        'max_depth': [5, 7, 10, 20],\n",
       "                                        'n_estimators': [100, 500, 1000],\n",
       "                                        'num_leaves': [31, 50, 70],\n",
       "                                        'reg_alpha': [0.1, 1, 10, 30]},\n",
       "                   scoring='neg_root_mean_squared_error', verbose=2)"
      ]
     },
     "execution_count": 101,
     "metadata": {},
     "output_type": "execute_result"
    }
   ],
   "source": [
    "#https://lightgbm.readthedocs.io/en/latest/pythonapi/lightgbm.LGBMRegressor.html  -->> parameters range\n",
    "params = {\t\t\t\t\t\n",
    "'boosting_type':['dart','goss'],\n",
    "'num_leaves':[31,50,70],\n",
    "'n_estimators':[100,500,1000],\n",
    "'learning_rate': [0.1,0.2,0.25,0.3],\n",
    "'max_depth': [5,7,10,20],\n",
    "'reg_alpha':[0.1,1,10,30]\n",
    "\t\t}\n",
    "lgbm_reg = lgbm.LGBMRegressor()\n",
    "lgbm_random = RandomizedSearchCV(estimator = lgbm_reg, param_distributions = params,cv=3,scoring=\"neg_root_mean_squared_error\",verbose=2,n_jobs = -1)\n",
    "lgbm_random.fit(X_train1, y_train)"
   ]
  },
  {
   "cell_type": "code",
   "execution_count": 105,
   "metadata": {
    "colab": {
     "base_uri": "https://localhost:8080/"
    },
    "id": "7nEwfTJ9QN0v",
    "outputId": "4596a492-44c6-4ca3-aa3a-1cf8c284878b"
   },
   "outputs": [
    {
     "data": {
      "text/plain": [
       "LGBMRegressor(boosting_type='dart', learning_rate=0.3, max_depth=20,\n",
       "              n_estimators=1000, num_leaves=50, reg_alpha=30)"
      ]
     },
     "execution_count": 105,
     "metadata": {},
     "output_type": "execute_result"
    }
   ],
   "source": [
    "#best fitted estimator\n",
    "lgbm_random.best_estimator_"
   ]
  },
  {
   "cell_type": "code",
   "execution_count": 126,
   "metadata": {
    "colab": {
     "base_uri": "https://localhost:8080/"
    },
    "id": "oatwq8OYfB2J",
    "outputId": "1e8e4929-9573-4669-98de-3b12f4a73b64"
   },
   "outputs": [
    {
     "data": {
      "text/plain": [
       "LGBMRegressor(boosting_type='dart', learning_rate=0.23, max_depth=50,\n",
       "              n_estimators=2000, num_leaves=50)"
      ]
     },
     "execution_count": 126,
     "metadata": {},
     "output_type": "execute_result"
    }
   ],
   "source": [
    "model_lgbm_best = lgbm.LGBMRegressor(boosting_type='dart', learning_rate=0.23, max_depth=50,\\\n",
    "                                    n_estimators=2000, num_leaves=50)\n",
    "model_lgbm_best.fit(X_train1, y_train)"
   ]
  },
  {
   "cell_type": "code",
   "execution_count": 127,
   "metadata": {
    "colab": {
     "base_uri": "https://localhost:8080/"
    },
    "id": "YBnzd-B5fB2M",
    "outputId": "b0189389-f74a-4cac-aff2-ffca6423e779"
   },
   "outputs": [
    {
     "name": "stdout",
     "output_type": "stream",
     "text": [
      "Train RSME score is :  0.0223533817641797\n",
      "CV RSME score is :  0.1930867889967025\n"
     ]
    }
   ],
   "source": [
    "from sklearn.metrics import mean_squared_error\n",
    "y_pred_train = model_lgbm_best.predict(X_train1)\n",
    "y_pred_test = model_lgbm_best.predict(X_cv1)\n",
    "print(\"Train RSME score is : \",np.sqrt(mean_squared_error(y_train,y_pred_train)))\n",
    "print(\"CV RSME score is : \",np.sqrt(mean_squared_error(y_cv,y_pred_test)))"
   ]
  },
  {
   "cell_type": "markdown",
   "metadata": {
    "id": "py7z8kTf00mw"
   },
   "source": [
    "##### Observations:\n",
    "* Achieved RMSE CV of 0.1930"
   ]
  },
  {
   "cell_type": "code",
   "execution_count": 128,
   "metadata": {
    "id": "G5vIkyEm0oTZ"
   },
   "outputs": [],
   "source": [
    "important_feature_lgbm=model_lgbm_best.feature_importances_\n",
    "dict_imp_lgbm=dict()\n",
    "for i ,v in zip(X_train1.columns,important_feature_lgbm):\n",
    "  dict_imp_lgbm[i]=v"
   ]
  },
  {
   "cell_type": "code",
   "execution_count": 148,
   "metadata": {
    "id": "nSEaJZncoTIZ"
   },
   "outputs": [],
   "source": [
    "top_features_lgbm=sorted(dict_imp_lgbm.items(),key=lambda x : x[1],reverse=True)\n",
    "top_feature_lgbm_names=[]\n",
    "for i in top_features_lgbm:\n",
    "  top_feature_lgbm_names.append(i[0])"
   ]
  },
  {
   "cell_type": "code",
   "execution_count": 149,
   "metadata": {
    "colab": {
     "base_uri": "https://localhost:8080/"
    },
    "id": "BvHoVfHS4eNh",
    "outputId": "5bf9148f-e292-47f1-ab21-8e438e7f9c3a"
   },
   "outputs": [
    {
     "data": {
      "text/plain": [
       "[('number_of_times_prescribed', 74547),\n",
       " ('effectiveness_rating', 14545),\n",
       " ('review25', 140),\n",
       " ('review9', 131),\n",
       " ('review38', 131),\n",
       " ('review82', 131),\n",
       " ('review83', 128),\n",
       " ('review84', 123),\n",
       " ('review93', 123),\n",
       " ('review55', 121)]"
      ]
     },
     "execution_count": 149,
     "metadata": {},
     "output_type": "execute_result"
    }
   ],
   "source": [
    "top_features_lgbm[:10] #values are in non-normalized state"
   ]
  },
  {
   "cell_type": "code",
   "execution_count": 152,
   "metadata": {
    "colab": {
     "base_uri": "https://localhost:8080/"
    },
    "id": "nLfz17mq6K_H",
    "outputId": "7f03d12b-e1a7-4cb4-bdd2-9a77f5d17198"
   },
   "outputs": [
    {
     "name": "stdout",
     "output_type": "stream",
     "text": [
      "number_of_times_prescribed column is contributing : 0.7606836734693877\n",
      "effectiveness_rating column is contributing : 0.14841836734693878\n"
     ]
    }
   ],
   "source": [
    "print(\"number_of_times_prescribed column is contributing :\",top_features_lgbm[0][1]/sum(dict_imp_lgbm.values()))\n",
    "print(\"effectiveness_rating column is contributing :\",top_features_lgbm[1][1]/sum(dict_imp_lgbm.values()))\n",
    "\n",
    "#90% of regression line fitting is taken care by top 2 columns"
   ]
  },
  {
   "cell_type": "markdown",
   "metadata": {
    "id": "8bJ487hZ6utE"
   },
   "source": [
    "* Checking the model Performance on top 2 features only"
   ]
  },
  {
   "cell_type": "code",
   "execution_count": 157,
   "metadata": {
    "colab": {
     "base_uri": "https://localhost:8080/"
    },
    "id": "h0l3V0UA6tiM",
    "outputId": "f5faa78e-9cc9-4768-9a0c-13f4268f3f95"
   },
   "outputs": [
    {
     "data": {
      "text/plain": [
       "LGBMRegressor(boosting_type='dart', learning_rate=0.23, max_depth=50,\n",
       "              n_estimators=2000, num_leaves=60)"
      ]
     },
     "execution_count": 157,
     "metadata": {},
     "output_type": "execute_result"
    }
   ],
   "source": [
    "model_lgbm_best1 = lgbm.LGBMRegressor(boosting_type='dart', learning_rate=0.23, max_depth=50,\\\n",
    "                                    n_estimators=2000, num_leaves=60)\n",
    "model_lgbm_best1.fit(X_train1.loc[:,top_feature_lgbm_names[:2]], y_train)"
   ]
  },
  {
   "cell_type": "code",
   "execution_count": 158,
   "metadata": {
    "colab": {
     "base_uri": "https://localhost:8080/"
    },
    "id": "TAfIibcu7KKM",
    "outputId": "cc5b1d7f-29c0-4e37-f10b-397e2b274fdd"
   },
   "outputs": [
    {
     "name": "stdout",
     "output_type": "stream",
     "text": [
      "Train RSME score is :  0.05178772896846917\n",
      "CV RSME score is :  0.10270121047997222\n"
     ]
    }
   ],
   "source": [
    "y_pred_train = model_lgbm_best1.predict(X_train1.loc[:,top_feature_lgbm_names[:2]])\n",
    "y_pred_test = model_lgbm_best1.predict(X_cv1.loc[:,top_feature_lgbm_names[:2]])\n",
    "print(\"Train RSME score is : \",np.sqrt(mean_squared_error(y_train,y_pred_train)))\n",
    "print(\"CV RSME score is : \",np.sqrt(mean_squared_error(y_cv,y_pred_test)))"
   ]
  },
  {
   "cell_type": "markdown",
   "metadata": {
    "id": "S88EY3g_-ayn"
   },
   "source": [
    "##### Observations:\n",
    "* Achieved RMSE CV of 0.1027 with top 2 attributes of the input data\n",
    "* XGBRegressor is performing well on the data where we achieved 0.065 rmse score. So It can be cosidered for the final model testing"
   ]
  },
  {
   "cell_type": "markdown",
   "metadata": {
    "id": "HspvRYCFBvwY"
   },
   "source": [
    "#### 8.Prediction on test_data using best model(XGB)"
   ]
  },
  {
   "cell_type": "code",
   "execution_count": 159,
   "metadata": {
    "colab": {
     "base_uri": "https://localhost:8080/",
     "height": 299
    },
    "id": "aY-0g2cm_C6m",
    "outputId": "5d72e0cc-0f15-4f95-f543-4429047b018a"
   },
   "outputs": [
    {
     "data": {
      "text/html": [
       "\n",
       "  <div id=\"df-19a62e79-5a08-4824-b5f5-e040756d43f3\">\n",
       "    <div class=\"colab-df-container\">\n",
       "      <div>\n",
       "<style scoped>\n",
       "    .dataframe tbody tr th:only-of-type {\n",
       "        vertical-align: middle;\n",
       "    }\n",
       "\n",
       "    .dataframe tbody tr th {\n",
       "        vertical-align: top;\n",
       "    }\n",
       "\n",
       "    .dataframe thead th {\n",
       "        text-align: right;\n",
       "    }\n",
       "</style>\n",
       "<table border=\"1\" class=\"dataframe\">\n",
       "  <thead>\n",
       "    <tr style=\"text-align: right;\">\n",
       "      <th></th>\n",
       "      <th>date</th>\n",
       "      <th>month</th>\n",
       "      <th>year</th>\n",
       "      <th>effectiveness_rating</th>\n",
       "      <th>number_of_times_prescribed</th>\n",
       "      <th>name_of_drug_0</th>\n",
       "      <th>name_of_drug_1</th>\n",
       "      <th>name_of_drug_2</th>\n",
       "      <th>name_of_drug_3</th>\n",
       "      <th>name_of_drug_4</th>\n",
       "      <th>...</th>\n",
       "      <th>review90</th>\n",
       "      <th>review91</th>\n",
       "      <th>review92</th>\n",
       "      <th>review93</th>\n",
       "      <th>review94</th>\n",
       "      <th>review95</th>\n",
       "      <th>review96</th>\n",
       "      <th>review97</th>\n",
       "      <th>review98</th>\n",
       "      <th>review99</th>\n",
       "    </tr>\n",
       "  </thead>\n",
       "  <tbody>\n",
       "    <tr>\n",
       "      <th>0</th>\n",
       "      <td>28</td>\n",
       "      <td>2</td>\n",
       "      <td>2012</td>\n",
       "      <td>0.916438</td>\n",
       "      <td>-0.164530</td>\n",
       "      <td>0.0</td>\n",
       "      <td>0.0</td>\n",
       "      <td>0.0</td>\n",
       "      <td>0.0</td>\n",
       "      <td>0.0</td>\n",
       "      <td>...</td>\n",
       "      <td>0.263215</td>\n",
       "      <td>0.578265</td>\n",
       "      <td>0.498486</td>\n",
       "      <td>0.353031</td>\n",
       "      <td>0.045113</td>\n",
       "      <td>0.539284</td>\n",
       "      <td>0.081384</td>\n",
       "      <td>0.520955</td>\n",
       "      <td>0.236085</td>\n",
       "      <td>-0.439861</td>\n",
       "    </tr>\n",
       "    <tr>\n",
       "      <th>1</th>\n",
       "      <td>5</td>\n",
       "      <td>3</td>\n",
       "      <td>2017</td>\n",
       "      <td>0.611070</td>\n",
       "      <td>0.198411</td>\n",
       "      <td>0.0</td>\n",
       "      <td>0.0</td>\n",
       "      <td>0.0</td>\n",
       "      <td>0.0</td>\n",
       "      <td>0.0</td>\n",
       "      <td>...</td>\n",
       "      <td>-0.022168</td>\n",
       "      <td>0.474219</td>\n",
       "      <td>0.466272</td>\n",
       "      <td>-0.002056</td>\n",
       "      <td>0.804194</td>\n",
       "      <td>0.553090</td>\n",
       "      <td>-0.707309</td>\n",
       "      <td>0.215267</td>\n",
       "      <td>-0.275539</td>\n",
       "      <td>-0.485945</td>\n",
       "    </tr>\n",
       "    <tr>\n",
       "      <th>2</th>\n",
       "      <td>3</td>\n",
       "      <td>7</td>\n",
       "      <td>2014</td>\n",
       "      <td>-0.915774</td>\n",
       "      <td>-0.415797</td>\n",
       "      <td>0.0</td>\n",
       "      <td>0.0</td>\n",
       "      <td>0.0</td>\n",
       "      <td>0.0</td>\n",
       "      <td>0.0</td>\n",
       "      <td>...</td>\n",
       "      <td>0.450108</td>\n",
       "      <td>0.474255</td>\n",
       "      <td>0.111656</td>\n",
       "      <td>0.037848</td>\n",
       "      <td>0.264120</td>\n",
       "      <td>0.229062</td>\n",
       "      <td>-0.264975</td>\n",
       "      <td>0.176975</td>\n",
       "      <td>-0.177429</td>\n",
       "      <td>-0.085448</td>\n",
       "    </tr>\n",
       "    <tr>\n",
       "      <th>3</th>\n",
       "      <td>18</td>\n",
       "      <td>10</td>\n",
       "      <td>2016</td>\n",
       "      <td>0.000332</td>\n",
       "      <td>-0.192448</td>\n",
       "      <td>0.0</td>\n",
       "      <td>0.0</td>\n",
       "      <td>0.0</td>\n",
       "      <td>0.0</td>\n",
       "      <td>0.0</td>\n",
       "      <td>...</td>\n",
       "      <td>0.861565</td>\n",
       "      <td>0.355488</td>\n",
       "      <td>0.003042</td>\n",
       "      <td>0.359624</td>\n",
       "      <td>0.002366</td>\n",
       "      <td>0.086880</td>\n",
       "      <td>-0.431415</td>\n",
       "      <td>0.453741</td>\n",
       "      <td>-0.260184</td>\n",
       "      <td>-0.289075</td>\n",
       "    </tr>\n",
       "    <tr>\n",
       "      <th>4</th>\n",
       "      <td>13</td>\n",
       "      <td>1</td>\n",
       "      <td>2015</td>\n",
       "      <td>-1.526511</td>\n",
       "      <td>0.449678</td>\n",
       "      <td>0.0</td>\n",
       "      <td>0.0</td>\n",
       "      <td>0.0</td>\n",
       "      <td>0.0</td>\n",
       "      <td>0.0</td>\n",
       "      <td>...</td>\n",
       "      <td>0.362202</td>\n",
       "      <td>0.346377</td>\n",
       "      <td>0.505774</td>\n",
       "      <td>0.049326</td>\n",
       "      <td>0.650927</td>\n",
       "      <td>0.370479</td>\n",
       "      <td>-0.159478</td>\n",
       "      <td>0.467369</td>\n",
       "      <td>0.130974</td>\n",
       "      <td>-0.638987</td>\n",
       "    </tr>\n",
       "  </tbody>\n",
       "</table>\n",
       "<p>5 rows × 2961 columns</p>\n",
       "</div>\n",
       "      <button class=\"colab-df-convert\" onclick=\"convertToInteractive('df-19a62e79-5a08-4824-b5f5-e040756d43f3')\"\n",
       "              title=\"Convert this dataframe to an interactive table.\"\n",
       "              style=\"display:none;\">\n",
       "        \n",
       "  <svg xmlns=\"http://www.w3.org/2000/svg\" height=\"24px\"viewBox=\"0 0 24 24\"\n",
       "       width=\"24px\">\n",
       "    <path d=\"M0 0h24v24H0V0z\" fill=\"none\"/>\n",
       "    <path d=\"M18.56 5.44l.94 2.06.94-2.06 2.06-.94-2.06-.94-.94-2.06-.94 2.06-2.06.94zm-11 1L8.5 8.5l.94-2.06 2.06-.94-2.06-.94L8.5 2.5l-.94 2.06-2.06.94zm10 10l.94 2.06.94-2.06 2.06-.94-2.06-.94-.94-2.06-.94 2.06-2.06.94z\"/><path d=\"M17.41 7.96l-1.37-1.37c-.4-.4-.92-.59-1.43-.59-.52 0-1.04.2-1.43.59L10.3 9.45l-7.72 7.72c-.78.78-.78 2.05 0 2.83L4 21.41c.39.39.9.59 1.41.59.51 0 1.02-.2 1.41-.59l7.78-7.78 2.81-2.81c.8-.78.8-2.07 0-2.86zM5.41 20L4 18.59l7.72-7.72 1.47 1.35L5.41 20z\"/>\n",
       "  </svg>\n",
       "      </button>\n",
       "      \n",
       "  <style>\n",
       "    .colab-df-container {\n",
       "      display:flex;\n",
       "      flex-wrap:wrap;\n",
       "      gap: 12px;\n",
       "    }\n",
       "\n",
       "    .colab-df-convert {\n",
       "      background-color: #E8F0FE;\n",
       "      border: none;\n",
       "      border-radius: 50%;\n",
       "      cursor: pointer;\n",
       "      display: none;\n",
       "      fill: #1967D2;\n",
       "      height: 32px;\n",
       "      padding: 0 0 0 0;\n",
       "      width: 32px;\n",
       "    }\n",
       "\n",
       "    .colab-df-convert:hover {\n",
       "      background-color: #E2EBFA;\n",
       "      box-shadow: 0px 1px 2px rgba(60, 64, 67, 0.3), 0px 1px 3px 1px rgba(60, 64, 67, 0.15);\n",
       "      fill: #174EA6;\n",
       "    }\n",
       "\n",
       "    [theme=dark] .colab-df-convert {\n",
       "      background-color: #3B4455;\n",
       "      fill: #D2E3FC;\n",
       "    }\n",
       "\n",
       "    [theme=dark] .colab-df-convert:hover {\n",
       "      background-color: #434B5C;\n",
       "      box-shadow: 0px 1px 3px 1px rgba(0, 0, 0, 0.15);\n",
       "      filter: drop-shadow(0px 1px 2px rgba(0, 0, 0, 0.3));\n",
       "      fill: #FFFFFF;\n",
       "    }\n",
       "  </style>\n",
       "\n",
       "      <script>\n",
       "        const buttonEl =\n",
       "          document.querySelector('#df-19a62e79-5a08-4824-b5f5-e040756d43f3 button.colab-df-convert');\n",
       "        buttonEl.style.display =\n",
       "          google.colab.kernel.accessAllowed ? 'block' : 'none';\n",
       "\n",
       "        async function convertToInteractive(key) {\n",
       "          const element = document.querySelector('#df-19a62e79-5a08-4824-b5f5-e040756d43f3');\n",
       "          const dataTable =\n",
       "            await google.colab.kernel.invokeFunction('convertToInteractive',\n",
       "                                                     [key], {});\n",
       "          if (!dataTable) return;\n",
       "\n",
       "          const docLinkHtml = 'Like what you see? Visit the ' +\n",
       "            '<a target=\"_blank\" href=https://colab.research.google.com/notebooks/data_table.ipynb>data table notebook</a>'\n",
       "            + ' to learn more about interactive tables.';\n",
       "          element.innerHTML = '';\n",
       "          dataTable['output_type'] = 'display_data';\n",
       "          await google.colab.output.renderOutput(dataTable, element);\n",
       "          const docLink = document.createElement('div');\n",
       "          docLink.innerHTML = docLinkHtml;\n",
       "          element.appendChild(docLink);\n",
       "        }\n",
       "      </script>\n",
       "    </div>\n",
       "  </div>\n",
       "  "
      ],
      "text/plain": [
       "   date  month  year  effectiveness_rating  number_of_times_prescribed  \\\n",
       "0    28      2  2012              0.916438                   -0.164530   \n",
       "1     5      3  2017              0.611070                    0.198411   \n",
       "2     3      7  2014             -0.915774                   -0.415797   \n",
       "3    18     10  2016              0.000332                   -0.192448   \n",
       "4    13      1  2015             -1.526511                    0.449678   \n",
       "\n",
       "   name_of_drug_0  name_of_drug_1  name_of_drug_2  name_of_drug_3  \\\n",
       "0             0.0             0.0             0.0             0.0   \n",
       "1             0.0             0.0             0.0             0.0   \n",
       "2             0.0             0.0             0.0             0.0   \n",
       "3             0.0             0.0             0.0             0.0   \n",
       "4             0.0             0.0             0.0             0.0   \n",
       "\n",
       "   name_of_drug_4  ...  review90  review91  review92  review93  review94  \\\n",
       "0             0.0  ...  0.263215  0.578265  0.498486  0.353031  0.045113   \n",
       "1             0.0  ... -0.022168  0.474219  0.466272 -0.002056  0.804194   \n",
       "2             0.0  ...  0.450108  0.474255  0.111656  0.037848  0.264120   \n",
       "3             0.0  ...  0.861565  0.355488  0.003042  0.359624  0.002366   \n",
       "4             0.0  ...  0.362202  0.346377  0.505774  0.049326  0.650927   \n",
       "\n",
       "   review95  review96  review97  review98  review99  \n",
       "0  0.539284  0.081384  0.520955  0.236085 -0.439861  \n",
       "1  0.553090 -0.707309  0.215267 -0.275539 -0.485945  \n",
       "2  0.229062 -0.264975  0.176975 -0.177429 -0.085448  \n",
       "3  0.086880 -0.431415  0.453741 -0.260184 -0.289075  \n",
       "4  0.370479 -0.159478  0.467369  0.130974 -0.638987  \n",
       "\n",
       "[5 rows x 2961 columns]"
      ]
     },
     "execution_count": 159,
     "metadata": {},
     "output_type": "execute_result"
    }
   ],
   "source": [
    "#preprocessed test dataframe\n",
    "df_te1.head()"
   ]
  },
  {
   "cell_type": "code",
   "execution_count": 166,
   "metadata": {
    "id": "5i-J7nno_K9F"
   },
   "outputs": [],
   "source": [
    "#model_xgb_best1 is the best model which gave low rmse score\n",
    "y_pred_test_data = model_xgb_best1.predict(df_te1.loc[:,top_feature_xgb_names[:2]])\n",
    "y_pred_test=pd.DataFrame(y_pred_test_data,columns=[\"base_score\"])"
   ]
  },
  {
   "cell_type": "code",
   "execution_count": 168,
   "metadata": {
    "colab": {
     "base_uri": "https://localhost:8080/",
     "height": 423
    },
    "id": "f0UJsI7o_iC2",
    "outputId": "4ac9de8f-5408-4f89-da21-4b1f3598293b"
   },
   "outputs": [
    {
     "data": {
      "text/html": [
       "\n",
       "  <div id=\"df-e69ea84e-fe5d-496d-8c53-6b84877c965f\">\n",
       "    <div class=\"colab-df-container\">\n",
       "      <div>\n",
       "<style scoped>\n",
       "    .dataframe tbody tr th:only-of-type {\n",
       "        vertical-align: middle;\n",
       "    }\n",
       "\n",
       "    .dataframe tbody tr th {\n",
       "        vertical-align: top;\n",
       "    }\n",
       "\n",
       "    .dataframe thead th {\n",
       "        text-align: right;\n",
       "    }\n",
       "</style>\n",
       "<table border=\"1\" class=\"dataframe\">\n",
       "  <thead>\n",
       "    <tr style=\"text-align: right;\">\n",
       "      <th></th>\n",
       "      <th>patient_id</th>\n",
       "      <th>base_score</th>\n",
       "    </tr>\n",
       "  </thead>\n",
       "  <tbody>\n",
       "    <tr>\n",
       "      <th>0</th>\n",
       "      <td>163740</td>\n",
       "      <td>8.758018</td>\n",
       "    </tr>\n",
       "    <tr>\n",
       "      <th>1</th>\n",
       "      <td>39293</td>\n",
       "      <td>8.745042</td>\n",
       "    </tr>\n",
       "    <tr>\n",
       "      <th>2</th>\n",
       "      <td>208087</td>\n",
       "      <td>5.941348</td>\n",
       "    </tr>\n",
       "    <tr>\n",
       "      <th>3</th>\n",
       "      <td>23295</td>\n",
       "      <td>6.001692</td>\n",
       "    </tr>\n",
       "    <tr>\n",
       "      <th>4</th>\n",
       "      <td>97013</td>\n",
       "      <td>5.415475</td>\n",
       "    </tr>\n",
       "    <tr>\n",
       "      <th>...</th>\n",
       "      <td>...</td>\n",
       "      <td>...</td>\n",
       "    </tr>\n",
       "    <tr>\n",
       "      <th>10755</th>\n",
       "      <td>151266</td>\n",
       "      <td>6.169841</td>\n",
       "    </tr>\n",
       "    <tr>\n",
       "      <th>10756</th>\n",
       "      <td>139347</td>\n",
       "      <td>4.024961</td>\n",
       "    </tr>\n",
       "    <tr>\n",
       "      <th>10757</th>\n",
       "      <td>159999</td>\n",
       "      <td>6.788398</td>\n",
       "    </tr>\n",
       "    <tr>\n",
       "      <th>10758</th>\n",
       "      <td>130945</td>\n",
       "      <td>5.299147</td>\n",
       "    </tr>\n",
       "    <tr>\n",
       "      <th>10759</th>\n",
       "      <td>113712</td>\n",
       "      <td>8.197819</td>\n",
       "    </tr>\n",
       "  </tbody>\n",
       "</table>\n",
       "<p>10760 rows × 2 columns</p>\n",
       "</div>\n",
       "      <button class=\"colab-df-convert\" onclick=\"convertToInteractive('df-e69ea84e-fe5d-496d-8c53-6b84877c965f')\"\n",
       "              title=\"Convert this dataframe to an interactive table.\"\n",
       "              style=\"display:none;\">\n",
       "        \n",
       "  <svg xmlns=\"http://www.w3.org/2000/svg\" height=\"24px\"viewBox=\"0 0 24 24\"\n",
       "       width=\"24px\">\n",
       "    <path d=\"M0 0h24v24H0V0z\" fill=\"none\"/>\n",
       "    <path d=\"M18.56 5.44l.94 2.06.94-2.06 2.06-.94-2.06-.94-.94-2.06-.94 2.06-2.06.94zm-11 1L8.5 8.5l.94-2.06 2.06-.94-2.06-.94L8.5 2.5l-.94 2.06-2.06.94zm10 10l.94 2.06.94-2.06 2.06-.94-2.06-.94-.94-2.06-.94 2.06-2.06.94z\"/><path d=\"M17.41 7.96l-1.37-1.37c-.4-.4-.92-.59-1.43-.59-.52 0-1.04.2-1.43.59L10.3 9.45l-7.72 7.72c-.78.78-.78 2.05 0 2.83L4 21.41c.39.39.9.59 1.41.59.51 0 1.02-.2 1.41-.59l7.78-7.78 2.81-2.81c.8-.78.8-2.07 0-2.86zM5.41 20L4 18.59l7.72-7.72 1.47 1.35L5.41 20z\"/>\n",
       "  </svg>\n",
       "      </button>\n",
       "      \n",
       "  <style>\n",
       "    .colab-df-container {\n",
       "      display:flex;\n",
       "      flex-wrap:wrap;\n",
       "      gap: 12px;\n",
       "    }\n",
       "\n",
       "    .colab-df-convert {\n",
       "      background-color: #E8F0FE;\n",
       "      border: none;\n",
       "      border-radius: 50%;\n",
       "      cursor: pointer;\n",
       "      display: none;\n",
       "      fill: #1967D2;\n",
       "      height: 32px;\n",
       "      padding: 0 0 0 0;\n",
       "      width: 32px;\n",
       "    }\n",
       "\n",
       "    .colab-df-convert:hover {\n",
       "      background-color: #E2EBFA;\n",
       "      box-shadow: 0px 1px 2px rgba(60, 64, 67, 0.3), 0px 1px 3px 1px rgba(60, 64, 67, 0.15);\n",
       "      fill: #174EA6;\n",
       "    }\n",
       "\n",
       "    [theme=dark] .colab-df-convert {\n",
       "      background-color: #3B4455;\n",
       "      fill: #D2E3FC;\n",
       "    }\n",
       "\n",
       "    [theme=dark] .colab-df-convert:hover {\n",
       "      background-color: #434B5C;\n",
       "      box-shadow: 0px 1px 3px 1px rgba(0, 0, 0, 0.15);\n",
       "      filter: drop-shadow(0px 1px 2px rgba(0, 0, 0, 0.3));\n",
       "      fill: #FFFFFF;\n",
       "    }\n",
       "  </style>\n",
       "\n",
       "      <script>\n",
       "        const buttonEl =\n",
       "          document.querySelector('#df-e69ea84e-fe5d-496d-8c53-6b84877c965f button.colab-df-convert');\n",
       "        buttonEl.style.display =\n",
       "          google.colab.kernel.accessAllowed ? 'block' : 'none';\n",
       "\n",
       "        async function convertToInteractive(key) {\n",
       "          const element = document.querySelector('#df-e69ea84e-fe5d-496d-8c53-6b84877c965f');\n",
       "          const dataTable =\n",
       "            await google.colab.kernel.invokeFunction('convertToInteractive',\n",
       "                                                     [key], {});\n",
       "          if (!dataTable) return;\n",
       "\n",
       "          const docLinkHtml = 'Like what you see? Visit the ' +\n",
       "            '<a target=\"_blank\" href=https://colab.research.google.com/notebooks/data_table.ipynb>data table notebook</a>'\n",
       "            + ' to learn more about interactive tables.';\n",
       "          element.innerHTML = '';\n",
       "          dataTable['output_type'] = 'display_data';\n",
       "          await google.colab.output.renderOutput(dataTable, element);\n",
       "          const docLink = document.createElement('div');\n",
       "          docLink.innerHTML = docLinkHtml;\n",
       "          element.appendChild(docLink);\n",
       "        }\n",
       "      </script>\n",
       "    </div>\n",
       "  </div>\n",
       "  "
      ],
      "text/plain": [
       "       patient_id  base_score\n",
       "0          163740    8.758018\n",
       "1           39293    8.745042\n",
       "2          208087    5.941348\n",
       "3           23295    6.001692\n",
       "4           97013    5.415475\n",
       "...           ...         ...\n",
       "10755      151266    6.169841\n",
       "10756      139347    4.024961\n",
       "10757      159999    6.788398\n",
       "10758      130945    5.299147\n",
       "10759      113712    8.197819\n",
       "\n",
       "[10760 rows x 2 columns]"
      ]
     },
     "execution_count": 168,
     "metadata": {},
     "output_type": "execute_result"
    }
   ],
   "source": [
    "#sample_submission: ptient_id,base_score\n",
    "df_test_final=pd.concat([df_test[\"patient_id\"],y_pred_test],axis=1)\n",
    "df_test_final"
   ]
  },
  {
   "cell_type": "code",
   "execution_count": 172,
   "metadata": {
    "id": "yIbN9-9_A-T4"
   },
   "outputs": [],
   "source": [
    "df_test_final.to_csv(\"submission_test_file.csv\",index=False)"
   ]
  }
 ],
 "metadata": {
  "colab": {
   "collapsed_sections": [
    "JfBn0LYPs5WI",
    "keZOL1las5WL",
    "3KKTKKBl4fGO",
    "aMmOQONGjN4t",
    "k3BV45zQ8ZMA",
    "1zEY7hGwBvhe",
    "0Fq6XushB3D-"
   ],
   "provenance": []
  },
  "kernelspec": {
   "display_name": "Python 3",
   "language": "python",
   "name": "python3"
  },
  "language_info": {
   "codemirror_mode": {
    "name": "ipython",
    "version": 3
   },
   "file_extension": ".py",
   "mimetype": "text/x-python",
   "name": "python",
   "nbconvert_exporter": "python",
   "pygments_lexer": "ipython3",
   "version": "3.6.5"
  },
  "widgets": {
   "application/vnd.jupyter.widget-state+json": {
    "0814c5241d6f4463b533d95203cc3069": {
     "model_module": "@jupyter-widgets/base",
     "model_module_version": "1.2.0",
     "model_name": "LayoutModel",
     "state": {
      "_model_module": "@jupyter-widgets/base",
      "_model_module_version": "1.2.0",
      "_model_name": "LayoutModel",
      "_view_count": null,
      "_view_module": "@jupyter-widgets/base",
      "_view_module_version": "1.2.0",
      "_view_name": "LayoutView",
      "align_content": null,
      "align_items": null,
      "align_self": null,
      "border": null,
      "bottom": null,
      "display": null,
      "flex": null,
      "flex_flow": null,
      "grid_area": null,
      "grid_auto_columns": null,
      "grid_auto_flow": null,
      "grid_auto_rows": null,
      "grid_column": null,
      "grid_gap": null,
      "grid_row": null,
      "grid_template_areas": null,
      "grid_template_columns": null,
      "grid_template_rows": null,
      "height": null,
      "justify_content": null,
      "justify_items": null,
      "left": null,
      "margin": null,
      "max_height": null,
      "max_width": null,
      "min_height": null,
      "min_width": null,
      "object_fit": null,
      "object_position": null,
      "order": null,
      "overflow": null,
      "overflow_x": null,
      "overflow_y": null,
      "padding": null,
      "right": null,
      "top": null,
      "visibility": null,
      "width": null
     }
    },
    "1300eb679202452b83c9d79620dbb2cb": {
     "model_module": "@jupyter-widgets/controls",
     "model_module_version": "1.5.0",
     "model_name": "ProgressStyleModel",
     "state": {
      "_model_module": "@jupyter-widgets/controls",
      "_model_module_version": "1.5.0",
      "_model_name": "ProgressStyleModel",
      "_view_count": null,
      "_view_module": "@jupyter-widgets/base",
      "_view_module_version": "1.2.0",
      "_view_name": "StyleView",
      "bar_color": null,
      "description_width": ""
     }
    },
    "13e1ef7a97ef45a8a7144e24c23a8c09": {
     "model_module": "@jupyter-widgets/controls",
     "model_module_version": "1.5.0",
     "model_name": "HBoxModel",
     "state": {
      "_dom_classes": [],
      "_model_module": "@jupyter-widgets/controls",
      "_model_module_version": "1.5.0",
      "_model_name": "HBoxModel",
      "_view_count": null,
      "_view_module": "@jupyter-widgets/controls",
      "_view_module_version": "1.5.0",
      "_view_name": "HBoxView",
      "box_style": "",
      "children": [
       "IPY_MODEL_238f3de1976c431bb44c20238653af35",
       "IPY_MODEL_2e09b707496b42868d99d06247f1e5f0",
       "IPY_MODEL_f7ace317f73b404195c3350ab013bdcb"
      ],
      "layout": "IPY_MODEL_f8d1c0dc1a944af4951fb77dbf39ef38"
     }
    },
    "17f0164b30f54be29b7bcbc396ace339": {
     "model_module": "@jupyter-widgets/controls",
     "model_module_version": "1.5.0",
     "model_name": "DescriptionStyleModel",
     "state": {
      "_model_module": "@jupyter-widgets/controls",
      "_model_module_version": "1.5.0",
      "_model_name": "DescriptionStyleModel",
      "_view_count": null,
      "_view_module": "@jupyter-widgets/base",
      "_view_module_version": "1.2.0",
      "_view_name": "StyleView",
      "description_width": ""
     }
    },
    "1a9865ba3d7d4286b4e04d9c2ae140b9": {
     "model_module": "@jupyter-widgets/controls",
     "model_module_version": "1.5.0",
     "model_name": "DescriptionStyleModel",
     "state": {
      "_model_module": "@jupyter-widgets/controls",
      "_model_module_version": "1.5.0",
      "_model_name": "DescriptionStyleModel",
      "_view_count": null,
      "_view_module": "@jupyter-widgets/base",
      "_view_module_version": "1.2.0",
      "_view_name": "StyleView",
      "description_width": ""
     }
    },
    "1dad1a7514a34e5a9063273266bcb3e6": {
     "model_module": "@jupyter-widgets/base",
     "model_module_version": "1.2.0",
     "model_name": "LayoutModel",
     "state": {
      "_model_module": "@jupyter-widgets/base",
      "_model_module_version": "1.2.0",
      "_model_name": "LayoutModel",
      "_view_count": null,
      "_view_module": "@jupyter-widgets/base",
      "_view_module_version": "1.2.0",
      "_view_name": "LayoutView",
      "align_content": null,
      "align_items": null,
      "align_self": null,
      "border": null,
      "bottom": null,
      "display": null,
      "flex": null,
      "flex_flow": null,
      "grid_area": null,
      "grid_auto_columns": null,
      "grid_auto_flow": null,
      "grid_auto_rows": null,
      "grid_column": null,
      "grid_gap": null,
      "grid_row": null,
      "grid_template_areas": null,
      "grid_template_columns": null,
      "grid_template_rows": null,
      "height": null,
      "justify_content": null,
      "justify_items": null,
      "left": null,
      "margin": null,
      "max_height": null,
      "max_width": null,
      "min_height": null,
      "min_width": null,
      "object_fit": null,
      "object_position": null,
      "order": null,
      "overflow": null,
      "overflow_x": null,
      "overflow_y": null,
      "padding": null,
      "right": null,
      "top": null,
      "visibility": null,
      "width": null
     }
    },
    "1e3c213b369341eab4a556f1d650875f": {
     "model_module": "@jupyter-widgets/controls",
     "model_module_version": "1.5.0",
     "model_name": "HTMLModel",
     "state": {
      "_dom_classes": [],
      "_model_module": "@jupyter-widgets/controls",
      "_model_module_version": "1.5.0",
      "_model_name": "HTMLModel",
      "_view_count": null,
      "_view_module": "@jupyter-widgets/controls",
      "_view_module_version": "1.5.0",
      "_view_name": "HTMLView",
      "description": "",
      "description_tooltip": null,
      "layout": "IPY_MODEL_e24b2e545a4d4dd2bc596c704982630d",
      "placeholder": "​",
      "style": "IPY_MODEL_17f0164b30f54be29b7bcbc396ace339",
      "value": "100%"
     }
    },
    "238f3de1976c431bb44c20238653af35": {
     "model_module": "@jupyter-widgets/controls",
     "model_module_version": "1.5.0",
     "model_name": "HTMLModel",
     "state": {
      "_dom_classes": [],
      "_model_module": "@jupyter-widgets/controls",
      "_model_module_version": "1.5.0",
      "_model_name": "HTMLModel",
      "_view_count": null,
      "_view_module": "@jupyter-widgets/controls",
      "_view_module_version": "1.5.0",
      "_view_name": "HTMLView",
      "description": "",
      "description_tooltip": null,
      "layout": "IPY_MODEL_77865238f3a54734ac53215824495919",
      "placeholder": "​",
      "style": "IPY_MODEL_b8bdbcfaf5db4e4c8b5dbb4912a5625c",
      "value": "100%"
     }
    },
    "289360061d8b41a48025b3f1680d0636": {
     "model_module": "@jupyter-widgets/base",
     "model_module_version": "1.2.0",
     "model_name": "LayoutModel",
     "state": {
      "_model_module": "@jupyter-widgets/base",
      "_model_module_version": "1.2.0",
      "_model_name": "LayoutModel",
      "_view_count": null,
      "_view_module": "@jupyter-widgets/base",
      "_view_module_version": "1.2.0",
      "_view_name": "LayoutView",
      "align_content": null,
      "align_items": null,
      "align_self": null,
      "border": null,
      "bottom": null,
      "display": null,
      "flex": null,
      "flex_flow": null,
      "grid_area": null,
      "grid_auto_columns": null,
      "grid_auto_flow": null,
      "grid_auto_rows": null,
      "grid_column": null,
      "grid_gap": null,
      "grid_row": null,
      "grid_template_areas": null,
      "grid_template_columns": null,
      "grid_template_rows": null,
      "height": null,
      "justify_content": null,
      "justify_items": null,
      "left": null,
      "margin": null,
      "max_height": null,
      "max_width": null,
      "min_height": null,
      "min_width": null,
      "object_fit": null,
      "object_position": null,
      "order": null,
      "overflow": null,
      "overflow_x": null,
      "overflow_y": null,
      "padding": null,
      "right": null,
      "top": null,
      "visibility": null,
      "width": null
     }
    },
    "2e09b707496b42868d99d06247f1e5f0": {
     "model_module": "@jupyter-widgets/controls",
     "model_module_version": "1.5.0",
     "model_name": "FloatProgressModel",
     "state": {
      "_dom_classes": [],
      "_model_module": "@jupyter-widgets/controls",
      "_model_module_version": "1.5.0",
      "_model_name": "FloatProgressModel",
      "_view_count": null,
      "_view_module": "@jupyter-widgets/controls",
      "_view_module_version": "1.5.0",
      "_view_name": "ProgressView",
      "bar_style": "success",
      "description": "",
      "description_tooltip": null,
      "layout": "IPY_MODEL_fea3cfdddbf54fb1996c8a5da92a5cf8",
      "max": 10760,
      "min": 0,
      "orientation": "horizontal",
      "style": "IPY_MODEL_1300eb679202452b83c9d79620dbb2cb",
      "value": 10760
     }
    },
    "45fdc9af8b8c4908b2aa921b79bcf37f": {
     "model_module": "@jupyter-widgets/controls",
     "model_module_version": "1.5.0",
     "model_name": "DescriptionStyleModel",
     "state": {
      "_model_module": "@jupyter-widgets/controls",
      "_model_module_version": "1.5.0",
      "_model_name": "DescriptionStyleModel",
      "_view_count": null,
      "_view_module": "@jupyter-widgets/base",
      "_view_module_version": "1.2.0",
      "_view_name": "StyleView",
      "description_width": ""
     }
    },
    "4630c923edfb44a7a4977980bc3c8588": {
     "model_module": "@jupyter-widgets/controls",
     "model_module_version": "1.5.0",
     "model_name": "ProgressStyleModel",
     "state": {
      "_model_module": "@jupyter-widgets/controls",
      "_model_module_version": "1.5.0",
      "_model_name": "ProgressStyleModel",
      "_view_count": null,
      "_view_module": "@jupyter-widgets/base",
      "_view_module_version": "1.2.0",
      "_view_name": "StyleView",
      "bar_color": null,
      "description_width": ""
     }
    },
    "471be4cd9ad549158e1cc82c4d0938a7": {
     "model_module": "@jupyter-widgets/controls",
     "model_module_version": "1.5.0",
     "model_name": "FloatProgressModel",
     "state": {
      "_dom_classes": [],
      "_model_module": "@jupyter-widgets/controls",
      "_model_module_version": "1.5.0",
      "_model_name": "FloatProgressModel",
      "_view_count": null,
      "_view_module": "@jupyter-widgets/controls",
      "_view_module_version": "1.5.0",
      "_view_name": "ProgressView",
      "bar_style": "success",
      "description": "",
      "description_tooltip": null,
      "layout": "IPY_MODEL_0814c5241d6f4463b533d95203cc3069",
      "max": 32165,
      "min": 0,
      "orientation": "horizontal",
      "style": "IPY_MODEL_c4c9aade6f1b4459b8b0c8e123c75062",
      "value": 32165
     }
    },
    "4892ec62afff4771ab06d7676e249975": {
     "model_module": "@jupyter-widgets/base",
     "model_module_version": "1.2.0",
     "model_name": "LayoutModel",
     "state": {
      "_model_module": "@jupyter-widgets/base",
      "_model_module_version": "1.2.0",
      "_model_name": "LayoutModel",
      "_view_count": null,
      "_view_module": "@jupyter-widgets/base",
      "_view_module_version": "1.2.0",
      "_view_name": "LayoutView",
      "align_content": null,
      "align_items": null,
      "align_self": null,
      "border": null,
      "bottom": null,
      "display": null,
      "flex": null,
      "flex_flow": null,
      "grid_area": null,
      "grid_auto_columns": null,
      "grid_auto_flow": null,
      "grid_auto_rows": null,
      "grid_column": null,
      "grid_gap": null,
      "grid_row": null,
      "grid_template_areas": null,
      "grid_template_columns": null,
      "grid_template_rows": null,
      "height": null,
      "justify_content": null,
      "justify_items": null,
      "left": null,
      "margin": null,
      "max_height": null,
      "max_width": null,
      "min_height": null,
      "min_width": null,
      "object_fit": null,
      "object_position": null,
      "order": null,
      "overflow": null,
      "overflow_x": null,
      "overflow_y": null,
      "padding": null,
      "right": null,
      "top": null,
      "visibility": null,
      "width": null
     }
    },
    "4de3d367aa5b487bb6a0c3cbb952b48f": {
     "model_module": "@jupyter-widgets/base",
     "model_module_version": "1.2.0",
     "model_name": "LayoutModel",
     "state": {
      "_model_module": "@jupyter-widgets/base",
      "_model_module_version": "1.2.0",
      "_model_name": "LayoutModel",
      "_view_count": null,
      "_view_module": "@jupyter-widgets/base",
      "_view_module_version": "1.2.0",
      "_view_name": "LayoutView",
      "align_content": null,
      "align_items": null,
      "align_self": null,
      "border": null,
      "bottom": null,
      "display": null,
      "flex": null,
      "flex_flow": null,
      "grid_area": null,
      "grid_auto_columns": null,
      "grid_auto_flow": null,
      "grid_auto_rows": null,
      "grid_column": null,
      "grid_gap": null,
      "grid_row": null,
      "grid_template_areas": null,
      "grid_template_columns": null,
      "grid_template_rows": null,
      "height": null,
      "justify_content": null,
      "justify_items": null,
      "left": null,
      "margin": null,
      "max_height": null,
      "max_width": null,
      "min_height": null,
      "min_width": null,
      "object_fit": null,
      "object_position": null,
      "order": null,
      "overflow": null,
      "overflow_x": null,
      "overflow_y": null,
      "padding": null,
      "right": null,
      "top": null,
      "visibility": null,
      "width": null
     }
    },
    "5098de64961446348b2da513033b6cb9": {
     "model_module": "@jupyter-widgets/controls",
     "model_module_version": "1.5.0",
     "model_name": "DescriptionStyleModel",
     "state": {
      "_model_module": "@jupyter-widgets/controls",
      "_model_module_version": "1.5.0",
      "_model_name": "DescriptionStyleModel",
      "_view_count": null,
      "_view_module": "@jupyter-widgets/base",
      "_view_module_version": "1.2.0",
      "_view_name": "StyleView",
      "description_width": ""
     }
    },
    "52265afbc63b4befb048bced207d6ef7": {
     "model_module": "@jupyter-widgets/controls",
     "model_module_version": "1.5.0",
     "model_name": "HTMLModel",
     "state": {
      "_dom_classes": [],
      "_model_module": "@jupyter-widgets/controls",
      "_model_module_version": "1.5.0",
      "_model_name": "HTMLModel",
      "_view_count": null,
      "_view_module": "@jupyter-widgets/controls",
      "_view_module_version": "1.5.0",
      "_view_name": "HTMLView",
      "description": "",
      "description_tooltip": null,
      "layout": "IPY_MODEL_5544efc1869b49938adcf293e748fc57",
      "placeholder": "​",
      "style": "IPY_MODEL_1a9865ba3d7d4286b4e04d9c2ae140b9",
      "value": " 2/2 [00:00&lt;00:00, 37.31it/s]"
     }
    },
    "5544efc1869b49938adcf293e748fc57": {
     "model_module": "@jupyter-widgets/base",
     "model_module_version": "1.2.0",
     "model_name": "LayoutModel",
     "state": {
      "_model_module": "@jupyter-widgets/base",
      "_model_module_version": "1.2.0",
      "_model_name": "LayoutModel",
      "_view_count": null,
      "_view_module": "@jupyter-widgets/base",
      "_view_module_version": "1.2.0",
      "_view_name": "LayoutView",
      "align_content": null,
      "align_items": null,
      "align_self": null,
      "border": null,
      "bottom": null,
      "display": null,
      "flex": null,
      "flex_flow": null,
      "grid_area": null,
      "grid_auto_columns": null,
      "grid_auto_flow": null,
      "grid_auto_rows": null,
      "grid_column": null,
      "grid_gap": null,
      "grid_row": null,
      "grid_template_areas": null,
      "grid_template_columns": null,
      "grid_template_rows": null,
      "height": null,
      "justify_content": null,
      "justify_items": null,
      "left": null,
      "margin": null,
      "max_height": null,
      "max_width": null,
      "min_height": null,
      "min_width": null,
      "object_fit": null,
      "object_position": null,
      "order": null,
      "overflow": null,
      "overflow_x": null,
      "overflow_y": null,
      "padding": null,
      "right": null,
      "top": null,
      "visibility": null,
      "width": null
     }
    },
    "58770ddaa1a443149ac74e6d3472189e": {
     "model_module": "@jupyter-widgets/controls",
     "model_module_version": "1.5.0",
     "model_name": "HTMLModel",
     "state": {
      "_dom_classes": [],
      "_model_module": "@jupyter-widgets/controls",
      "_model_module_version": "1.5.0",
      "_model_name": "HTMLModel",
      "_view_count": null,
      "_view_module": "@jupyter-widgets/controls",
      "_view_module_version": "1.5.0",
      "_view_name": "HTMLView",
      "description": "",
      "description_tooltip": null,
      "layout": "IPY_MODEL_dad88d76b785490692ce29bc2680de42",
      "placeholder": "​",
      "style": "IPY_MODEL_5098de64961446348b2da513033b6cb9",
      "value": "100%"
     }
    },
    "659eff87bd6f45bcb0b939aabb6f2910": {
     "model_module": "@jupyter-widgets/base",
     "model_module_version": "1.2.0",
     "model_name": "LayoutModel",
     "state": {
      "_model_module": "@jupyter-widgets/base",
      "_model_module_version": "1.2.0",
      "_model_name": "LayoutModel",
      "_view_count": null,
      "_view_module": "@jupyter-widgets/base",
      "_view_module_version": "1.2.0",
      "_view_name": "LayoutView",
      "align_content": null,
      "align_items": null,
      "align_self": null,
      "border": null,
      "bottom": null,
      "display": null,
      "flex": null,
      "flex_flow": null,
      "grid_area": null,
      "grid_auto_columns": null,
      "grid_auto_flow": null,
      "grid_auto_rows": null,
      "grid_column": null,
      "grid_gap": null,
      "grid_row": null,
      "grid_template_areas": null,
      "grid_template_columns": null,
      "grid_template_rows": null,
      "height": null,
      "justify_content": null,
      "justify_items": null,
      "left": null,
      "margin": null,
      "max_height": null,
      "max_width": null,
      "min_height": null,
      "min_width": null,
      "object_fit": null,
      "object_position": null,
      "order": null,
      "overflow": null,
      "overflow_x": null,
      "overflow_y": null,
      "padding": null,
      "right": null,
      "top": null,
      "visibility": null,
      "width": null
     }
    },
    "662d862ef98b429ea82ec5a43c3f5f3f": {
     "model_module": "@jupyter-widgets/base",
     "model_module_version": "1.2.0",
     "model_name": "LayoutModel",
     "state": {
      "_model_module": "@jupyter-widgets/base",
      "_model_module_version": "1.2.0",
      "_model_name": "LayoutModel",
      "_view_count": null,
      "_view_module": "@jupyter-widgets/base",
      "_view_module_version": "1.2.0",
      "_view_name": "LayoutView",
      "align_content": null,
      "align_items": null,
      "align_self": null,
      "border": null,
      "bottom": null,
      "display": null,
      "flex": null,
      "flex_flow": null,
      "grid_area": null,
      "grid_auto_columns": null,
      "grid_auto_flow": null,
      "grid_auto_rows": null,
      "grid_column": null,
      "grid_gap": null,
      "grid_row": null,
      "grid_template_areas": null,
      "grid_template_columns": null,
      "grid_template_rows": null,
      "height": null,
      "justify_content": null,
      "justify_items": null,
      "left": null,
      "margin": null,
      "max_height": null,
      "max_width": null,
      "min_height": null,
      "min_width": null,
      "object_fit": null,
      "object_position": null,
      "order": null,
      "overflow": null,
      "overflow_x": null,
      "overflow_y": null,
      "padding": null,
      "right": null,
      "top": null,
      "visibility": null,
      "width": null
     }
    },
    "6c9014bf948d49999e32c61d5e526ff5": {
     "model_module": "@jupyter-widgets/controls",
     "model_module_version": "1.5.0",
     "model_name": "ProgressStyleModel",
     "state": {
      "_model_module": "@jupyter-widgets/controls",
      "_model_module_version": "1.5.0",
      "_model_name": "ProgressStyleModel",
      "_view_count": null,
      "_view_module": "@jupyter-widgets/base",
      "_view_module_version": "1.2.0",
      "_view_name": "StyleView",
      "bar_color": null,
      "description_width": ""
     }
    },
    "77865238f3a54734ac53215824495919": {
     "model_module": "@jupyter-widgets/base",
     "model_module_version": "1.2.0",
     "model_name": "LayoutModel",
     "state": {
      "_model_module": "@jupyter-widgets/base",
      "_model_module_version": "1.2.0",
      "_model_name": "LayoutModel",
      "_view_count": null,
      "_view_module": "@jupyter-widgets/base",
      "_view_module_version": "1.2.0",
      "_view_name": "LayoutView",
      "align_content": null,
      "align_items": null,
      "align_self": null,
      "border": null,
      "bottom": null,
      "display": null,
      "flex": null,
      "flex_flow": null,
      "grid_area": null,
      "grid_auto_columns": null,
      "grid_auto_flow": null,
      "grid_auto_rows": null,
      "grid_column": null,
      "grid_gap": null,
      "grid_row": null,
      "grid_template_areas": null,
      "grid_template_columns": null,
      "grid_template_rows": null,
      "height": null,
      "justify_content": null,
      "justify_items": null,
      "left": null,
      "margin": null,
      "max_height": null,
      "max_width": null,
      "min_height": null,
      "min_width": null,
      "object_fit": null,
      "object_position": null,
      "order": null,
      "overflow": null,
      "overflow_x": null,
      "overflow_y": null,
      "padding": null,
      "right": null,
      "top": null,
      "visibility": null,
      "width": null
     }
    },
    "7e4522515b92450f9ef7f407506f2d2c": {
     "model_module": "@jupyter-widgets/base",
     "model_module_version": "1.2.0",
     "model_name": "LayoutModel",
     "state": {
      "_model_module": "@jupyter-widgets/base",
      "_model_module_version": "1.2.0",
      "_model_name": "LayoutModel",
      "_view_count": null,
      "_view_module": "@jupyter-widgets/base",
      "_view_module_version": "1.2.0",
      "_view_name": "LayoutView",
      "align_content": null,
      "align_items": null,
      "align_self": null,
      "border": null,
      "bottom": null,
      "display": null,
      "flex": null,
      "flex_flow": null,
      "grid_area": null,
      "grid_auto_columns": null,
      "grid_auto_flow": null,
      "grid_auto_rows": null,
      "grid_column": null,
      "grid_gap": null,
      "grid_row": null,
      "grid_template_areas": null,
      "grid_template_columns": null,
      "grid_template_rows": null,
      "height": null,
      "justify_content": null,
      "justify_items": null,
      "left": null,
      "margin": null,
      "max_height": null,
      "max_width": null,
      "min_height": null,
      "min_width": null,
      "object_fit": null,
      "object_position": null,
      "order": null,
      "overflow": null,
      "overflow_x": null,
      "overflow_y": null,
      "padding": null,
      "right": null,
      "top": null,
      "visibility": null,
      "width": null
     }
    },
    "7f9793fdcbb343eda0e241f4e7694ce4": {
     "model_module": "@jupyter-widgets/controls",
     "model_module_version": "1.5.0",
     "model_name": "HBoxModel",
     "state": {
      "_dom_classes": [],
      "_model_module": "@jupyter-widgets/controls",
      "_model_module_version": "1.5.0",
      "_model_name": "HBoxModel",
      "_view_count": null,
      "_view_module": "@jupyter-widgets/controls",
      "_view_module_version": "1.5.0",
      "_view_name": "HBoxView",
      "box_style": "",
      "children": [
       "IPY_MODEL_58770ddaa1a443149ac74e6d3472189e",
       "IPY_MODEL_814f4937fa5340d2b27dcd5a31496541",
       "IPY_MODEL_f90e14221f2d4e0bbebe8908ac4af2ee"
      ],
      "layout": "IPY_MODEL_fec81237ea4541288bf7276d0a5726ff"
     }
    },
    "812c3daceef441be87ae904497a4b096": {
     "model_module": "@jupyter-widgets/base",
     "model_module_version": "1.2.0",
     "model_name": "LayoutModel",
     "state": {
      "_model_module": "@jupyter-widgets/base",
      "_model_module_version": "1.2.0",
      "_model_name": "LayoutModel",
      "_view_count": null,
      "_view_module": "@jupyter-widgets/base",
      "_view_module_version": "1.2.0",
      "_view_name": "LayoutView",
      "align_content": null,
      "align_items": null,
      "align_self": null,
      "border": null,
      "bottom": null,
      "display": null,
      "flex": null,
      "flex_flow": null,
      "grid_area": null,
      "grid_auto_columns": null,
      "grid_auto_flow": null,
      "grid_auto_rows": null,
      "grid_column": null,
      "grid_gap": null,
      "grid_row": null,
      "grid_template_areas": null,
      "grid_template_columns": null,
      "grid_template_rows": null,
      "height": null,
      "justify_content": null,
      "justify_items": null,
      "left": null,
      "margin": null,
      "max_height": null,
      "max_width": null,
      "min_height": null,
      "min_width": null,
      "object_fit": null,
      "object_position": null,
      "order": null,
      "overflow": null,
      "overflow_x": null,
      "overflow_y": null,
      "padding": null,
      "right": null,
      "top": null,
      "visibility": null,
      "width": null
     }
    },
    "814f4937fa5340d2b27dcd5a31496541": {
     "model_module": "@jupyter-widgets/controls",
     "model_module_version": "1.5.0",
     "model_name": "FloatProgressModel",
     "state": {
      "_dom_classes": [],
      "_model_module": "@jupyter-widgets/controls",
      "_model_module_version": "1.5.0",
      "_model_name": "FloatProgressModel",
      "_view_count": null,
      "_view_module": "@jupyter-widgets/controls",
      "_view_module_version": "1.5.0",
      "_view_name": "ProgressView",
      "bar_style": "success",
      "description": "",
      "description_tooltip": null,
      "layout": "IPY_MODEL_662d862ef98b429ea82ec5a43c3f5f3f",
      "max": 10760,
      "min": 0,
      "orientation": "horizontal",
      "style": "IPY_MODEL_6c9014bf948d49999e32c61d5e526ff5",
      "value": 10760
     }
    },
    "81d0c4c640dc421989b453adb6642407": {
     "model_module": "@jupyter-widgets/controls",
     "model_module_version": "1.5.0",
     "model_name": "DescriptionStyleModel",
     "state": {
      "_model_module": "@jupyter-widgets/controls",
      "_model_module_version": "1.5.0",
      "_model_name": "DescriptionStyleModel",
      "_view_count": null,
      "_view_module": "@jupyter-widgets/base",
      "_view_module_version": "1.2.0",
      "_view_name": "StyleView",
      "description_width": ""
     }
    },
    "8db2723111024532a456ed873a6943fa": {
     "model_module": "@jupyter-widgets/controls",
     "model_module_version": "1.5.0",
     "model_name": "DescriptionStyleModel",
     "state": {
      "_model_module": "@jupyter-widgets/controls",
      "_model_module_version": "1.5.0",
      "_model_name": "DescriptionStyleModel",
      "_view_count": null,
      "_view_module": "@jupyter-widgets/base",
      "_view_module_version": "1.2.0",
      "_view_name": "StyleView",
      "description_width": ""
     }
    },
    "9b0716e7c43e4d86819116879a888bd9": {
     "model_module": "@jupyter-widgets/base",
     "model_module_version": "1.2.0",
     "model_name": "LayoutModel",
     "state": {
      "_model_module": "@jupyter-widgets/base",
      "_model_module_version": "1.2.0",
      "_model_name": "LayoutModel",
      "_view_count": null,
      "_view_module": "@jupyter-widgets/base",
      "_view_module_version": "1.2.0",
      "_view_name": "LayoutView",
      "align_content": null,
      "align_items": null,
      "align_self": null,
      "border": null,
      "bottom": null,
      "display": null,
      "flex": null,
      "flex_flow": null,
      "grid_area": null,
      "grid_auto_columns": null,
      "grid_auto_flow": null,
      "grid_auto_rows": null,
      "grid_column": null,
      "grid_gap": null,
      "grid_row": null,
      "grid_template_areas": null,
      "grid_template_columns": null,
      "grid_template_rows": null,
      "height": null,
      "justify_content": null,
      "justify_items": null,
      "left": null,
      "margin": null,
      "max_height": null,
      "max_width": null,
      "min_height": null,
      "min_width": null,
      "object_fit": null,
      "object_position": null,
      "order": null,
      "overflow": null,
      "overflow_x": null,
      "overflow_y": null,
      "padding": null,
      "right": null,
      "top": null,
      "visibility": null,
      "width": null
     }
    },
    "9c3415fa358e4d509b58462659e1380c": {
     "model_module": "@jupyter-widgets/controls",
     "model_module_version": "1.5.0",
     "model_name": "HTMLModel",
     "state": {
      "_dom_classes": [],
      "_model_module": "@jupyter-widgets/controls",
      "_model_module_version": "1.5.0",
      "_model_name": "HTMLModel",
      "_view_count": null,
      "_view_module": "@jupyter-widgets/controls",
      "_view_module_version": "1.5.0",
      "_view_name": "HTMLView",
      "description": "",
      "description_tooltip": null,
      "layout": "IPY_MODEL_812c3daceef441be87ae904497a4b096",
      "placeholder": "​",
      "style": "IPY_MODEL_bc61276211554a0abf4742061134d668",
      "value": " 32165/32165 [00:08&lt;00:00, 4046.41it/s]"
     }
    },
    "9cb3938595d6427db8d9d1e7512c4f8e": {
     "model_module": "@jupyter-widgets/controls",
     "model_module_version": "1.5.0",
     "model_name": "HTMLModel",
     "state": {
      "_dom_classes": [],
      "_model_module": "@jupyter-widgets/controls",
      "_model_module_version": "1.5.0",
      "_model_name": "HTMLModel",
      "_view_count": null,
      "_view_module": "@jupyter-widgets/controls",
      "_view_module_version": "1.5.0",
      "_view_name": "HTMLView",
      "description": "",
      "description_tooltip": null,
      "layout": "IPY_MODEL_289360061d8b41a48025b3f1680d0636",
      "placeholder": "​",
      "style": "IPY_MODEL_c3bad3e09ae041ff9447bfadc8c55d57",
      "value": "100%"
     }
    },
    "b878b3d88ce644d49b6d9daeed82d02f": {
     "model_module": "@jupyter-widgets/controls",
     "model_module_version": "1.5.0",
     "model_name": "FloatProgressModel",
     "state": {
      "_dom_classes": [],
      "_model_module": "@jupyter-widgets/controls",
      "_model_module_version": "1.5.0",
      "_model_name": "FloatProgressModel",
      "_view_count": null,
      "_view_module": "@jupyter-widgets/controls",
      "_view_module_version": "1.5.0",
      "_view_name": "ProgressView",
      "bar_style": "success",
      "description": "",
      "description_tooltip": null,
      "layout": "IPY_MODEL_bec6c158116345da81bd18525e4592e6",
      "max": 32165,
      "min": 0,
      "orientation": "horizontal",
      "style": "IPY_MODEL_4630c923edfb44a7a4977980bc3c8588",
      "value": 32165
     }
    },
    "b8bdbcfaf5db4e4c8b5dbb4912a5625c": {
     "model_module": "@jupyter-widgets/controls",
     "model_module_version": "1.5.0",
     "model_name": "DescriptionStyleModel",
     "state": {
      "_model_module": "@jupyter-widgets/controls",
      "_model_module_version": "1.5.0",
      "_model_name": "DescriptionStyleModel",
      "_view_count": null,
      "_view_module": "@jupyter-widgets/base",
      "_view_module_version": "1.2.0",
      "_view_name": "StyleView",
      "description_width": ""
     }
    },
    "bb145abde90f421bb32ecce2f234ba4f": {
     "model_module": "@jupyter-widgets/controls",
     "model_module_version": "1.5.0",
     "model_name": "HBoxModel",
     "state": {
      "_dom_classes": [],
      "_model_module": "@jupyter-widgets/controls",
      "_model_module_version": "1.5.0",
      "_model_name": "HBoxModel",
      "_view_count": null,
      "_view_module": "@jupyter-widgets/controls",
      "_view_module_version": "1.5.0",
      "_view_name": "HBoxView",
      "box_style": "",
      "children": [
       "IPY_MODEL_9cb3938595d6427db8d9d1e7512c4f8e",
       "IPY_MODEL_471be4cd9ad549158e1cc82c4d0938a7",
       "IPY_MODEL_c5e0a9d5685a4876a3bda4b0b9aa6ea6"
      ],
      "layout": "IPY_MODEL_e5759adbc9b84af58a79075305b63c36"
     }
    },
    "bc61276211554a0abf4742061134d668": {
     "model_module": "@jupyter-widgets/controls",
     "model_module_version": "1.5.0",
     "model_name": "DescriptionStyleModel",
     "state": {
      "_model_module": "@jupyter-widgets/controls",
      "_model_module_version": "1.5.0",
      "_model_name": "DescriptionStyleModel",
      "_view_count": null,
      "_view_module": "@jupyter-widgets/base",
      "_view_module_version": "1.2.0",
      "_view_name": "StyleView",
      "description_width": ""
     }
    },
    "bec6c158116345da81bd18525e4592e6": {
     "model_module": "@jupyter-widgets/base",
     "model_module_version": "1.2.0",
     "model_name": "LayoutModel",
     "state": {
      "_model_module": "@jupyter-widgets/base",
      "_model_module_version": "1.2.0",
      "_model_name": "LayoutModel",
      "_view_count": null,
      "_view_module": "@jupyter-widgets/base",
      "_view_module_version": "1.2.0",
      "_view_name": "LayoutView",
      "align_content": null,
      "align_items": null,
      "align_self": null,
      "border": null,
      "bottom": null,
      "display": null,
      "flex": null,
      "flex_flow": null,
      "grid_area": null,
      "grid_auto_columns": null,
      "grid_auto_flow": null,
      "grid_auto_rows": null,
      "grid_column": null,
      "grid_gap": null,
      "grid_row": null,
      "grid_template_areas": null,
      "grid_template_columns": null,
      "grid_template_rows": null,
      "height": null,
      "justify_content": null,
      "justify_items": null,
      "left": null,
      "margin": null,
      "max_height": null,
      "max_width": null,
      "min_height": null,
      "min_width": null,
      "object_fit": null,
      "object_position": null,
      "order": null,
      "overflow": null,
      "overflow_x": null,
      "overflow_y": null,
      "padding": null,
      "right": null,
      "top": null,
      "visibility": null,
      "width": null
     }
    },
    "c3bad3e09ae041ff9447bfadc8c55d57": {
     "model_module": "@jupyter-widgets/controls",
     "model_module_version": "1.5.0",
     "model_name": "DescriptionStyleModel",
     "state": {
      "_model_module": "@jupyter-widgets/controls",
      "_model_module_version": "1.5.0",
      "_model_name": "DescriptionStyleModel",
      "_view_count": null,
      "_view_module": "@jupyter-widgets/base",
      "_view_module_version": "1.2.0",
      "_view_name": "StyleView",
      "description_width": ""
     }
    },
    "c4c9aade6f1b4459b8b0c8e123c75062": {
     "model_module": "@jupyter-widgets/controls",
     "model_module_version": "1.5.0",
     "model_name": "ProgressStyleModel",
     "state": {
      "_model_module": "@jupyter-widgets/controls",
      "_model_module_version": "1.5.0",
      "_model_name": "ProgressStyleModel",
      "_view_count": null,
      "_view_module": "@jupyter-widgets/base",
      "_view_module_version": "1.2.0",
      "_view_name": "StyleView",
      "bar_color": null,
      "description_width": ""
     }
    },
    "c5e0a9d5685a4876a3bda4b0b9aa6ea6": {
     "model_module": "@jupyter-widgets/controls",
     "model_module_version": "1.5.0",
     "model_name": "HTMLModel",
     "state": {
      "_dom_classes": [],
      "_model_module": "@jupyter-widgets/controls",
      "_model_module_version": "1.5.0",
      "_model_name": "HTMLModel",
      "_view_count": null,
      "_view_module": "@jupyter-widgets/controls",
      "_view_module_version": "1.5.0",
      "_view_name": "HTMLView",
      "description": "",
      "description_tooltip": null,
      "layout": "IPY_MODEL_7e4522515b92450f9ef7f407506f2d2c",
      "placeholder": "​",
      "style": "IPY_MODEL_db34b5d187004d08b47a6fd2ef6b20c3",
      "value": " 32165/32165 [12:19&lt;00:00, 36.09it/s]"
     }
    },
    "c74714c200dc45bd9a9f376e14d5d29f": {
     "model_module": "@jupyter-widgets/base",
     "model_module_version": "1.2.0",
     "model_name": "LayoutModel",
     "state": {
      "_model_module": "@jupyter-widgets/base",
      "_model_module_version": "1.2.0",
      "_model_name": "LayoutModel",
      "_view_count": null,
      "_view_module": "@jupyter-widgets/base",
      "_view_module_version": "1.2.0",
      "_view_name": "LayoutView",
      "align_content": null,
      "align_items": null,
      "align_self": null,
      "border": null,
      "bottom": null,
      "display": null,
      "flex": null,
      "flex_flow": null,
      "grid_area": null,
      "grid_auto_columns": null,
      "grid_auto_flow": null,
      "grid_auto_rows": null,
      "grid_column": null,
      "grid_gap": null,
      "grid_row": null,
      "grid_template_areas": null,
      "grid_template_columns": null,
      "grid_template_rows": null,
      "height": null,
      "justify_content": null,
      "justify_items": null,
      "left": null,
      "margin": null,
      "max_height": null,
      "max_width": null,
      "min_height": null,
      "min_width": null,
      "object_fit": null,
      "object_position": null,
      "order": null,
      "overflow": null,
      "overflow_x": null,
      "overflow_y": null,
      "padding": null,
      "right": null,
      "top": null,
      "visibility": null,
      "width": null
     }
    },
    "d1dc1b1f482846f288bc1b48d240da48": {
     "model_module": "@jupyter-widgets/controls",
     "model_module_version": "1.5.0",
     "model_name": "HTMLModel",
     "state": {
      "_dom_classes": [],
      "_model_module": "@jupyter-widgets/controls",
      "_model_module_version": "1.5.0",
      "_model_name": "HTMLModel",
      "_view_count": null,
      "_view_module": "@jupyter-widgets/controls",
      "_view_module_version": "1.5.0",
      "_view_name": "HTMLView",
      "description": "",
      "description_tooltip": null,
      "layout": "IPY_MODEL_4de3d367aa5b487bb6a0c3cbb952b48f",
      "placeholder": "​",
      "style": "IPY_MODEL_8db2723111024532a456ed873a6943fa",
      "value": "100%"
     }
    },
    "dac7d0244876499eb59f08e5065925bb": {
     "model_module": "@jupyter-widgets/controls",
     "model_module_version": "1.5.0",
     "model_name": "HBoxModel",
     "state": {
      "_dom_classes": [],
      "_model_module": "@jupyter-widgets/controls",
      "_model_module_version": "1.5.0",
      "_model_name": "HBoxModel",
      "_view_count": null,
      "_view_module": "@jupyter-widgets/controls",
      "_view_module_version": "1.5.0",
      "_view_name": "HBoxView",
      "box_style": "",
      "children": [
       "IPY_MODEL_1e3c213b369341eab4a556f1d650875f",
       "IPY_MODEL_b878b3d88ce644d49b6d9daeed82d02f",
       "IPY_MODEL_9c3415fa358e4d509b58462659e1380c"
      ],
      "layout": "IPY_MODEL_1dad1a7514a34e5a9063273266bcb3e6"
     }
    },
    "dad88d76b785490692ce29bc2680de42": {
     "model_module": "@jupyter-widgets/base",
     "model_module_version": "1.2.0",
     "model_name": "LayoutModel",
     "state": {
      "_model_module": "@jupyter-widgets/base",
      "_model_module_version": "1.2.0",
      "_model_name": "LayoutModel",
      "_view_count": null,
      "_view_module": "@jupyter-widgets/base",
      "_view_module_version": "1.2.0",
      "_view_name": "LayoutView",
      "align_content": null,
      "align_items": null,
      "align_self": null,
      "border": null,
      "bottom": null,
      "display": null,
      "flex": null,
      "flex_flow": null,
      "grid_area": null,
      "grid_auto_columns": null,
      "grid_auto_flow": null,
      "grid_auto_rows": null,
      "grid_column": null,
      "grid_gap": null,
      "grid_row": null,
      "grid_template_areas": null,
      "grid_template_columns": null,
      "grid_template_rows": null,
      "height": null,
      "justify_content": null,
      "justify_items": null,
      "left": null,
      "margin": null,
      "max_height": null,
      "max_width": null,
      "min_height": null,
      "min_width": null,
      "object_fit": null,
      "object_position": null,
      "order": null,
      "overflow": null,
      "overflow_x": null,
      "overflow_y": null,
      "padding": null,
      "right": null,
      "top": null,
      "visibility": null,
      "width": null
     }
    },
    "db34b5d187004d08b47a6fd2ef6b20c3": {
     "model_module": "@jupyter-widgets/controls",
     "model_module_version": "1.5.0",
     "model_name": "DescriptionStyleModel",
     "state": {
      "_model_module": "@jupyter-widgets/controls",
      "_model_module_version": "1.5.0",
      "_model_name": "DescriptionStyleModel",
      "_view_count": null,
      "_view_module": "@jupyter-widgets/base",
      "_view_module_version": "1.2.0",
      "_view_name": "StyleView",
      "description_width": ""
     }
    },
    "dfcfc9bfbe8d406890333b9f7698493e": {
     "model_module": "@jupyter-widgets/controls",
     "model_module_version": "1.5.0",
     "model_name": "HBoxModel",
     "state": {
      "_dom_classes": [],
      "_model_module": "@jupyter-widgets/controls",
      "_model_module_version": "1.5.0",
      "_model_name": "HBoxModel",
      "_view_count": null,
      "_view_module": "@jupyter-widgets/controls",
      "_view_module_version": "1.5.0",
      "_view_name": "HBoxView",
      "box_style": "",
      "children": [
       "IPY_MODEL_d1dc1b1f482846f288bc1b48d240da48",
       "IPY_MODEL_f6d87e634a1e435da2734588a81cf2fc",
       "IPY_MODEL_52265afbc63b4befb048bced207d6ef7"
      ],
      "layout": "IPY_MODEL_c74714c200dc45bd9a9f376e14d5d29f"
     }
    },
    "e24b2e545a4d4dd2bc596c704982630d": {
     "model_module": "@jupyter-widgets/base",
     "model_module_version": "1.2.0",
     "model_name": "LayoutModel",
     "state": {
      "_model_module": "@jupyter-widgets/base",
      "_model_module_version": "1.2.0",
      "_model_name": "LayoutModel",
      "_view_count": null,
      "_view_module": "@jupyter-widgets/base",
      "_view_module_version": "1.2.0",
      "_view_name": "LayoutView",
      "align_content": null,
      "align_items": null,
      "align_self": null,
      "border": null,
      "bottom": null,
      "display": null,
      "flex": null,
      "flex_flow": null,
      "grid_area": null,
      "grid_auto_columns": null,
      "grid_auto_flow": null,
      "grid_auto_rows": null,
      "grid_column": null,
      "grid_gap": null,
      "grid_row": null,
      "grid_template_areas": null,
      "grid_template_columns": null,
      "grid_template_rows": null,
      "height": null,
      "justify_content": null,
      "justify_items": null,
      "left": null,
      "margin": null,
      "max_height": null,
      "max_width": null,
      "min_height": null,
      "min_width": null,
      "object_fit": null,
      "object_position": null,
      "order": null,
      "overflow": null,
      "overflow_x": null,
      "overflow_y": null,
      "padding": null,
      "right": null,
      "top": null,
      "visibility": null,
      "width": null
     }
    },
    "e5759adbc9b84af58a79075305b63c36": {
     "model_module": "@jupyter-widgets/base",
     "model_module_version": "1.2.0",
     "model_name": "LayoutModel",
     "state": {
      "_model_module": "@jupyter-widgets/base",
      "_model_module_version": "1.2.0",
      "_model_name": "LayoutModel",
      "_view_count": null,
      "_view_module": "@jupyter-widgets/base",
      "_view_module_version": "1.2.0",
      "_view_name": "LayoutView",
      "align_content": null,
      "align_items": null,
      "align_self": null,
      "border": null,
      "bottom": null,
      "display": null,
      "flex": null,
      "flex_flow": null,
      "grid_area": null,
      "grid_auto_columns": null,
      "grid_auto_flow": null,
      "grid_auto_rows": null,
      "grid_column": null,
      "grid_gap": null,
      "grid_row": null,
      "grid_template_areas": null,
      "grid_template_columns": null,
      "grid_template_rows": null,
      "height": null,
      "justify_content": null,
      "justify_items": null,
      "left": null,
      "margin": null,
      "max_height": null,
      "max_width": null,
      "min_height": null,
      "min_width": null,
      "object_fit": null,
      "object_position": null,
      "order": null,
      "overflow": null,
      "overflow_x": null,
      "overflow_y": null,
      "padding": null,
      "right": null,
      "top": null,
      "visibility": null,
      "width": null
     }
    },
    "f410fd05e99d45b8ba151c7b135dd3a5": {
     "model_module": "@jupyter-widgets/controls",
     "model_module_version": "1.5.0",
     "model_name": "ProgressStyleModel",
     "state": {
      "_model_module": "@jupyter-widgets/controls",
      "_model_module_version": "1.5.0",
      "_model_name": "ProgressStyleModel",
      "_view_count": null,
      "_view_module": "@jupyter-widgets/base",
      "_view_module_version": "1.2.0",
      "_view_name": "StyleView",
      "bar_color": null,
      "description_width": ""
     }
    },
    "f6d87e634a1e435da2734588a81cf2fc": {
     "model_module": "@jupyter-widgets/controls",
     "model_module_version": "1.5.0",
     "model_name": "FloatProgressModel",
     "state": {
      "_dom_classes": [],
      "_model_module": "@jupyter-widgets/controls",
      "_model_module_version": "1.5.0",
      "_model_name": "FloatProgressModel",
      "_view_count": null,
      "_view_module": "@jupyter-widgets/controls",
      "_view_module_version": "1.5.0",
      "_view_name": "ProgressView",
      "bar_style": "success",
      "description": "",
      "description_tooltip": null,
      "layout": "IPY_MODEL_9b0716e7c43e4d86819116879a888bd9",
      "max": 2,
      "min": 0,
      "orientation": "horizontal",
      "style": "IPY_MODEL_f410fd05e99d45b8ba151c7b135dd3a5",
      "value": 2
     }
    },
    "f7ace317f73b404195c3350ab013bdcb": {
     "model_module": "@jupyter-widgets/controls",
     "model_module_version": "1.5.0",
     "model_name": "HTMLModel",
     "state": {
      "_dom_classes": [],
      "_model_module": "@jupyter-widgets/controls",
      "_model_module_version": "1.5.0",
      "_model_name": "HTMLModel",
      "_view_count": null,
      "_view_module": "@jupyter-widgets/controls",
      "_view_module_version": "1.5.0",
      "_view_name": "HTMLView",
      "description": "",
      "description_tooltip": null,
      "layout": "IPY_MODEL_4892ec62afff4771ab06d7676e249975",
      "placeholder": "​",
      "style": "IPY_MODEL_45fdc9af8b8c4908b2aa921b79bcf37f",
      "value": " 10760/10760 [03:49&lt;00:00, 47.73it/s]"
     }
    },
    "f8d1c0dc1a944af4951fb77dbf39ef38": {
     "model_module": "@jupyter-widgets/base",
     "model_module_version": "1.2.0",
     "model_name": "LayoutModel",
     "state": {
      "_model_module": "@jupyter-widgets/base",
      "_model_module_version": "1.2.0",
      "_model_name": "LayoutModel",
      "_view_count": null,
      "_view_module": "@jupyter-widgets/base",
      "_view_module_version": "1.2.0",
      "_view_name": "LayoutView",
      "align_content": null,
      "align_items": null,
      "align_self": null,
      "border": null,
      "bottom": null,
      "display": null,
      "flex": null,
      "flex_flow": null,
      "grid_area": null,
      "grid_auto_columns": null,
      "grid_auto_flow": null,
      "grid_auto_rows": null,
      "grid_column": null,
      "grid_gap": null,
      "grid_row": null,
      "grid_template_areas": null,
      "grid_template_columns": null,
      "grid_template_rows": null,
      "height": null,
      "justify_content": null,
      "justify_items": null,
      "left": null,
      "margin": null,
      "max_height": null,
      "max_width": null,
      "min_height": null,
      "min_width": null,
      "object_fit": null,
      "object_position": null,
      "order": null,
      "overflow": null,
      "overflow_x": null,
      "overflow_y": null,
      "padding": null,
      "right": null,
      "top": null,
      "visibility": null,
      "width": null
     }
    },
    "f90e14221f2d4e0bbebe8908ac4af2ee": {
     "model_module": "@jupyter-widgets/controls",
     "model_module_version": "1.5.0",
     "model_name": "HTMLModel",
     "state": {
      "_dom_classes": [],
      "_model_module": "@jupyter-widgets/controls",
      "_model_module_version": "1.5.0",
      "_model_name": "HTMLModel",
      "_view_count": null,
      "_view_module": "@jupyter-widgets/controls",
      "_view_module_version": "1.5.0",
      "_view_name": "HTMLView",
      "description": "",
      "description_tooltip": null,
      "layout": "IPY_MODEL_659eff87bd6f45bcb0b939aabb6f2910",
      "placeholder": "​",
      "style": "IPY_MODEL_81d0c4c640dc421989b453adb6642407",
      "value": " 10760/10760 [00:02&lt;00:00, 2731.53it/s]"
     }
    },
    "fea3cfdddbf54fb1996c8a5da92a5cf8": {
     "model_module": "@jupyter-widgets/base",
     "model_module_version": "1.2.0",
     "model_name": "LayoutModel",
     "state": {
      "_model_module": "@jupyter-widgets/base",
      "_model_module_version": "1.2.0",
      "_model_name": "LayoutModel",
      "_view_count": null,
      "_view_module": "@jupyter-widgets/base",
      "_view_module_version": "1.2.0",
      "_view_name": "LayoutView",
      "align_content": null,
      "align_items": null,
      "align_self": null,
      "border": null,
      "bottom": null,
      "display": null,
      "flex": null,
      "flex_flow": null,
      "grid_area": null,
      "grid_auto_columns": null,
      "grid_auto_flow": null,
      "grid_auto_rows": null,
      "grid_column": null,
      "grid_gap": null,
      "grid_row": null,
      "grid_template_areas": null,
      "grid_template_columns": null,
      "grid_template_rows": null,
      "height": null,
      "justify_content": null,
      "justify_items": null,
      "left": null,
      "margin": null,
      "max_height": null,
      "max_width": null,
      "min_height": null,
      "min_width": null,
      "object_fit": null,
      "object_position": null,
      "order": null,
      "overflow": null,
      "overflow_x": null,
      "overflow_y": null,
      "padding": null,
      "right": null,
      "top": null,
      "visibility": null,
      "width": null
     }
    },
    "fec81237ea4541288bf7276d0a5726ff": {
     "model_module": "@jupyter-widgets/base",
     "model_module_version": "1.2.0",
     "model_name": "LayoutModel",
     "state": {
      "_model_module": "@jupyter-widgets/base",
      "_model_module_version": "1.2.0",
      "_model_name": "LayoutModel",
      "_view_count": null,
      "_view_module": "@jupyter-widgets/base",
      "_view_module_version": "1.2.0",
      "_view_name": "LayoutView",
      "align_content": null,
      "align_items": null,
      "align_self": null,
      "border": null,
      "bottom": null,
      "display": null,
      "flex": null,
      "flex_flow": null,
      "grid_area": null,
      "grid_auto_columns": null,
      "grid_auto_flow": null,
      "grid_auto_rows": null,
      "grid_column": null,
      "grid_gap": null,
      "grid_row": null,
      "grid_template_areas": null,
      "grid_template_columns": null,
      "grid_template_rows": null,
      "height": null,
      "justify_content": null,
      "justify_items": null,
      "left": null,
      "margin": null,
      "max_height": null,
      "max_width": null,
      "min_height": null,
      "min_width": null,
      "object_fit": null,
      "object_position": null,
      "order": null,
      "overflow": null,
      "overflow_x": null,
      "overflow_y": null,
      "padding": null,
      "right": null,
      "top": null,
      "visibility": null,
      "width": null
     }
    }
   }
  }
 },
 "nbformat": 4,
 "nbformat_minor": 1
}
